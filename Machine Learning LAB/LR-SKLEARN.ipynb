{
 "cells": [
  {
   "cell_type": "code",
   "execution_count": 1,
   "id": "cfb2e06f",
   "metadata": {},
   "outputs": [
    {
     "name": "stdout",
     "output_type": "stream",
     "text": [
      "(155, 20)\n"
     ]
    },
    {
     "data": {
      "text/plain": [
       "age                 0\n",
       "sex                 0\n",
       "steroid             1\n",
       "antivirals          0\n",
       "fatigue             1\n",
       "malaise             1\n",
       "anorexia            1\n",
       "liver_big          10\n",
       "liver_firm         11\n",
       "spleen_palpable     5\n",
       "spiders             5\n",
       "ascites             5\n",
       "varices             5\n",
       "bilirubin           6\n",
       "alk_phosphate      29\n",
       "sgot                4\n",
       "albumin            16\n",
       "protime            67\n",
       "histology           0\n",
       "class               0\n",
       "dtype: int64"
      ]
     },
     "execution_count": 1,
     "metadata": {},
     "output_type": "execute_result"
    }
   ],
   "source": [
    "from sklearn.linear_model import LinearRegression\n",
    "from sklearn.model_selection import train_test_split\n",
    "import pandas as pd\n",
    "import matplotlib.pyplot as plt  \n",
    "import numpy as np\n",
    "from sklearn.metrics import mean_squared_error\n",
    "from sklearn.metrics import mean_squared_error, r2_score\n",
    "\n",
    "data=pd.read_csv('hepatitis_csv.csv')\n",
    "threshold=0.7\n",
    "data = data[data.columns[data.isnull().mean() < threshold]]\n",
    "print(data.shape)\n",
    "data = data.dropna(how='all')\n",
    "data.isna().sum()"
   ]
  },
  {
   "cell_type": "code",
   "execution_count": 2,
   "id": "162c821c",
   "metadata": {},
   "outputs": [
    {
     "data": {
      "text/plain": [
       "'Consider the hepatitis/ diabetes csv file, create the regression model display the co-efficients (B0-intercept\\nand B1-Slope), RMSE and predict the response. Plot the graph x v/s y in yellow and x v/s prediction in green.'"
      ]
     },
     "execution_count": 2,
     "metadata": {},
     "output_type": "execute_result"
    }
   ],
   "source": [
    "'''Consider the hepatitis/ diabetes csv file, create the regression model display the co-efficients (B0-intercept\n",
    "and B1-Slope), RMSE and predict the response. Plot the graph x v/s y in yellow and x v/s prediction in green.'''"
   ]
  },
  {
   "cell_type": "code",
   "execution_count": 3,
   "id": "faaa2277",
   "metadata": {},
   "outputs": [
    {
     "data": {
      "text/plain": [
       "age                0\n",
       "sex                0\n",
       "steroid            0\n",
       "antivirals         0\n",
       "fatigue            0\n",
       "malaise            0\n",
       "anorexia           0\n",
       "liver_big          0\n",
       "liver_firm         0\n",
       "spleen_palpable    0\n",
       "spiders            0\n",
       "ascites            0\n",
       "varices            0\n",
       "bilirubin          0\n",
       "alk_phosphate      0\n",
       "sgot               0\n",
       "albumin            0\n",
       "protime            0\n",
       "histology          0\n",
       "class              0\n",
       "dtype: int64"
      ]
     },
     "execution_count": 3,
     "metadata": {},
     "output_type": "execute_result"
    }
   ],
   "source": [
    "data['steroid'].fillna(data['steroid'].value_counts().idxmax(), inplace=True)\n",
    "data['fatigue'].fillna(data['fatigue'].value_counts().idxmax(), inplace=True)\n",
    "data['malaise'].fillna(data['malaise'].value_counts().idxmax(), inplace=True)\n",
    "data['anorexia'].fillna(data['anorexia'].value_counts().idxmax(), inplace=True)\n",
    "data['liver_big'].fillna(data['liver_big'].value_counts().idxmax(), inplace=True)\n",
    "data['liver_firm'].fillna(data['liver_firm'].value_counts().idxmax(), inplace=True)\n",
    "data['spleen_palpable'].fillna(data['spleen_palpable'].value_counts().idxmax(), inplace=True)\n",
    "data['spiders'].fillna(data['spiders'].value_counts().idxmax(), inplace=True)\n",
    "data['ascites'].fillna(data['ascites'].value_counts().idxmax(), inplace=True)\n",
    "data['varices'].fillna(data['varices'].value_counts().idxmax(), inplace=True)\n",
    "data['bilirubin'].fillna(data['bilirubin'].value_counts().idxmax(), inplace=True)\n",
    "data['alk_phosphate'].fillna(data['alk_phosphate'].value_counts().idxmax(), inplace=True)\n",
    "data['sgot'].fillna(data['sgot'].value_counts().idxmax(), inplace=True)\n",
    "data['albumin'].fillna(data['albumin'].value_counts().idxmax(), inplace=True)\n",
    "data['protime'].fillna(data['protime'].value_counts().idxmax(), inplace=True)\n",
    "\n",
    "data.isna().sum()\n"
   ]
  },
  {
   "cell_type": "code",
   "execution_count": 4,
   "id": "18d59cf0",
   "metadata": {},
   "outputs": [
    {
     "name": "stdout",
     "output_type": "stream",
     "text": [
      "X-TRAIN\n",
      "[[38]\n",
      " [41]\n",
      " [34]\n",
      " [44]\n",
      " [32]\n",
      " [60]\n",
      " [27]\n",
      " [40]\n",
      " [41]\n",
      " [72]\n",
      " [45]\n",
      " [30]\n",
      " [39]\n",
      " [47]\n",
      " [36]\n",
      " [39]\n",
      " [22]\n",
      " [51]\n",
      " [51]\n",
      " [31]\n",
      " [20]\n",
      " [25]\n",
      " [31]\n",
      " [20]\n",
      " [45]\n",
      " [28]\n",
      " [30]\n",
      " [58]\n",
      " [33]\n",
      " [56]\n",
      " [25]\n",
      " [36]\n",
      " [22]\n",
      " [36]\n",
      " [51]\n",
      " [52]\n",
      " [49]\n",
      " [35]\n",
      " [35]\n",
      " [48]\n",
      " [39]\n",
      " [24]\n",
      " [51]\n",
      " [34]\n",
      " [34]\n",
      " [34]\n",
      " [27]\n",
      " [62]\n",
      " [38]\n",
      " [ 7]\n",
      " [32]\n",
      " [23]\n",
      " [37]\n",
      " [40]\n",
      " [42]\n",
      " [54]\n",
      " [34]\n",
      " [23]\n",
      " [50]\n",
      " [61]\n",
      " [43]\n",
      " [47]\n",
      " [50]\n",
      " [61]\n",
      " [32]\n",
      " [59]\n",
      " [42]\n",
      " [31]\n",
      " [31]\n",
      " [52]\n",
      " [38]\n",
      " [58]\n",
      " [23]\n",
      " [30]\n",
      " [62]\n",
      " [27]\n",
      " [41]\n",
      " [38]\n",
      " [57]\n",
      " [39]\n",
      " [44]\n",
      " [33]\n",
      " [28]\n",
      " [30]\n",
      " [34]\n",
      " [36]\n",
      " [54]\n",
      " [26]\n",
      " [32]\n",
      " [42]\n",
      " [45]\n",
      " [38]\n",
      " [30]\n",
      " [45]\n",
      " [48]\n",
      " [66]\n",
      " [69]\n",
      " [52]\n",
      " [30]\n",
      " [36]\n",
      " [39]\n",
      " [46]\n",
      " [37]\n",
      " [45]\n",
      " [49]\n",
      " [38]\n",
      " [34]\n",
      " [30]]\n",
      "x-test\n",
      "[[36]\n",
      " [39]\n",
      " [50]\n",
      " [57]\n",
      " [37]\n",
      " [54]\n",
      " [47]\n",
      " [51]\n",
      " [37]\n",
      " [56]\n",
      " [37]\n",
      " [30]\n",
      " [28]\n",
      " [70]\n",
      " [38]\n",
      " [64]\n",
      " [50]\n",
      " [36]\n",
      " [42]\n",
      " [65]\n",
      " [25]\n",
      " [50]\n",
      " [27]\n",
      " [42]\n",
      " [28]\n",
      " [54]\n",
      " [40]\n",
      " [67]\n",
      " [61]\n",
      " [54]\n",
      " [56]\n",
      " [78]\n",
      " [33]\n",
      " [47]\n",
      " [24]\n",
      " [38]\n",
      " [20]\n",
      " [44]\n",
      " [51]\n",
      " [50]\n",
      " [28]\n",
      " [53]\n",
      " [34]\n",
      " [49]\n",
      " [44]\n",
      " [44]\n",
      " [23]]\n",
      "y-train\n",
      "49     4.2\n",
      "32     5.0\n",
      "56     4.0\n",
      "97     3.5\n",
      "61     4.0\n",
      "      ... \n",
      "113    3.0\n",
      "64     3.5\n",
      "15     2.9\n",
      "125    4.1\n",
      "9      3.9\n",
      "Name: albumin, Length: 108, dtype: float64\n",
      "y-test\n",
      "81     4.2\n",
      "10     4.4\n",
      "90     3.4\n",
      "67     2.6\n",
      "55     4.0\n",
      "119    3.8\n",
      "98     4.2\n",
      "136    4.5\n",
      "60     4.5\n",
      "43     4.4\n",
      "35     4.2\n",
      "96     3.9\n",
      "85     4.0\n",
      "147    2.8\n",
      "19     4.2\n",
      "58     4.3\n",
      "1      3.5\n",
      "63     3.1\n",
      "91     3.3\n",
      "39     2.9\n",
      "24     4.3\n",
      "127    2.4\n",
      "21     4.1\n",
      "38     4.0\n",
      "79     4.9\n",
      "130    4.5\n",
      "95     4.2\n",
      "83     2.9\n",
      "118    4.0\n",
      "128    3.1\n",
      "66     3.0\n",
      "2      4.0\n",
      "109    3.0\n",
      "104    2.1\n",
      "70     4.3\n",
      "137    3.5\n",
      "121    2.9\n",
      "69     3.7\n",
      "72     4.4\n",
      "124    4.0\n",
      "47     3.3\n",
      "153    4.1\n",
      "78     4.4\n",
      "26     3.7\n",
      "52     4.4\n",
      "151    4.3\n",
      "41     4.6\n",
      "Name: albumin, dtype: float64\n"
     ]
    }
   ],
   "source": [
    "X=data.iloc[:,0]\n",
    "y=data.iloc[:,-4]\n",
    "x=np.array(X).reshape(-1,1)\n",
    "X_train, X_test, Y_train, Y_test = train_test_split( x, y, test_size = 0.3, random_state = 10 )  \n",
    "print('X-TRAIN')\n",
    "print(X_train)\n",
    "print('x-test')\n",
    "print(X_test)\n",
    "print('y-train')\n",
    "print(Y_train)\n",
    "print('y-test')\n",
    "print(Y_test)\n"
   ]
  },
  {
   "cell_type": "code",
   "execution_count": 5,
   "id": "9e380bda",
   "metadata": {},
   "outputs": [
    {
     "name": "stdout",
     "output_type": "stream",
     "text": [
      "Coefficient of determination=0.05598555395220661\n",
      "intercept: 4.283377173842285\n",
      "slope: [-0.01077355]\n",
      "predicted response:\n",
      "[3.89552923 3.86320857 3.74469948 3.6692846  3.88475568 3.70160526\n",
      " 3.77702014 3.73392592 3.88475568 3.68005815 3.88475568 3.96017056\n",
      " 3.98171766 3.5292284  3.87398212 3.59386972 3.74469948 3.89552923\n",
      " 3.83088791 3.58309617 4.01403833 3.74469948 3.99249122 3.83088791\n",
      " 3.98171766 3.70160526 3.85243502 3.56154906 3.62619038 3.70160526\n",
      " 3.68005815 3.44303997 3.92784989 3.77702014 4.02481188 3.87398212\n",
      " 4.0679061  3.8093408  3.73392592 3.74469948 3.98171766 3.71237882\n",
      " 3.91707634 3.75547303 3.8093408  3.8093408  4.03558543]\n",
      "Mean square error: 0.3997152909038894\n",
      "Coefficient of determination: 0.06942047383469108\n"
     ]
    }
   ],
   "source": [
    "regressor=LinearRegression()\n",
    "regressor.fit(X_train,Y_train)\n",
    "y_pred= regressor.predict(X_test)\n",
    "r_sq=regressor.score(x,y)\n",
    "print(f\"Coefficient of determination={r_sq}\")\n",
    "print(f\"intercept: {regressor.intercept_}\")\n",
    "print(f\"slope: {regressor.coef_}\")\n",
    "print(f\"predicted response:\\n{y_pred}\")\n",
    "print(f\"Mean square error: {mean_squared_error( Y_test, y_pred)}\")\n",
    "print(f\"Coefficient of determination: {r2_score( Y_test, y_pred )}\")"
   ]
  },
  {
   "cell_type": "code",
   "execution_count": 6,
   "id": "16e3baa4",
   "metadata": {
    "scrolled": true
   },
   "outputs": [
    {
     "data": {
      "image/png": "[encoded data removed]",
      "text/plain": [
       "<Figure size 640x480 with 1 Axes>"
      ]
     },
     "metadata": {},
     "output_type": "display_data"
    }
   ],
   "source": [
    "plt.scatter(X_train, Y_train, color='yellow',marker='o') # plotting the observation line\n",
    " \n",
    "plt.plot(X_test, regressor.predict(X_test), color='green',linewidth=3) # plotting the regression line\n",
    " \n",
    "plt.title(\"Age vs Albumin\") # stating the title of the graph\n",
    " \n",
    "plt.xlabel(\"Age\") # adding the name of x-axis\n",
    "plt.ylabel(\"Albumin\") # adding the name of y-axis\n",
    "plt.show()"
   ]
  },
  {
   "cell_type": "code",
   "execution_count": 7,
   "id": "32ed00d3",
   "metadata": {},
   "outputs": [
    {
     "name": "stdout",
     "output_type": "stream",
     "text": [
      "[3.96017056 3.85243502 3.74469948]\n"
     ]
    }
   ],
   "source": [
    "a=[30,40,50]\n",
    "a=np.array(a).reshape(-1,1)\n",
    "pred=regressor.predict(a)\n",
    "print(pred)"
   ]
  },
  {
   "cell_type": "code",
   "execution_count": 8,
   "id": "6f8ab4dd",
   "metadata": {},
   "outputs": [
    {
     "data": {
      "image/png": "[encoded data removed]",
      "text/plain": [
       "<Figure size 640x480 with 1 Axes>"
      ]
     },
     "metadata": {},
     "output_type": "display_data"
    }
   ],
   "source": [
    "#plot for the TRAIN\n",
    "  \n",
    "plt.scatter(X_train, Y_train, color='red') # plotting the observation line\n",
    "plt.plot(X_train, regressor.predict(X_train), color='blue') # plotting the regression line\n",
    "plt.title(\"Age vs Albumin\") # stating the title of the graph\n",
    " \n",
    "plt.xlabel(\"Age\") # adding the name of x-axis\n",
    "plt.ylabel(\"Albumin\") # adding the name of y-axis\n",
    "plt.show()"
   ]
  },
  {
   "cell_type": "code",
   "execution_count": 9,
   "id": "daec2feb",
   "metadata": {
    "scrolled": true
   },
   "outputs": [
    {
     "data": {
      "image/png": "[encoded data removed]",
      "text/plain": [
       "<Figure size 640x480 with 1 Axes>"
      ]
     },
     "metadata": {},
     "output_type": "display_data"
    }
   ],
   "source": [
    "#plot for the TEST\n",
    "  \n",
    "plt.scatter(X_test, Y_test, color='red') \n",
    "plt.plot(X_train, regressor.predict(X_train), color='blue')\n",
    "plt.title(\"Age vs Albumin\") # stating the title of the graph\n",
    " \n",
    "plt.xlabel(\"Age\") # adding the name of x-axis\n",
    "plt.ylabel(\"Albumin\") # adding the name of y-axis\n",
    "plt.show()"
   ]
  },
  {
   "cell_type": "code",
   "execution_count": null,
   "id": "da6736e0",
   "metadata": {},
   "outputs": [],
   "source": []
  }
 ],
 "metadata": {
  "kernelspec": {
   "display_name": "Python 3 (ipykernel)",
   "language": "python",
   "name": "python3"
  },
  "language_info": {
   "codemirror_mode": {
    "name": "ipython",
    "version": 3
   },
   "file_extension": ".py",
   "mimetype": "text/x-python",
   "name": "python",
   "nbconvert_exporter": "python",
   "pygments_lexer": "ipython3",
   "version": "3.11.4"
  }
 },
 "nbformat": 4,
 "nbformat_minor": 5
}
