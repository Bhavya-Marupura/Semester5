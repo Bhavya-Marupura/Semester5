{
 "cells": [
  {
   "cell_type": "code",
   "execution_count": 1,
   "id": "3ac32efb",
   "metadata": {},
   "outputs": [
    {
     "name": "stdout",
     "output_type": "stream",
     "text": [
      "bad\n",
      "bad\n",
      "Good\n"
     ]
    },
    {
     "name": "stderr",
     "output_type": "stream",
     "text": [
      "C:\\Users\\Bhavya\\anaconda3\\Lib\\site-packages\\sklearn\\base.py:465: UserWarning: X does not have valid feature names, but KNeighborsClassifier was fitted with feature names\n",
      "  warnings.warn(\n",
      "C:\\Users\\Bhavya\\anaconda3\\Lib\\site-packages\\sklearn\\base.py:465: UserWarning: X does not have valid feature names, but KNeighborsClassifier was fitted with feature names\n",
      "  warnings.warn(\n",
      "C:\\Users\\Bhavya\\anaconda3\\Lib\\site-packages\\sklearn\\base.py:465: UserWarning: X does not have valid feature names, but KNeighborsClassifier was fitted with feature names\n",
      "  warnings.warn(\n"
     ]
    }
   ],
   "source": [
    "from sklearn.neighbors import KNeighborsClassifier\n",
    "import pandas as pd\n",
    "import numpy as np\n",
    "\n",
    "data=pd.read_csv('knndata.csv')\n",
    "x=data.iloc[:,:2]\n",
    "y=data.iloc[:,2].to_numpy()\n",
    "def convert(x):\n",
    "    if x=='Good':\n",
    "        return 1\n",
    "    else:\n",
    "        return 0\n",
    "y=list(map(convert,y))\n",
    "data['Classification']=convert(y)\n",
    "neigh=KNeighborsClassifier(n_neighbors=3,p=3,metric='minkowski')\n",
    "neigh.fit(x,y)\n",
    "print('Good' if neigh.predict([[3,7]]) else 'bad')\n",
    "\n",
    "neigh=KNeighborsClassifier(n_neighbors=3,p=2,metric='euclidean')\n",
    "neigh.fit(x,y)\n",
    "print('Good' if neigh.predict([[3,7]]) else 'bad')\n",
    "\n",
    "neigh=KNeighborsClassifier(n_neighbors=3,p=1,metric='manhattan')\n",
    "neigh.fit(x,y)\n",
    "print('Good' if neigh.predict([[3,7]]) else 'bad')"
   ]
  },
  {
   "cell_type": "code",
   "execution_count": 2,
   "id": "bdc63a6f",
   "metadata": {},
   "outputs": [
    {
     "name": "stdout",
     "output_type": "stream",
     "text": [
      "   Acid Durability  Strength Classification  dist\n",
      "0                7         7            Bad     0\n",
      "1                7         4            Bad     0\n",
      "2                3         4           Good     0\n",
      "3                1         4           Good     0\n",
      "4                4         5            Bad     0\n",
      "5                3         5           Good     0\n",
      "6                4         6            Bad     0\n",
      "7                8         7            Bad     0\n",
      "8                7         9           Good     0\n",
      "9                8         8            Bad     0\n"
     ]
    }
   ],
   "source": [
    "data=pd.read_csv('knndata.csv')\n",
    "\n",
    "def minkowski(x1,x2,y1,y2,p):\n",
    "    dist=((abs(x1-x2))**p+(abs(y1-y2))**p)**(1/p)\n",
    "    return dist\n",
    "def euclidean(x1,x2,y1,y2):\n",
    "    dist=((x1-x2)**2+(y1-y2)**2)**(0.5)\n",
    "    return dist\n",
    "def manhattan(x1,x2,y1,y2):\n",
    "    dist=abs(x1-x2)+abs(y1-y2)\n",
    "    return dist\n",
    "x=3\n",
    "y=7\n",
    "x1=data.iloc[:,0].to_numpy()\n",
    "x2=data.iloc[:,1].to_numpy()\n",
    "data['dist']=[0]*data.shape[0]\n",
    "print(data)\n",
    "k=[1,2,3]"
   ]
  },
  {
   "cell_type": "code",
   "execution_count": 3,
   "id": "6558b5c4",
   "metadata": {},
   "outputs": [
    {
     "name": "stdout",
     "output_type": "stream",
     "text": [
      "euclideans distance\n",
      "   Acid Durability  Strength Classification      dist\n",
      "6                4         6            Bad  1.414214\n",
      "5                3         5           Good  2.000000\n",
      "4                4         5            Bad  2.236068\n",
      "2                3         4           Good  3.000000\n",
      "3                1         4           Good  3.605551\n",
      "0                7         7            Bad  4.000000\n",
      "8                7         9           Good  4.472136\n",
      "1                7         4            Bad  5.000000\n",
      "7                8         7            Bad  5.000000\n",
      "9                8         8            Bad  5.099020\n",
      "['Bad']\n",
      "0,1\n",
      "Bad\n",
      "['Bad', 'Good']\n",
      "1,1\n",
      "cant classify\n",
      "['Bad', 'Good', 'Bad']\n",
      "1,2\n",
      "Bad\n"
     ]
    }
   ],
   "source": [
    "\n",
    "def check(list1):\n",
    "    g=0\n",
    "    b=0\n",
    "    for i in range(len(list1)):\n",
    "        if list1[i]=='Good':\n",
    "            g=g+1\n",
    "        else:\n",
    "            b=b+1\n",
    "    return g,b\n",
    "print('euclideans distance')\n",
    "for i in range(len(x1)):\n",
    "    data.loc[i,'dist']=euclidean(x,x1[i],y,x2[i])\n",
    "data=data.sort_values('dist')\n",
    "print(data)\n",
    "for i in k:\n",
    "    items=[]\n",
    "    dist=data['Classification'].to_numpy()\n",
    "    for j in range(i):\n",
    "        items.append(dist[j])\n",
    "    print(items)\n",
    "    g,b=check(items)\n",
    "    print(f\"{g},{b}\")\n",
    "    if(g>b):\n",
    "        print('Good')\n",
    "    elif(b>g):\n",
    "        print('Bad')\n",
    "    else:\n",
    "        print('cant classify')\n"
   ]
  },
  {
   "cell_type": "code",
   "execution_count": 4,
   "id": "2710990a",
   "metadata": {},
   "outputs": [
    {
     "name": "stdout",
     "output_type": "stream",
     "text": [
      "euclideans distance\n",
      "   Acid Durability  Strength Classification  dist\n",
      "6                4         6            Bad   2.0\n",
      "5                3         5           Good   2.0\n",
      "4                4         5            Bad   3.0\n",
      "2                3         4           Good   3.0\n",
      "0                7         7            Bad   4.0\n",
      "3                1         4           Good   5.0\n",
      "7                8         7            Bad   5.0\n",
      "8                7         9           Good   6.0\n",
      "9                8         8            Bad   6.0\n",
      "1                7         4            Bad   7.0\n",
      "['Bad']\n",
      "0,1\n",
      "Bad\n",
      "['Bad', 'Good']\n",
      "1,1\n",
      "cant classify\n",
      "['Bad', 'Good', 'Bad']\n",
      "1,2\n",
      "Bad\n"
     ]
    }
   ],
   "source": [
    "print('euclideans distance')\n",
    "for i in range(len(x1)):\n",
    "    data.loc[i,'dist']=manhattan(x,x1[i],y,x2[i])\n",
    "data=data.sort_values('dist')\n",
    "print(data)\n",
    "for i in k:\n",
    "    items=[]\n",
    "    dist=data['Classification'].to_numpy()\n",
    "    for j in range(i):\n",
    "        items.append(dist[j])\n",
    "    print(items)\n",
    "    g,b=check(items)\n",
    "    print(f\"{g},{b}\")\n",
    "    if(g>b):\n",
    "        print('Good')\n",
    "    elif(b>g):\n",
    "        print('Bad')\n",
    "    else:\n",
    "        print('cant classify')\n"
   ]
  },
  {
   "cell_type": "code",
   "execution_count": 6,
   "id": "eb319dcb",
   "metadata": {},
   "outputs": [
    {
     "name": "stdout",
     "output_type": "stream",
     "text": [
      "euclideans distance\n",
      "   Acid Durability  Strength Classification      dist\n",
      "6                4         6            Bad  1.122462\n",
      "5                3         5           Good  2.000000\n",
      "4                4         5            Bad  2.005175\n",
      "2                3         4           Good  3.000000\n",
      "3                1         4           Good  3.042371\n",
      "0                7         7            Bad  4.000000\n",
      "8                7         9           Good  4.010349\n",
      "1                7         4            Bad  4.110704\n",
      "7                8         7            Bad  5.000000\n",
      "9                8         8            Bad  5.000053\n",
      "Bad\n",
      "cant classify\n",
      "Bad\n"
     ]
    }
   ],
   "source": [
    "print('euclideans distance')\n",
    "for i in range(len(x1)):\n",
    "    data.loc[i,'dist']=minkowski(x,x1[i],y,x2[i],6)\n",
    "data=data.sort_values('dist')\n",
    "print(data)\n",
    "for i in k:\n",
    "    items=[]\n",
    "    dist=data['Classification'].to_numpy()\n",
    "    for j in range(i):\n",
    "        items.append(dist[j])\n",
    "    g,b=check(items)\n",
    "    if(g>b):\n",
    "        print('Good')\n",
    "    elif(b>g):\n",
    "        print('Bad')\n",
    "    else:\n",
    "        print('cant classify')\n"
   ]
  },
  {
   "cell_type": "code",
   "execution_count": null,
   "id": "2ccb7ad4",
   "metadata": {},
   "outputs": [],
   "source": []
  }
 ],
 "metadata": {
  "kernelspec": {
   "display_name": "Python 3 (ipykernel)",
   "language": "python",
   "name": "python3"
  },
  "language_info": {
   "codemirror_mode": {
    "name": "ipython",
    "version": 3
   },
   "file_extension": ".py",
   "mimetype": "text/x-python",
   "name": "python",
   "nbconvert_exporter": "python",
   "pygments_lexer": "ipython3",
   "version": "3.11.4"
  }
 },
 "nbformat": 4,
 "nbformat_minor": 5
}
