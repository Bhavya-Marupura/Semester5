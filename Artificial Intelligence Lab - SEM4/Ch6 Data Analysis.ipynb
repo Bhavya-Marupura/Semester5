{
 "cells": [
  {
   "cell_type": "code",
   "execution_count": 4,
   "id": "51cdbda0",
   "metadata": {},
   "outputs": [
    {
     "data": {
      "text/html": [
       "<div>\n",
       "<style scoped>\n",
       "    .dataframe tbody tr th:only-of-type {\n",
       "        vertical-align: middle;\n",
       "    }\n",
       "\n",
       "    .dataframe tbody tr th {\n",
       "        vertical-align: top;\n",
       "    }\n",
       "\n",
       "    .dataframe thead th {\n",
       "        text-align: right;\n",
       "    }\n",
       "</style>\n",
       "<table border=\"1\" class=\"dataframe\">\n",
       "  <thead>\n",
       "    <tr style=\"text-align: right;\">\n",
       "      <th></th>\n",
       "      <th>Name</th>\n",
       "      <th>City</th>\n",
       "      <th>Gender</th>\n",
       "      <th>Height</th>\n",
       "      <th>Weight</th>\n",
       "    </tr>\n",
       "    <tr>\n",
       "      <th>Number</th>\n",
       "      <th></th>\n",
       "      <th></th>\n",
       "      <th></th>\n",
       "      <th></th>\n",
       "      <th></th>\n",
       "    </tr>\n",
       "  </thead>\n",
       "  <tbody>\n",
       "    <tr>\n",
       "      <th>1</th>\n",
       "      <td>Ali Ahmed</td>\n",
       "      <td>Fujairah</td>\n",
       "      <td>Male</td>\n",
       "      <td>173</td>\n",
       "      <td>67</td>\n",
       "    </tr>\n",
       "    <tr>\n",
       "      <th>2</th>\n",
       "      <td>Mohamed Ziad</td>\n",
       "      <td>Dubai</td>\n",
       "      <td>Male</td>\n",
       "      <td>134</td>\n",
       "      <td>77</td>\n",
       "    </tr>\n",
       "    <tr>\n",
       "      <th>3</th>\n",
       "      <td>Majid Salim</td>\n",
       "      <td>Sharjah</td>\n",
       "      <td>Male</td>\n",
       "      <td>137</td>\n",
       "      <td>106</td>\n",
       "    </tr>\n",
       "    <tr>\n",
       "      <th>4</th>\n",
       "      <td>Salwa Ahmed</td>\n",
       "      <td>AbuDhabi</td>\n",
       "      <td>Female</td>\n",
       "      <td>171</td>\n",
       "      <td>106</td>\n",
       "    </tr>\n",
       "    <tr>\n",
       "      <th>5</th>\n",
       "      <td>Ahlam Mohamed</td>\n",
       "      <td>Fujairah</td>\n",
       "      <td>Female</td>\n",
       "      <td>126</td>\n",
       "      <td>98</td>\n",
       "    </tr>\n",
       "    <tr>\n",
       "      <th>6</th>\n",
       "      <td>Omar Ali</td>\n",
       "      <td>Dubai</td>\n",
       "      <td>Male</td>\n",
       "      <td>122</td>\n",
       "      <td>56</td>\n",
       "    </tr>\n",
       "    <tr>\n",
       "      <th>7</th>\n",
       "      <td>Amna Mohammed</td>\n",
       "      <td>Sharja</td>\n",
       "      <td>Female</td>\n",
       "      <td>121</td>\n",
       "      <td>66</td>\n",
       "    </tr>\n",
       "    <tr>\n",
       "      <th>8</th>\n",
       "      <td>Khalid Yousif</td>\n",
       "      <td>AbuDhabi</td>\n",
       "      <td>Male</td>\n",
       "      <td>142</td>\n",
       "      <td>97</td>\n",
       "    </tr>\n",
       "    <tr>\n",
       "      <th>9</th>\n",
       "      <td>Safa Humaid</td>\n",
       "      <td>Sharjah</td>\n",
       "      <td>Female</td>\n",
       "      <td>161</td>\n",
       "      <td>104</td>\n",
       "    </tr>\n",
       "    <tr>\n",
       "      <th>10</th>\n",
       "      <td>Amjad Tayel</td>\n",
       "      <td>Fujairah</td>\n",
       "      <td>Male</td>\n",
       "      <td>123</td>\n",
       "      <td>88</td>\n",
       "    </tr>\n",
       "  </tbody>\n",
       "</table>\n",
       "</div>"
      ],
      "text/plain": [
       "                 Name      City  Gender  Height  Weight\n",
       "Number                                                 \n",
       "1           Ali Ahmed  Fujairah    Male     173      67\n",
       "2        Mohamed Ziad     Dubai    Male     134      77\n",
       "3         Majid Salim   Sharjah    Male     137     106\n",
       "4         Salwa Ahmed  AbuDhabi  Female     171     106\n",
       "5       Ahlam Mohamed  Fujairah  Female     126      98\n",
       "6            Omar Ali     Dubai    Male     122      56\n",
       "7       Amna Mohammed   Sharja   Female     121      66\n",
       "8       Khalid Yousif  AbuDhabi    Male     142      97\n",
       "9         Safa Humaid   Sharjah  Female     161     104\n",
       "10        Amjad Tayel  Fujairah    Male     123      88"
      ]
     },
     "execution_count": 4,
     "metadata": {},
     "output_type": "execute_result"
    }
   ],
   "source": [
    "#Statistical Analysis\n",
    "#Creating a data frame\n",
    "\n",
    "import pandas as pd\n",
    "import numpy as np\n",
    "Number = [1,2,3,4,5,6,7,8,9,10]\n",
    "Names = ['Ali Ahmed','Mohamed Ziad','Majid Salim','Salwa Ahmed', 'Ahlam Mohamed',\\\n",
    "          'Omar Ali', 'Amna Mohammed','Khalid Yousif', 'Safa Humaid', 'Amjad Tayel']\n",
    "City = ['Fujairah','Dubai','Sharjah','AbuDhabi','Fujairah','Dubai',\\\n",
    "        'Sharja ', 'AbuDhabi','Sharjah','Fujairah']\n",
    "columns = ['Number', 'Name', 'City' ]\n",
    "dataset= pd.DataFrame({'Number': Number , 'Name': Names,\n",
    "'City': City}, columns = columns )\n",
    "Gender= pd.DataFrame({'Gender':['Male','Male','Male','Female',\n",
    "'Female', 'Male', 'Female', 'Male','Female', 'Male']})\n",
    "Height = pd.DataFrame(np.random.randint(120,175, size=(12, 1)))\n",
    "Weight = pd.DataFrame(np.random.randint(50,110, size=(12, 1)))\n",
    "dataset['Gender']= Gender\n",
    "dataset['Height']= Height\n",
    "dataset['Weight']= Weight\n",
    "dataset.set_index('Number')"
   ]
  },
  {
   "cell_type": "code",
   "execution_count": 9,
   "id": "8a4b0f74",
   "metadata": {},
   "outputs": [
    {
     "name": "stdout",
     "output_type": "stream",
     "text": [
      "         Number      Height      Weight\n",
      "count  10.00000   10.000000   10.000000\n",
      "mean    5.50000  148.900000   78.700000\n",
      "std     3.02765   14.850739   17.372072\n",
      "min     1.00000  126.000000   56.000000\n",
      "25%     3.25000  138.250000   68.000000\n",
      "50%     5.50000  151.500000   78.000000\n",
      "75%     7.75000  160.500000   83.500000\n",
      "max    10.00000  166.000000  108.000000\n"
     ]
    }
   ],
   "source": [
    "# Summary statistics for numerical columns\n",
    "print ( dataset.describe())"
   ]
  },
  {
   "cell_type": "code",
   "execution_count": 10,
   "id": "51dd7234",
   "metadata": {},
   "outputs": [
    {
     "name": "stdout",
     "output_type": "stream",
     "text": [
      "Number      5.5\n",
      "Height    148.9\n",
      "Weight     78.7\n",
      "dtype: float64\n"
     ]
    },
    {
     "name": "stderr",
     "output_type": "stream",
     "text": [
      "C:\\Users\\Mahe\\AppData\\Local\\Temp\\ipykernel_7036\\4205567916.py:1: FutureWarning: Dropping of nuisance columns in DataFrame reductions (with 'numeric_only=None') is deprecated; in a future version this will raise TypeError.  Select only valid columns before calling the reduction.\n",
      "  print (dataset.mean()) # Returns the mean of all columns\n"
     ]
    }
   ],
   "source": [
    "print (dataset.mean()) # Returns the mean of all columns"
   ]
  },
  {
   "cell_type": "code",
   "execution_count": 11,
   "id": "6c86c7da",
   "metadata": {},
   "outputs": [
    {
     "name": "stdout",
     "output_type": "stream",
     "text": [
      "         Number    Height    Weight\n",
      "Number  1.00000 -0.095140 -0.432010\n",
      "Height -0.09514  1.000000 -0.028124\n",
      "Weight -0.43201 -0.028124  1.000000\n"
     ]
    }
   ],
   "source": [
    "print (dataset.corr())"
   ]
  },
  {
   "cell_type": "code",
   "execution_count": 12,
   "id": "f184c608",
   "metadata": {},
   "outputs": [
    {
     "name": "stdout",
     "output_type": "stream",
     "text": [
      "Number    10\n",
      "Name      10\n",
      "City      10\n",
      "Gender    10\n",
      "Height    10\n",
      "Weight    10\n",
      "dtype: int64\n"
     ]
    }
   ],
   "source": [
    "print (dataset.count())"
   ]
  },
  {
   "cell_type": "code",
   "execution_count": 13,
   "id": "4392d64d",
   "metadata": {},
   "outputs": [
    {
     "name": "stdout",
     "output_type": "stream",
     "text": [
      "Number             10\n",
      "Name      Salwa Ahmed\n",
      "City          Sharjah\n",
      "Gender           Male\n",
      "Height            166\n",
      "Weight            108\n",
      "dtype: object\n"
     ]
    }
   ],
   "source": [
    "print (dataset.max())"
   ]
  },
  {
   "cell_type": "code",
   "execution_count": 14,
   "id": "594842da",
   "metadata": {},
   "outputs": [
    {
     "name": "stdout",
     "output_type": "stream",
     "text": [
      "Number                1\n",
      "Name      Ahlam Mohamed\n",
      "City           AbuDhabi\n",
      "Gender           Female\n",
      "Height              126\n",
      "Weight               56\n",
      "dtype: object\n"
     ]
    }
   ],
   "source": [
    "print (dataset.min())"
   ]
  },
  {
   "cell_type": "code",
   "execution_count": 15,
   "id": "0b118dd4",
   "metadata": {},
   "outputs": [
    {
     "name": "stdout",
     "output_type": "stream",
     "text": [
      "Number      5.5\n",
      "Height    151.5\n",
      "Weight     78.0\n",
      "dtype: float64\n"
     ]
    },
    {
     "name": "stderr",
     "output_type": "stream",
     "text": [
      "C:\\Users\\Mahe\\AppData\\Local\\Temp\\ipykernel_7036\\1522921935.py:1: FutureWarning: Dropping of nuisance columns in DataFrame reductions (with 'numeric_only=None') is deprecated; in a future version this will raise TypeError.  Select only valid columns before calling the reduction.\n",
      "  print (dataset.median())\n"
     ]
    }
   ],
   "source": [
    "print (dataset.median())"
   ]
  },
  {
   "cell_type": "code",
   "execution_count": 16,
   "id": "4e7f045e",
   "metadata": {},
   "outputs": [
    {
     "name": "stdout",
     "output_type": "stream",
     "text": [
      "Number     3.027650\n",
      "Height    14.850739\n",
      "Weight    17.372072\n",
      "dtype: float64\n"
     ]
    },
    {
     "name": "stderr",
     "output_type": "stream",
     "text": [
      "C:\\Users\\Mahe\\AppData\\Local\\Temp\\ipykernel_7036\\661795943.py:1: FutureWarning: Dropping of nuisance columns in DataFrame reductions (with 'numeric_only=None') is deprecated; in a future version this will raise TypeError.  Select only valid columns before calling the reduction.\n",
      "  print (dataset.std())\n"
     ]
    }
   ],
   "source": [
    "print (dataset.std())"
   ]
  },
  {
   "cell_type": "markdown",
   "id": "148b2b07",
   "metadata": {},
   "source": [
    "Data Grouping"
   ]
  },
  {
   "cell_type": "code",
   "execution_count": 18,
   "id": "11178111",
   "metadata": {},
   "outputs": [
    {
     "data": {
      "text/plain": [
       "City\n",
       "AbuDhabi    2\n",
       "Dubai       2\n",
       "Fujairah    3\n",
       "Sharja      1\n",
       "Sharjah     2\n",
       "Name: Gender, dtype: int64"
      ]
     },
     "execution_count": 18,
     "metadata": {},
     "output_type": "execute_result"
    }
   ],
   "source": [
    "dataset.groupby('City')['Gender'].count()"
   ]
  },
  {
   "cell_type": "code",
   "execution_count": 19,
   "id": "2eb870c9",
   "metadata": {},
   "outputs": [
    {
     "name": "stdout",
     "output_type": "stream",
     "text": [
      "{'AbuDhabi': [3, 7], 'Dubai': [1, 5], 'Fujairah': [0, 4, 9], 'Sharja ': [6], 'Sharjah': [2, 8]}\n"
     ]
    }
   ],
   "source": [
    "print (dataset.groupby('City').groups)"
   ]
  },
  {
   "cell_type": "code",
   "execution_count": 20,
   "id": "ad222b9c",
   "metadata": {},
   "outputs": [
    {
     "name": "stdout",
     "output_type": "stream",
     "text": [
      "{('AbuDhabi', 'Female'): [3], ('AbuDhabi', 'Male'): [7], ('Dubai', 'Male'): [1, 5], ('Fujairah', 'Female'): [4], ('Fujairah', 'Male'): [0, 9], ('Sharja ', 'Female'): [6], ('Sharjah', 'Female'): [8], ('Sharjah', 'Male'): [2]}\n"
     ]
    }
   ],
   "source": [
    "print (dataset.groupby(['City','Gender']).groups)"
   ]
  },
  {
   "cell_type": "markdown",
   "id": "10c8633e",
   "metadata": {},
   "source": [
    "Iterating through Groups"
   ]
  },
  {
   "cell_type": "code",
   "execution_count": 22,
   "id": "7a13ddee",
   "metadata": {
    "scrolled": true
   },
   "outputs": [
    {
     "name": "stdout",
     "output_type": "stream",
     "text": [
      "Female\n",
      "   Number           Name      City  Gender  Height  Weight\n",
      "3       4    Salwa Ahmed  AbuDhabi  Female     159     108\n",
      "4       5  Ahlam Mohamed  Fujairah  Female     135     104\n",
      "6       7  Amna Mohammed   Sharja   Female     127      84\n",
      "8       9    Safa Humaid   Sharjah  Female     148      76\n",
      "\n",
      "\n",
      "Male\n",
      "   Number           Name      City Gender  Height  Weight\n",
      "0       1      Ali Ahmed  Fujairah   Male     150      80\n",
      "1       2   Mohamed Ziad     Dubai   Male     166      82\n",
      "2       3    Majid Salim   Sharjah   Male     153      74\n",
      "5       6       Omar Ali     Dubai   Male     126      56\n",
      "7       8  Khalid Yousif  AbuDhabi   Male     164      66\n",
      "9      10    Amjad Tayel  Fujairah   Male     161      57\n",
      "\n",
      "\n"
     ]
    }
   ],
   "source": [
    "grouped = dataset.groupby('Gender')\n",
    "for name,group in grouped:\n",
    "    print (name)\n",
    "    print (group)\n",
    "    print (\"\\n\")"
   ]
  },
  {
   "cell_type": "code",
   "execution_count": 23,
   "id": "8c6885f3",
   "metadata": {},
   "outputs": [
    {
     "name": "stdout",
     "output_type": "stream",
     "text": [
      "   Number           Name      City  Gender  Height  Weight\n",
      "3       4    Salwa Ahmed  AbuDhabi  Female     159     108\n",
      "4       5  Ahlam Mohamed  Fujairah  Female     135     104\n",
      "6       7  Amna Mohammed   Sharja   Female     127      84\n",
      "8       9    Safa Humaid   Sharjah  Female     148      76\n"
     ]
    }
   ],
   "source": [
    "#Selectig  a single group\n",
    "grouped = dataset.groupby('Gender')\n",
    "print (grouped.get_group('Female'))\n",
    "\n"
   ]
  },
  {
   "cell_type": "markdown",
   "id": "17bc929c",
   "metadata": {},
   "source": [
    "Aggregation"
   ]
  },
  {
   "cell_type": "code",
   "execution_count": 24,
   "id": "5ba78171",
   "metadata": {},
   "outputs": [
    {
     "name": "stdout",
     "output_type": "stream",
     "text": [
      "Gender\n",
      "Female    142.250000\n",
      "Male      153.333333\n",
      "Name: Height, dtype: float64\n",
      "\n",
      "\n",
      "Gender\n",
      "Female    93.000000\n",
      "Male      69.166667\n",
      "Name: Weight, dtype: float64\n",
      "\n",
      "\n",
      "        Number  Name  City  Height  Weight\n",
      "Gender                                    \n",
      "Female       4     4     4       4       4\n",
      "Male         6     6     6       6       6\n",
      "\n",
      "\n",
      "        sum        mean        std\n",
      "Gender                            \n",
      "Female  569  142.250000  14.127397\n",
      "Male    920  153.333333  14.773851\n"
     ]
    }
   ],
   "source": [
    "# Aggregation\n",
    "grouped = dataset.groupby('Gender')\n",
    "print (grouped['Height'].agg(np.mean))\n",
    "print (\"\\n\")\n",
    "print (grouped['Weight'].agg(np.mean))\n",
    "print (\"\\n\")\n",
    "print (grouped.agg(np.size))\n",
    "print (\"\\n\")\n",
    "print (grouped['Height'].agg([np.sum, np.mean,np.std]))"
   ]
  },
  {
   "cell_type": "markdown",
   "id": "5c0fb83b",
   "metadata": {},
   "source": [
    "Transformations"
   ]
  },
  {
   "cell_type": "code",
   "execution_count": 7,
   "id": "63f8345e",
   "metadata": {},
   "outputs": [
    {
     "ename": "KeyError",
     "evalue": "\"None of ['Number'] are in the columns\"",
     "output_type": "error",
     "traceback": [
      "\u001b[1;31m---------------------------------------------------------------------------\u001b[0m",
      "\u001b[1;31mKeyError\u001b[0m                                  Traceback (most recent call last)",
      "Input \u001b[1;32mIn [7]\u001b[0m, in \u001b[0;36m<cell line: 2>\u001b[1;34m()\u001b[0m\n\u001b[0;32m      1\u001b[0m \u001b[38;5;66;03m#Creating the index\u001b[39;00m\n\u001b[1;32m----> 2\u001b[0m dataset \u001b[38;5;241m=\u001b[39m \u001b[43mdataset\u001b[49m\u001b[38;5;241;43m.\u001b[39;49m\u001b[43mset_index\u001b[49m\u001b[43m(\u001b[49m\u001b[43m[\u001b[49m\u001b[38;5;124;43m'\u001b[39;49m\u001b[38;5;124;43mNumber\u001b[39;49m\u001b[38;5;124;43m'\u001b[39;49m\u001b[43m]\u001b[49m\u001b[43m)\u001b[49m\n\u001b[0;32m      3\u001b[0m \u001b[38;5;28mprint\u001b[39m (dataset)\n",
      "File \u001b[1;32m~\\anaconda3\\lib\\site-packages\\pandas\\util\\_decorators.py:311\u001b[0m, in \u001b[0;36mdeprecate_nonkeyword_arguments.<locals>.decorate.<locals>.wrapper\u001b[1;34m(*args, **kwargs)\u001b[0m\n\u001b[0;32m    305\u001b[0m \u001b[38;5;28;01mif\u001b[39;00m \u001b[38;5;28mlen\u001b[39m(args) \u001b[38;5;241m>\u001b[39m num_allow_args:\n\u001b[0;32m    306\u001b[0m     warnings\u001b[38;5;241m.\u001b[39mwarn(\n\u001b[0;32m    307\u001b[0m         msg\u001b[38;5;241m.\u001b[39mformat(arguments\u001b[38;5;241m=\u001b[39marguments),\n\u001b[0;32m    308\u001b[0m         \u001b[38;5;167;01mFutureWarning\u001b[39;00m,\n\u001b[0;32m    309\u001b[0m         stacklevel\u001b[38;5;241m=\u001b[39mstacklevel,\n\u001b[0;32m    310\u001b[0m     )\n\u001b[1;32m--> 311\u001b[0m \u001b[38;5;28;01mreturn\u001b[39;00m func(\u001b[38;5;241m*\u001b[39margs, \u001b[38;5;241m*\u001b[39m\u001b[38;5;241m*\u001b[39mkwargs)\n",
      "File \u001b[1;32m~\\anaconda3\\lib\\site-packages\\pandas\\core\\frame.py:5494\u001b[0m, in \u001b[0;36mDataFrame.set_index\u001b[1;34m(self, keys, drop, append, inplace, verify_integrity)\u001b[0m\n\u001b[0;32m   5491\u001b[0m                 missing\u001b[38;5;241m.\u001b[39mappend(col)\n\u001b[0;32m   5493\u001b[0m \u001b[38;5;28;01mif\u001b[39;00m missing:\n\u001b[1;32m-> 5494\u001b[0m     \u001b[38;5;28;01mraise\u001b[39;00m \u001b[38;5;167;01mKeyError\u001b[39;00m(\u001b[38;5;124mf\u001b[39m\u001b[38;5;124m\"\u001b[39m\u001b[38;5;124mNone of \u001b[39m\u001b[38;5;132;01m{\u001b[39;00mmissing\u001b[38;5;132;01m}\u001b[39;00m\u001b[38;5;124m are in the columns\u001b[39m\u001b[38;5;124m\"\u001b[39m)\n\u001b[0;32m   5496\u001b[0m \u001b[38;5;28;01mif\u001b[39;00m inplace:\n\u001b[0;32m   5497\u001b[0m     frame \u001b[38;5;241m=\u001b[39m \u001b[38;5;28mself\u001b[39m\n",
      "\u001b[1;31mKeyError\u001b[0m: \"None of ['Number'] are in the columns\""
     ]
    }
   ],
   "source": [
    " #Creating the index\n",
    "dataset = dataset.set_index(['Number'])\n",
    "print (dataset)"
   ]
  },
  {
   "cell_type": "code",
   "execution_count": 6,
   "id": "8ff3c885",
   "metadata": {},
   "outputs": [
    {
     "name": "stdout",
     "output_type": "stream",
     "text": [
      "           Height     Weight\n",
      "Number                      \n",
      "1       18.507241  -7.899837\n",
      "2       -2.413988  -2.574104\n",
      "3       -0.804663  12.870521\n",
      "4       10.517544   6.703915\n",
      "5       -7.512531   2.413409\n",
      "6       -8.851289 -13.758143\n",
      "7       -9.515873 -14.748613\n",
      "8        1.877546   8.077361\n",
      "9        6.510860   5.631288\n",
      "10      -8.314848   3.284202\n"
     ]
    },
    {
     "name": "stderr",
     "output_type": "stream",
     "text": [
      "C:\\Users\\Mahe\\AppData\\Local\\Temp\\ipykernel_12968\\2715691874.py:3: FutureWarning: Dropping invalid columns in DataFrameGroupBy.transform is deprecated. In a future version, a TypeError will be raised. Before calling .transform, select only columns which should be valid for the function.\n",
      "  print (grouped.transform(score))\n"
     ]
    }
   ],
   "source": [
    "grouped = dataset.groupby('Gender')\n",
    "score = lambda x: (x - x.mean()) / x.std()*10\n",
    "print (grouped.transform(score))"
   ]
  },
  {
   "cell_type": "markdown",
   "id": "02bf9623",
   "metadata": {},
   "source": [
    "Filtration"
   ]
  },
  {
   "cell_type": "code",
   "execution_count": 8,
   "id": "f8192f33",
   "metadata": {},
   "outputs": [
    {
     "name": "stdout",
     "output_type": "stream",
     "text": [
      "                 Name      City  Gender  Height  Weight\n",
      "Number                                                 \n",
      "1           Ali Ahmed  Fujairah    Male     173      67\n",
      "5       Ahlam Mohamed  Fujairah  Female     126      98\n",
      "10        Amjad Tayel  Fujairah    Male     123      88\n"
     ]
    }
   ],
   "source": [
    "print (dataset.groupby('City').filter(lambda x: len(x)>= 3))"
   ]
  },
  {
   "cell_type": "code",
   "execution_count": 10,
   "id": "fe7b4298",
   "metadata": {},
   "outputs": [
    {
     "name": "stdout",
     "output_type": "stream",
     "text": [
      "0     5\n",
      "1     6\n",
      "2     7\n",
      "3     8\n",
      "4     9\n",
      "5    10\n",
      "dtype: int64\n",
      "A     5\n",
      "B     6\n",
      "C     7\n",
      "D     8\n",
      "E     9\n",
      "F    10\n",
      "dtype: int64\n",
      "0     5\n",
      "1     6\n",
      "2     7\n",
      "3     8\n",
      "4     9\n",
      "5    10\n",
      "dtype: int64\n"
     ]
    }
   ],
   "source": [
    "import pandas as pd\n",
    "import numpy as np\n",
    "my_series1 = pd.Series([5, 6, 7, 8, 9, 10])\n",
    "my_series_11 = my_series1.copy()\n",
    "print (my_series1)\n",
    "my_series_11.index=('A','B','C','D','E','F')\n",
    "print (my_series_11)\n",
    "print (my_series1)"
   ]
  },
  {
   "cell_type": "code",
   "execution_count": 21,
   "id": "7f2f71ff",
   "metadata": {},
   "outputs": [
    {
     "name": "stdout",
     "output_type": "stream",
     "text": [
      "  alphabets\n",
      "1         A\n",
      "2         B\n",
      "3         C\n",
      "4         D\n",
      "5         E\n"
     ]
    }
   ],
   "source": [
    "import pandas as pd\n",
    "import numpy as np\n",
    "array = np.array(['A','B','C','D','E'])\n",
    "F1 = pd.DataFrame(array,index=[1,2,3,4,5],columns=[\"alphabets\"])\n",
    "print (F1)"
   ]
  },
  {
   "cell_type": "code",
   "execution_count": null,
   "id": "fa11f32d",
   "metadata": {},
   "outputs": [],
   "source": []
  }
 ],
 "metadata": {
  "kernelspec": {
   "display_name": "Python 3 (ipykernel)",
   "language": "python",
   "name": "python3"
  },
  "language_info": {
   "codemirror_mode": {
    "name": "ipython",
    "version": 3
   },
   "file_extension": ".py",
   "mimetype": "text/x-python",
   "name": "python",
   "nbconvert_exporter": "python",
   "pygments_lexer": "ipython3",
   "version": "3.9.12"
  }
 },
 "nbformat": 4,
 "nbformat_minor": 5
}
