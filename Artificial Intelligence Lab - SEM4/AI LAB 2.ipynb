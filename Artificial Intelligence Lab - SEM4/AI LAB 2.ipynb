{
 "cells": [
  {
   "cell_type": "code",
   "execution_count": 52,
   "id": "4f5e963a",
   "metadata": {},
   "outputs": [
    {
     "name": "stdout",
     "output_type": "stream",
     "text": [
      "Customers waiting in queue are\n",
      "['BHAVYA', 'NEERAJ', 'VIDYA', 'VAKULA', 'HYMA', 'SAKETH']\n",
      "BHAVYA balance after deposit is 5700\n",
      "Served Customer BHAVYA\n",
      "NEERAJ balance after withdrawal is 5350\n",
      "Served Customer NEERAJ\n",
      "After serving two customers\n",
      "['VIDYA', 'VAKULA', 'HYMA', 'SAKETH']\n",
      "VIDYA balance after deposit is 10000\n",
      "Served Customer VIDYA\n",
      "Served Customer VAKULA\n",
      "Served Customer HYMA\n",
      "Served Customer SAKETH\n",
      "No customer in queue\n"
     ]
    }
   ],
   "source": [
    "class Customer:\n",
    "    queue=[]\n",
    "    def __init__(self,name,acc_bal):\n",
    "        self.name=name\n",
    "        self.acc_bal=acc_bal\n",
    "    def add_customer(self):\n",
    "        self.queue.append(self.name)\n",
    "    def deposit(self,amount):\n",
    "        print(f\"{self.name} balance after deposit is {self.acc_bal+amount}\")\n",
    "    def withdraw(self,amount):\n",
    "        print(f\"{self.name} balance after withdrawal is {self.acc_bal-amount}\")\n",
    "    def serve_customer(self):\n",
    "        if self.queue:\n",
    "            customer=self.queue.pop(0)\n",
    "            print(f\"Served Customer {customer}\")\n",
    "        else:\n",
    "            print(\"No customer in queue\")\n",
    "c1=Customer(\"BHAVYA\",5000)\n",
    "c2=Customer(\"NEERAJ\",6000)\n",
    "c3=Customer(\"VIDYA\",5000)\n",
    "c4=Customer(\"VAKULA\",6000)\n",
    "c5=Customer(\"HYMA\",5000)\n",
    "c6=Customer(\"SAKETH\",6000)\n",
    "c1.add_customer()\n",
    "c2.add_customer()\n",
    "c3.add_customer()\n",
    "c4.add_customer()\n",
    "c5.add_customer()\n",
    "c6.add_customer()\n",
    "print(\"Customers waiting in queue are\")\n",
    "print(c1.queue)\n",
    "c1.deposit(700)\n",
    "c1.serve_customer()\n",
    "c2.withdraw(650)\n",
    "c2.serve_customer()\n",
    "print(\"After serving two customers\")\n",
    "print(c1.queue)\n",
    "c3.deposit(5000)\n",
    "c3.serve_customer()\n",
    "c4.serve_customer()\n",
    "c5.serve_customer()\n",
    "c6.serve_customer()\n",
    "c2.serve_customer()"
   ]
  },
  {
   "cell_type": "code",
   "execution_count": 54,
   "id": "fab3a414",
   "metadata": {},
   "outputs": [
    {
     "name": "stdout",
     "output_type": "stream",
     "text": [
      "(0->1) \n",
      "(1->2) \n",
      "(2->0) (2->1) \n",
      "(3->2) \n",
      "(4->5) \n",
      "(5->4) \n"
     ]
    }
   ],
   "source": [
    "class Node:\n",
    "    def __init__(self):\n",
    "        self.mat = [[0] * 6 for _ in range(6)]\n",
    "    def add(self,x,y):\n",
    "        self.mat[x][y]=1\n",
    "    def printmat(self):\n",
    "        for i in range(6):\n",
    "            for j in range(6):\n",
    "                if(self.mat[i][j]==1):\n",
    "                    print(f\"({i}->{j})\",end=\" \")\n",
    "            print()\n",
    "c=Node()\n",
    "c.add(0,1)\n",
    "c.add(1,2)\n",
    "c.add(2,0)\n",
    "c.add(2,1)\n",
    "c.add(3,2)\n",
    "c.add(4,5)\n",
    "c.add(5,4)\n",
    "c.printmat()\n",
    "        \n",
    "        "
   ]
  },
  {
   "cell_type": "code",
   "execution_count": 65,
   "id": "c68dafd9",
   "metadata": {},
   "outputs": [
    {
     "name": "stdout",
     "output_type": "stream",
     "text": [
      "(0->1,6) \n",
      "(1->2,7) \n",
      "(2->0,5) (2->1,4) \n",
      "(3->2,10) \n",
      "(4->5,1) \n",
      "(5->4,3) \n"
     ]
    }
   ],
   "source": [
    "\n",
    "class Node:\n",
    "    def __init__(self):\n",
    "        self.mat = [[0] * 6 for _ in range(6)]\n",
    "    def add(self,x,y,w):\n",
    "        self.mat[x][y]=w\n",
    "    def printmat(self):\n",
    "        for i in range(6):\n",
    "            for j in range(6):\n",
    "                if(self.mat[i][j]>=1):\n",
    "                    print(f\"({i}->{j},{self.mat[i][j]})\",end=\" \")\n",
    "            print()\n",
    "c=Node()\n",
    "c.add(0,1,6)\n",
    "c.add(1,2,7)\n",
    "c.add(2,0,5)\n",
    "c.add(2,1,4)\n",
    "c.add(3,2,10)\n",
    "c.add(4,5,1)\n",
    "c.add(5,4,3)\n",
    "c.printmat()\n",
    "        "
   ]
  },
  {
   "cell_type": "code",
   "execution_count": null,
   "id": "9765622e",
   "metadata": {},
   "outputs": [],
   "source": [
    "#q4"
   ]
  },
  {
   "cell_type": "code",
   "execution_count": 1,
   "id": "bc0621c5",
   "metadata": {},
   "outputs": [
    {
     "name": "stdout",
     "output_type": "stream",
     "text": [
      "Adjacency List:\n",
      "{'A': [('B', 2), ('C', 3)], 'B': [('A', 2), ('C', 4), ('D', 5)], 'C': [('A', 3), ('B', 4), ('D', 1), ('E', 7)], 'D': [('B', 5), ('C', 1), ('E', 6)], 'E': [('C', 7), ('D', 6)]}\n",
      "Adjacency Matrix:\n",
      "[[0, 2, 3, 0, 0], [2, 0, 4, 5, 0], [3, 4, 0, 1, 7], [0, 5, 1, 0, 6], [0, 0, 7, 6, 0]]\n"
     ]
    }
   ],
   "source": [
    "class Graph:\n",
    "    def __init__(self):\n",
    "        self.graph = {}\n",
    "\n",
    "    def add_edge(self, u, v, weight):\n",
    "        if u not in self.graph:\n",
    "            self.graph[u] = []\n",
    "        if v not in self.graph:\n",
    "            self.graph[v] = []\n",
    "        self.graph[u].append((v, weight))\n",
    "        self.graph[v].append((u, weight))\n",
    "\n",
    "    def adjacency_list(self):\n",
    "        return self.graph\n",
    "\n",
    "    def adjacency_matrix(self):\n",
    "        vertices = sorted(self.graph.keys())\n",
    "        matrix = [[0 for _ in range(len(vertices))] for _ in range(len(vertices))]\n",
    "        vertex_index = {vertices[i]: i for i in range(len(vertices))}\n",
    "        for vertex, edges in self.graph.items():\n",
    "            for edge in edges:\n",
    "                matrix[vertex_index[vertex]][vertex_index[edge[0]]] = edge[1]\n",
    "        return matrix\n",
    "\n",
    "\n",
    "g = Graph()\n",
    "g.add_edge('A', 'B', 2)\n",
    "g.add_edge('A', 'C', 3)\n",
    "g.add_edge('B', 'C', 4)\n",
    "g.add_edge('B', 'D', 5)\n",
    "g.add_edge('C', 'D', 1)\n",
    "g.add_edge('C', 'E', 7)\n",
    "g.add_edge('D', 'E', 6)\n",
    "\n",
    "print(\"Adjacency List:\")\n",
    "print(g.adjacency_list())\n",
    "print(\"Adjacency Matrix:\")\n",
    "print(g.adjacency_matrix())"
   ]
  },
  {
   "cell_type": "code",
   "execution_count": 15,
   "id": "099e1bdc",
   "metadata": {},
   "outputs": [
    {
     "name": "stdout",
     "output_type": "stream",
     "text": [
      "Adjacency List:\n",
      "A: ['B', 'C', 'E']\n",
      "B: ['A', 'C', 'D']\n",
      "C: ['A', 'B', 'D', 'E']\n",
      "D: ['B', 'C']\n",
      "E: ['A', 'C']\n",
      "\n",
      "Adjacency Matrix:\n",
      "[[0. 1. 1. 0. 1.]\n",
      " [1. 0. 1. 1. 0.]\n",
      " [1. 1. 0. 1. 1.]\n",
      " [0. 1. 1. 0. 0.]\n",
      " [1. 0. 1. 0. 0.]]\n"
     ]
    }
   ],
   "source": [
    "import numpy as np\n",
    "\n",
    "class Graph:\n",
    "    def __init__(self, nodes, edges):\n",
    "        self.nodes = nodes\n",
    "        self.edges = edges\n",
    "        self.adj_list = {}\n",
    "        self.adj_matrix = np.zeros((len(nodes), len(nodes)))\n",
    "        \n",
    "        for node in nodes:\n",
    "            self.adj_list[node] = []\n",
    "        \n",
    "        for edge in edges:\n",
    "            node1, node2, weight = edge\n",
    "            node1_index = nodes.index(node1)\n",
    "            node2_index = nodes.index(node2)\n",
    "            \n",
    "            self.adj_list[node1].append(node2)\n",
    "            self.adj_list[node2].append(node1)\n",
    "            self.adj_matrix[node1_index][node2_index] = weight\n",
    "            self.adj_matrix[node2_index][node1_index] = weight\n",
    "            \n",
    "    def display_adj_list(self):\n",
    "        for node in self.nodes:\n",
    "            print(\"{}: {}\".format(node, self.adj_list[node]))\n",
    "            \n",
    "    def display_adj_matrix(self):\n",
    "        print(self.adj_matrix)\n",
    "        \n",
    "nodes = ['A', 'B', 'C', 'D', 'E']\n",
    "edges = [('A', 'B', 1), ('A', 'C', 1), ('A', 'E', 1), ('B', 'C', 1), ('B', 'D', 1), ('C', 'D', 1), ('C', 'E', 1)]\n",
    "\n",
    "graph = Graph(nodes, edges)\n",
    "\n",
    "print(\"Adjacency List:\")\n",
    "graph.display_adj_list()\n",
    "\n",
    "print(\"\\nAdjacency Matrix:\")\n",
    "graph.display_adj_matrix()"
   ]
  },
  {
   "cell_type": "code",
   "execution_count": null,
   "id": "376c0e20",
   "metadata": {},
   "outputs": [],
   "source": []
  }
 ],
 "metadata": {
  "kernelspec": {
   "display_name": "Python 3 (ipykernel)",
   "language": "python",
   "name": "python3"
  },
  "language_info": {
   "codemirror_mode": {
    "name": "ipython",
    "version": 3
   },
   "file_extension": ".py",
   "mimetype": "text/x-python",
   "name": "python",
   "nbconvert_exporter": "python",
   "pygments_lexer": "ipython3",
   "version": "3.10.6"
  }
 },
 "nbformat": 4,
 "nbformat_minor": 5
}
