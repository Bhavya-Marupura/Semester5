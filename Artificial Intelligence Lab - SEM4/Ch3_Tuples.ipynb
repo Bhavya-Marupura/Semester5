{
 "cells": [
  {
   "cell_type": "markdown",
   "id": "8a12f528",
   "metadata": {},
   "source": [
    "Creating and displaying tuples"
   ]
  },
  {
   "cell_type": "code",
   "execution_count": 1,
   "id": "7ba714f9",
   "metadata": {},
   "outputs": [
    {
     "name": "stdout",
     "output_type": "stream",
     "text": [
      "Bahaa\n",
      "(75, 65, 95)\n",
      "95\n"
     ]
    }
   ],
   "source": [
    "Names = ('Omar', 'Ali', 'Bahaa')\n",
    "Marks = ( 75, 65, 95 )\n",
    "print (Names[2])\n",
    "print (Marks)\n",
    "print (max(Marks))"
   ]
  },
  {
   "cell_type": "code",
   "execution_count": 3,
   "id": "271de48a",
   "metadata": {},
   "outputs": [
    {
     "name": "stdout",
     "output_type": "stream",
     "text": [
      "Omar\n",
      "Ali\n",
      "Bahaa\n"
     ]
    }
   ],
   "source": [
    "for name in Names:\n",
    "    print (name)"
   ]
  },
  {
   "cell_type": "code",
   "execution_count": 4,
   "id": "4a6cef79",
   "metadata": {},
   "outputs": [
    {
     "ename": "TypeError",
     "evalue": "'tuple' object does not support item assignment",
     "output_type": "error",
     "traceback": [
      "\u001b[1;31m---------------------------------------------------------------------------\u001b[0m",
      "\u001b[1;31mTypeError\u001b[0m                                 Traceback (most recent call last)",
      "Input \u001b[1;32mIn [4]\u001b[0m, in \u001b[0;36m<cell line: 2>\u001b[1;34m()\u001b[0m\n\u001b[0;32m      1\u001b[0m \u001b[38;5;66;03m#Altering a tuple\u001b[39;00m\n\u001b[1;32m----> 2\u001b[0m Marks[\u001b[38;5;241m1\u001b[39m]\u001b[38;5;241m=\u001b[39m\u001b[38;5;241m66\u001b[39m\n",
      "\u001b[1;31mTypeError\u001b[0m: 'tuple' object does not support item assignment"
     ]
    }
   ],
   "source": [
    "#Altering a tuple\n",
    "Marks[1]=66"
   ]
  },
  {
   "cell_type": "code",
   "execution_count": 1,
   "id": "a8ec44a9",
   "metadata": {},
   "outputs": [
    {
     "name": "stdout",
     "output_type": "stream",
     "text": [
      "[(88, 65), (70, 90, 85), (55, 88, 44)]\n",
      "[(55, 88, 44), (70, 90, 85), (88, 65)]\n"
     ]
    }
   ],
   "source": [
    "#sorting a tuple\n",
    "MarksCIS = [(88,65),(70,90,85), (55,88,44)]\n",
    "print (MarksCIS) # original tuples\n",
    "print (sorted(MarksCIS)) # direct sorting"
   ]
  },
  {
   "cell_type": "markdown",
   "id": "25a3fa88",
   "metadata": {},
   "source": [
    "Concatenating Tuples"
   ]
  },
  {
   "cell_type": "code",
   "execution_count": 2,
   "id": "35890814",
   "metadata": {},
   "outputs": [
    {
     "name": "stdout",
     "output_type": "stream",
     "text": [
      "(70, 85, 55, 90, 75, 60)\n"
     ]
    },
    {
     "data": {
      "text/plain": [
       "(70, 85, 55, 90, 75, 60)"
      ]
     },
     "execution_count": 2,
     "metadata": {},
     "output_type": "execute_result"
    }
   ],
   "source": [
    "MarksCIS=(70,85,55)\n",
    "MarksCIN=(90,75,60)\n",
    "Combind=MarksCIS + MarksCIN\n",
    "print (Combind)"
   ]
  },
  {
   "cell_type": "markdown",
   "id": "129cf7ee",
   "metadata": {},
   "source": [
    "Accessing values in tuples"
   ]
  },
  {
   "cell_type": "code",
   "execution_count": 3,
   "id": "c151e117",
   "metadata": {},
   "outputs": [
    {
     "name": "stdout",
     "output_type": "stream",
     "text": [
      "The third mark in CIS is  55\n",
      "The third mark in CIN is  60\n"
     ]
    }
   ],
   "source": [
    "MarksCIS = (70, 85, 55)\n",
    "MarksCIN = (90, 75, 60)\n",
    "print (\"The third mark in CIS is \", MarksCIS[2])\n",
    "print (\"The third mark in CIN is \", MarksCIN[2])"
   ]
  },
  {
   "cell_type": "code",
   "execution_count": 4,
   "id": "3871b097",
   "metadata": {},
   "outputs": [
    {
     "name": "stdout",
     "output_type": "stream",
     "text": [
      "(90, 75, 60)\n"
     ]
    },
    {
     "ename": "NameError",
     "evalue": "name 'MarksCIN' is not defined",
     "output_type": "error",
     "traceback": [
      "\u001b[1;31m---------------------------------------------------------------------------\u001b[0m",
      "\u001b[1;31mNameError\u001b[0m                                 Traceback (most recent call last)",
      "Input \u001b[1;32mIn [4]\u001b[0m, in \u001b[0;36m<cell line: 5>\u001b[1;34m()\u001b[0m\n\u001b[0;32m      3\u001b[0m \u001b[38;5;28mprint\u001b[39m (MarksCIN)\n\u001b[0;32m      4\u001b[0m \u001b[38;5;28;01mdel\u001b[39;00m MarksCIN\n\u001b[1;32m----> 5\u001b[0m \u001b[38;5;28mprint\u001b[39m (\u001b[43mMarksCIN\u001b[49m)\n",
      "\u001b[1;31mNameError\u001b[0m: name 'MarksCIN' is not defined"
     ]
    }
   ],
   "source": [
    "#Deleting a tuple\n",
    "MarksCIN = (90, 75, 60)\n",
    "print (MarksCIN)\n",
    "del MarksCIN\n",
    "print (MarksCIN)"
   ]
  },
  {
   "cell_type": "code",
   "execution_count": 5,
   "id": "26f1e460",
   "metadata": {},
   "outputs": [
    {
     "name": "stdout",
     "output_type": "stream",
     "text": [
      "\n",
      "Forward slicing\n",
      "(65, 70, 90)\n",
      "(88, 65, 70)\n",
      "(78, 95, 55)\n",
      "(85, 45)\n"
     ]
    }
   ],
   "source": [
    "#Slicing tuple values\n",
    "MarksCIS = (88, 65, 70,90,85,45,78,95,55)\n",
    "print (\"\\nForward slicing\")\n",
    "print (MarksCIS[1:4])\n",
    "print (MarksCIS[:3])\n",
    "print (MarksCIS[6:])\n",
    "print (MarksCIS[4:6])"
   ]
  },
  {
   "cell_type": "code",
   "execution_count": 8,
   "id": "403dea43",
   "metadata": {},
   "outputs": [
    {
     "name": "stdout",
     "output_type": "stream",
     "text": [
      "\n",
      "Backward slicing\n",
      "(45, 78)\n",
      "78\n",
      "(78, 95, 55)\n",
      "(88, 65, 70, 90, 85, 45)\n"
     ]
    }
   ],
   "source": [
    "MarksCIS = (88, 65, 70,90,85,45,78,95,55)\n",
    "print (\"\\nBackward slicing\")\n",
    "print (MarksCIS[-4:-2])\n",
    "print (MarksCIS[-3])\n",
    "print (MarksCIS[-3:])\n",
    "print (MarksCIS[ :-3])"
   ]
  },
  {
   "cell_type": "markdown",
   "id": "a7a0ee3a",
   "metadata": {},
   "source": [
    "Tuple Operations"
   ]
  },
  {
   "cell_type": "code",
   "execution_count": 10,
   "id": "24214968",
   "metadata": {},
   "outputs": [
    {
     "data": {
      "text/plain": [
       "4"
      ]
     },
     "execution_count": 10,
     "metadata": {},
     "output_type": "execute_result"
    }
   ],
   "source": [
    "len((5,7,2,6))"
   ]
  },
  {
   "cell_type": "code",
   "execution_count": 11,
   "id": "a8e91364",
   "metadata": {},
   "outputs": [
    {
     "data": {
      "text/plain": [
       "(1, 2, 3, 10, 4, 5, 6, 7)"
      ]
     },
     "execution_count": 11,
     "metadata": {},
     "output_type": "execute_result"
    }
   ],
   "source": [
    "(1,2,3,10)+(4,5,6,7)"
   ]
  },
  {
   "cell_type": "code",
   "execution_count": 12,
   "id": "cd60a794",
   "metadata": {},
   "outputs": [
    {
     "data": {
      "text/plain": [
       "('Hi!', 'Hi!', 'Hi!', 'Hi!')"
      ]
     },
     "execution_count": 12,
     "metadata": {},
     "output_type": "execute_result"
    }
   ],
   "source": [
    "('Hi!',)*4"
   ]
  },
  {
   "cell_type": "code",
   "execution_count": 13,
   "id": "24c371a5",
   "metadata": {},
   "outputs": [
    {
     "data": {
      "text/plain": [
       "True"
      ]
     },
     "execution_count": 13,
     "metadata": {},
     "output_type": "execute_result"
    }
   ],
   "source": [
    "10 in (10,3,2)"
   ]
  },
  {
   "cell_type": "code",
   "execution_count": 16,
   "id": "14b886fc",
   "metadata": {},
   "outputs": [
    {
     "name": "stdout",
     "output_type": "stream",
     "text": [
      "10 1 5 "
     ]
    }
   ],
   "source": [
    "for i in (10,1,5):\n",
    "    print(i, end=' ')"
   ]
  },
  {
   "cell_type": "code",
   "execution_count": null,
   "id": "78e95d7d",
   "metadata": {},
   "outputs": [],
   "source": []
  }
 ],
 "metadata": {
  "kernelspec": {
   "display_name": "Python 3 (ipykernel)",
   "language": "python",
   "name": "python3"
  },
  "language_info": {
   "codemirror_mode": {
    "name": "ipython",
    "version": 3
   },
   "file_extension": ".py",
   "mimetype": "text/x-python",
   "name": "python",
   "nbconvert_exporter": "python",
   "pygments_lexer": "ipython3",
   "version": "3.9.12"
  }
 },
 "nbformat": 4,
 "nbformat_minor": 5
}
