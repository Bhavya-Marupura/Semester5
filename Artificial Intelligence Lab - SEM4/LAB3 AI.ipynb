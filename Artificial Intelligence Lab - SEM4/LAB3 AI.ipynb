{
 "cells": [
  {
   "cell_type": "code",
   "execution_count": 4,
   "id": "04050089",
   "metadata": {},
   "outputs": [],
   "source": [
    "#Q1"
   ]
  },
  {
   "cell_type": "code",
   "execution_count": 3,
   "id": "6f525458",
   "metadata": {},
   "outputs": [
    {
     "name": "stdout",
     "output_type": "stream",
     "text": [
      "[5, 4, 2, 3, 1, 0]\n"
     ]
    }
   ],
   "source": [
    "# Define the graph as a dictionary of lists\n",
    "graph = {\n",
    "    0: [],\n",
    "    1: [],\n",
    "    2: [3],\n",
    "    3: [1],\n",
    "    4: [0,1],\n",
    "    5: [0,2],\n",
    "    \n",
    "}\n",
    "\n",
    "# Define a helper function to perform DFS and add nodes to the stack\n",
    "def dfs(node, visited, stack):\n",
    "    visited.add(node)\n",
    "    for neighbor in graph[node]:\n",
    "        if neighbor not in visited:\n",
    "            dfs(neighbor, visited, stack)\n",
    "    stack.append(node)\n",
    "\n",
    "# Define the topological sorting function\n",
    "def topological_sort():\n",
    "    visited = set()\n",
    "    stack = []\n",
    "    for node in graph:\n",
    "        if node not in visited:\n",
    "            dfs(node, visited, stack)\n",
    "    return stack[::-1]\n",
    "\n",
    "# Call the topological sorting function and print the result\n",
    "print(topological_sort())  "
   ]
  },
  {
   "cell_type": "code",
   "execution_count": 6,
   "id": "27e0d7aa",
   "metadata": {},
   "outputs": [
    {
     "name": "stdout",
     "output_type": "stream",
     "text": [
      "Topological Sort of the given graph:\n",
      "\n",
      "[5, 4, 2, 3, 1, 0]\n"
     ]
    }
   ],
   "source": [
    "from collections import defaultdict\n",
    " \n",
    "\n",
    " \n",
    " \n",
    "class Graph:\n",
    "    def __init__(self, vertices):\n",
    "        self.graph = defaultdict(list)  # dictionary containing adjacency List\n",
    "        self.V = vertices         \n",
    " \n",
    "   \n",
    "    def addEdge(self, u, v):\n",
    "        self.graph[u].append(v)\n",
    " \n",
    "   \n",
    "    def topologicalSortUtil(self, v, visited, stack):\n",
    " \n",
    "                                      # Mark the current node as visited.\n",
    "        visited[v] = True\n",
    " \n",
    "        \n",
    "        for i in self.graph[v]:\n",
    "            if visited[i] == False:\n",
    "                self.topologicalSortUtil(i, visited, stack)\n",
    " \n",
    "       \n",
    "        stack.append(v)\n",
    " \n",
    "   \n",
    "    def topologicalSort(self):\n",
    "                                      # Mark all the vertices as not visited\n",
    "        visited = [False]*self.V\n",
    "        stack = []\n",
    " \n",
    "        \n",
    "        for i in range(self.V):\n",
    "            if visited[i] == False:\n",
    "                self.topologicalSortUtil(i, visited, stack)\n",
    " \n",
    "                                    # Print contents of the stack\n",
    "        print(stack[::-1])         # return list in reverse order\n",
    " \n",
    " \n",
    "\n",
    "if __name__ == '__main__':\n",
    "    g = Graph(6)\n",
    "    g.addEdge(5, 2)\n",
    "    g.addEdge(5, 0)\n",
    "    g.addEdge(4, 0)\n",
    "    g.addEdge(4, 1)\n",
    "    g.addEdge(2, 3)\n",
    "    g.addEdge(3, 1)\n",
    " \n",
    "    print(\"Topological Sort of the given graph:\\n\")\n",
    " \n",
    "  \n",
    "    g.topologicalSort()"
   ]
  },
  {
   "cell_type": "code",
   "execution_count": 5,
   "id": "bebcf0d1",
   "metadata": {},
   "outputs": [
    {
     "name": "stdout",
     "output_type": "stream",
     "text": [
      "Topological Sort of the graph is:\n",
      "[5, 4, 2, 3, 1, 0]\n"
     ]
    }
   ],
   "source": [
    "class Graph:\n",
    "    def __init__(self, vertices):\n",
    "        self.graph = {}\n",
    "        for v in vertices:\n",
    "            self.graph[v] = []\n",
    "\n",
    "    def addEdge(self, u, v):\n",
    "        self.graph[u].append(v)\n",
    "\n",
    "    def topologicalSortUtil(self, v, visited, stack):\n",
    "        visited[v] = True\n",
    "        for i in self.graph[v]:\n",
    "            if not visited[i]:\n",
    "                self.topologicalSortUtil(i, visited, stack)\n",
    "        stack.append(v)\n",
    "\n",
    "    def topologicalSort(self):\n",
    "        visited = {v: False for v in self.graph}\n",
    "        stack = []\n",
    "        for v in self.graph:\n",
    "            if not visited[v]:\n",
    "                self.topologicalSortUtil(v, visited, stack)\n",
    "        return stack[::-1]\n",
    "\n",
    "g = Graph([0, 1, 2, 3, 4, 5])\n",
    "g.addEdge(5, 2)\n",
    "g.addEdge(5, 0)\n",
    "g.addEdge(4, 0)\n",
    "g.addEdge(4, 1)\n",
    "g.addEdge(2, 3)\n",
    "g.addEdge(3, 1)\n",
    "\n",
    "print(\"Topological Sort of the graph is:\")\n",
    "print(g.topologicalSort())"
   ]
  },
  {
   "cell_type": "code",
   "execution_count": null,
   "id": "7d7093dd",
   "metadata": {},
   "outputs": [],
   "source": [
    "#Q2"
   ]
  },
  {
   "cell_type": "code",
   "execution_count": 2,
   "id": "a165d284",
   "metadata": {},
   "outputs": [
    {
     "name": "stdout",
     "output_type": "stream",
     "text": [
      "The graph contains a cycle\n"
     ]
    }
   ],
   "source": [
    "class Graph:\n",
    "    def __init__(self, vertices):\n",
    "        self.graph = {}\n",
    "        for v in vertices:\n",
    "            self.graph[v] = []\n",
    "\n",
    "    def addEdge(self, u, v):\n",
    "        self.graph[u].append(v)\n",
    "\n",
    "    def isCyclicUtil(self, v, visited, recStack):\n",
    "        visited[v] = True\n",
    "        recStack[v] = True\n",
    "        for i in self.graph[v]:\n",
    "            if not visited[i]:\n",
    "                if self.isCyclicUtil(i, visited, recStack):\n",
    "                    return True\n",
    "            elif recStack[i]:\n",
    "                return True\n",
    "        recStack[v] = False\n",
    "        return False\n",
    "\n",
    "    def isCyclic(self):\n",
    "        visited = {v: False for v in self.graph}\n",
    "        recStack = {v: False for v in self.graph}\n",
    "        for v in self.graph:\n",
    "            if not visited[v]:\n",
    "                if self.isCyclicUtil(v, visited, recStack):\n",
    "                    return True\n",
    "        return False\n",
    "\n",
    "g = Graph([0, 1, 2, 3])\n",
    "g.addEdge(0, 1)\n",
    "g.addEdge(0, 2)\n",
    "g.addEdge(1, 2)\n",
    "g.addEdge(2, 0)\n",
    "g.addEdge(2, 3)\n",
    "g.addEdge(3, 3)\n",
    "\n",
    "if g.isCyclic():\n",
    "    print(\"The graph contains a cycle\")\n",
    "else:\n",
    "    print(\"The graph does not contain a cycle\")"
   ]
  },
  {
   "cell_type": "code",
   "execution_count": 7,
   "id": "64e48a27",
   "metadata": {},
   "outputs": [
    {
     "name": "stdout",
     "output_type": "stream",
     "text": [
      "Graph contains cycle\n"
     ]
    }
   ],
   "source": [
    "from collections import defaultdict\n",
    " \n",
    "class Graph():\n",
    "    def __init__(self,vertices):\n",
    "        self.graph = defaultdict(list)\n",
    "        self.V = vertices\n",
    " \n",
    "    def addEdge(self,u,v):\n",
    "        self.graph[u].append(v)\n",
    " \n",
    "    def isCyclicUtil(self, v, visited, recStack):\n",
    " \n",
    "                                                  # Mark current node as visited \n",
    "       \n",
    "        visited[v] = True\n",
    "        recStack[v] = True\n",
    " \n",
    "       \n",
    "                                                 # if any neighbour is visited and in recStack then graph is cyclic\n",
    "        for neighbour in self.graph[v]:\n",
    "            if visited[neighbour] == False:\n",
    "                if self.isCyclicUtil(neighbour, visited, recStack) == True:\n",
    "                    return True\n",
    "            elif recStack[neighbour] == True:\n",
    "                return True\n",
    " \n",
    "        \n",
    "        recStack[v] = False\n",
    "        return False\n",
    " \n",
    "   \n",
    "    def isCyclic(self):\n",
    "        visited = [False] * (self.V + 1)\n",
    "        recStack = [False] * (self.V + 1)\n",
    "        for node in range(self.V):\n",
    "            if visited[node] == False:\n",
    "                if self.isCyclicUtil(node,visited,recStack) == True:\n",
    "                    return True\n",
    "        return False\n",
    " \n",
    "g = Graph(4)\n",
    "g.addEdge(0, 1)\n",
    "g.addEdge(0, 2)\n",
    "g.addEdge(1, 2)\n",
    "g.addEdge(2, 0)\n",
    "g.addEdge(2, 3)\n",
    "g.addEdge(3, 3)\n",
    "if g.isCyclic() == 1:\n",
    "    print (\"Graph contains cycle\")\n",
    "else:\n",
    "    print (\"Graph doesn't contain cycle\")"
   ]
  },
  {
   "cell_type": "code",
   "execution_count": null,
   "id": "08d8b6a5",
   "metadata": {},
   "outputs": [],
   "source": []
  }
 ],
 "metadata": {
  "kernelspec": {
   "display_name": "Python 3 (ipykernel)",
   "language": "python",
   "name": "python3"
  },
  "language_info": {
   "codemirror_mode": {
    "name": "ipython",
    "version": 3
   },
   "file_extension": ".py",
   "mimetype": "text/x-python",
   "name": "python",
   "nbconvert_exporter": "python",
   "pygments_lexer": "ipython3",
   "version": "3.9.12"
  }
 },
 "nbformat": 4,
 "nbformat_minor": 5
}
