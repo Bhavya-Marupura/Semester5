{
 "cells": [
  {
   "cell_type": "code",
   "execution_count": 9,
   "id": "c82d8ff1",
   "metadata": {},
   "outputs": [
    {
     "name": "stdout",
     "output_type": "stream",
     "text": [
      "Enter the number of terms in the list= 6\n",
      "Enter the elements\n",
      "Enter 0 number= 20\n",
      "Enter 1 number= 10\n",
      "Enter 2 number= 15\n",
      "Enter 3 number= 5\n",
      "Enter 4 number= 1\n",
      "Enter 5 number= 14\n",
      "BEFORE SORTING\n",
      "[20, 10, 15, 5, 1, 14]\n",
      "AFTER SORTING\n",
      "[1, 5, 10, 14, 15, 20]\n"
     ]
    }
   ],
   "source": [
    "n=int(input(\"Enter the number of terms in the list= \"))\n",
    "list = []\n",
    "print(\"Enter the elements\")\n",
    "for i in range(n):\n",
    "    try:\n",
    "        x=int(input(\"Enter %d number= \"%(i)))\n",
    "        list.append(x)\n",
    "    except ValueError:\n",
    "            print(\"Enter an integer\")\n",
    "            break\n",
    "print(\"BEFORE SORTING\")\n",
    "print(list)\n",
    "print(\"AFTER SORTING\")\n",
    "for i in range (n):\n",
    "    for j in range(i+1,n):\n",
    "        if(list[i]>list[j]):\n",
    "            temp=list[i]\n",
    "            list[i]=list[j]\n",
    "            list[j]=temp\n",
    "print(list)\n"
   ]
  },
  {
   "cell_type": "code",
   "execution_count": 3,
   "id": "632aacf0",
   "metadata": {
    "scrolled": false
   },
   "outputs": [
    {
     "name": "stdout",
     "output_type": "stream",
     "text": [
      "Enter the max sixe of a stack= 6\n",
      "Enter the number of elements to be inserted= 5\n",
      "Enter the elements\n",
      "Enter 0 number= 10\n",
      "Enter 1 number= 20\n",
      "Enter 2 number= 30\n",
      "Enter 3 number= 40\n",
      "Enter 4 number= 50\n",
      "INITIAL STACK:\n",
      "[10, 20, 30, 40, 50]\n",
      "Performing popping operation\n",
      "Popped element= \n",
      "50\n",
      "Popped element= \n",
      "40\n",
      "Popped element= \n",
      "30\n",
      "Popped element= \n",
      "20\n",
      "Popped element= \n",
      "10\n"
     ]
    }
   ],
   "source": [
    "m=int(input(\"Enter the max sixe of a stack= \"))\n",
    "n=int(input(\"Enter the number of elements to be inserted= \"))\n",
    "stack = []\n",
    "print(\"Enter the elements\")\n",
    "if(n<m):\n",
    "    for i in range(n):\n",
    "        try:\n",
    "            x=int(input(\"Enter %d number= \"%(i)))\n",
    "            stack.append(x)\n",
    "        except ValueError:\n",
    "                print(\"Enter an integer\")\n",
    "                break\n",
    "else:\n",
    "    print(\"Stack is full\")\n",
    "print(\"INITIAL STACK:\")\n",
    "print(stack)\n",
    "print(\"Performing popping operation\")\n",
    "try:\n",
    "    for i in range(n):\n",
    "        print(\"Popped element= \") \n",
    "        print(stack.pop())\n",
    "except IndexError:\n",
    "    print(\"STACK IS EMPTY\")\n",
    "    "
   ]
  },
  {
   "cell_type": "code",
   "execution_count": 31,
   "id": "775804a5",
   "metadata": {
    "scrolled": true
   },
   "outputs": [
    {
     "name": "stdout",
     "output_type": "stream",
     "text": [
      "            2014   2015    2016   2017\n",
      "Madhu      100.5  12000   20000  50000\n",
      "Kusum      150.8  18000   50000  60000\n",
      "Kinshuk    200.9  22000   70000  70000\n",
      "Ankit    30000.0  30000  100000  80000\n",
      "Shruti   40000.0  45000  125000  90000\n",
      "           2018\n",
      "Madhu    160000\n",
      "Kusum    110000\n",
      "Kinshuk   50000\n",
      "Ankit    340000\n",
      "Shruti   900000\n",
      "            2014   2015    2016   2017    2018      total    average\n",
      "Madhu      100.5  12000   20000  50000  160000   242100.5   48420.10\n",
      "Kusum      150.8  18000   50000  60000  110000   238150.8   47630.16\n",
      "Kinshuk    200.9  22000   70000  70000   50000   212200.9   42440.18\n",
      "Ankit    30000.0  30000  100000  80000  340000   580000.0  116000.00\n",
      "Shruti   40000.0  45000  125000  90000  900000  1200000.0  240000.00\n"
     ]
    }
   ],
   "source": [
    "import pandas as pd\n",
    "sales=[{2014:100.5,2015:12000,2016:20000,2017:50000},\n",
    "       {2014:150.8,2015:18000,2016:50000,2017:60000},\n",
    "       {2014:200.9,2015:22000,2016:70000,2017:70000},\n",
    "       {2014:30000,2015:30000,2016:100000,2017:80000},\n",
    "       {2014:40000,2015:45000,2016:125000,2017:90000}]\n",
    "salesdf=pd.DataFrame(sales,index=['Madhu','Kusum','Kinshuk','Ankit','Shruti'])\n",
    "print(salesdf)\n",
    "sales2={2018:[160000,110000,50000,340000,900000]}\n",
    "salesdf2=pd.DataFrame(sales2,index=['Madhu','Kusum','Kinshuk','Ankit','Shruti'])\n",
    "print(salesdf2)\n",
    "salesdf[2018]=[160000,110000,50000,340000,900000]\n",
    "salesdf['total']=salesdf[2014]+salesdf[2015]+salesdf[2016]+salesdf[2017]+salesdf[2018]\n",
    "salesdf['average']=salesdf['total']/5\n",
    "print(salesdf)"
   ]
  },
  {
   "cell_type": "code",
   "execution_count": 39,
   "id": "e36a9f3c",
   "metadata": {},
   "outputs": [
    {
     "name": "stdout",
     "output_type": "stream",
     "text": [
      "Data Analytics using Python----4\n",
      "Avengers Endgame----2\n",
      "Python is easier to code and read compared to other programming languages such as java and c programming.----18\n",
      "We will work on some python codes tomorrow----8\n",
      "python is easy----3\n",
      "Python is a computer programming language often used to build websites and software, automate tasks, and conduct data analysis.----19\n",
      "Python is a general-purpose language, meaning it can be used to create a variety of different programs and isn't specialized for any specific problems.----24\n",
      "[24, 19, 18, 8, 4]\n",
      "the top 5 sentences with maximum word count are\n",
      "Data Analytics using Python-----4\n",
      "Python is easier to code and read compared to other programming languages such as java and c programming.-----18\n",
      "We will work on some python codes tomorrow-----8\n",
      "Python is a computer programming language often used to build websites and software, automate tasks, and conduct data analysis.-----19\n",
      "Python is a general-purpose language, meaning it can be used to create a variety of different programs and isn't specialized for any specific problems.-----24\n"
     ]
    }
   ],
   "source": [
    "fhand=open('C:/Users/Bhavya/OneDrive/Desktop/Bhavya/python.txt')\n",
    "list1=[]\n",
    "list2=[]\n",
    "for line in fhand:\n",
    "    line=line.rstrip()\n",
    "    list1=line.split(\" \")\n",
    "    list2.append(len(list1))\n",
    "    print(line+'----'+str(len(list1)))\n",
    "list2.sort(reverse=True)\n",
    "list2=list2[0:5]\n",
    "print(list2)\n",
    "print('the top 5 sentences with maximum word count are')\n",
    "fhand=open('C:/Users/Bhavya/OneDrive/Desktop/Bhavya/python.txt')\n",
    "for line in fhand:\n",
    "    line=line.rstrip()\n",
    "    list1=line.split(\" \")\n",
    "    for i in list2:\n",
    "        if(len(list1)==i):\n",
    "            print(line+'-----'+str(len(list1)))"
   ]
  },
  {
   "cell_type": "code",
   "execution_count": 1,
   "id": "96387a4e",
   "metadata": {
    "scrolled": true
   },
   "outputs": [
    {
     "name": "stdout",
     "output_type": "stream",
     "text": [
      "<pandas.core.groupby.generic.DataFrameGroupBy object at 0x000002ED6CDFB1C0>\n"
     ]
    }
   ],
   "source": [
    "import pandas as pd \n",
    "import csv\n",
    "fhand = open(\"student.csv\")\n",
    "df = pd.read_csv(\"student.csv\")\n",
    "grouped = df.groupby('Section')\n",
    "header=['Roll No','Section','']"
   ]
  },
  {
   "cell_type": "code",
   "execution_count": null,
   "id": "7cdd39d8",
   "metadata": {},
   "outputs": [],
   "source": []
  },
  {
   "cell_type": "code",
   "execution_count": null,
   "id": "becb1fe2",
   "metadata": {},
   "outputs": [],
   "source": []
  }
 ],
 "metadata": {
  "kernelspec": {
   "display_name": "Python 3 (ipykernel)",
   "language": "python",
   "name": "python3"
  },
  "language_info": {
   "codemirror_mode": {
    "name": "ipython",
    "version": 3
   },
   "file_extension": ".py",
   "mimetype": "text/x-python",
   "name": "python",
   "nbconvert_exporter": "python",
   "pygments_lexer": "ipython3",
   "version": "3.9.12"
  }
 },
 "nbformat": 4,
 "nbformat_minor": 5
}
