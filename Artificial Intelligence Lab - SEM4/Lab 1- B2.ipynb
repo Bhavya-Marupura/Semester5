{
 "cells": [
  {
   "cell_type": "code",
   "execution_count": 15,
   "id": "c09782fa",
   "metadata": {},
   "outputs": [
    {
     "name": "stdout",
     "output_type": "stream",
     "text": [
      "[10, 14, 19, 27, 31, 35, 42]\n"
     ]
    }
   ],
   "source": [
    "class Node:\n",
    "\n",
    "    def __init__(self, data):\n",
    "\n",
    "        self.left = None\n",
    "        self.right = None\n",
    "        self.data = data\n",
    "# Insert Node\n",
    "    def insert(self, data):\n",
    "\n",
    "        if self.data:\n",
    "            if data < self.data:\n",
    "                if self.left is None:\n",
    "                    self.left = Node(data)\n",
    "                else:\n",
    "                    self.left.insert(data)\n",
    "            elif data > self.data:\n",
    "                if self.right is None:\n",
    "                    self.right = Node(data)\n",
    "                else:\n",
    "                    self.right.insert(data)\n",
    "        else:\n",
    "            self.data = data\n",
    "\n",
    "# Print the Tree\n",
    "    def PrintTree(self):\n",
    "        if self.left:\n",
    "            self.left.PrintTree()\n",
    "        print( self.data),\n",
    "        if self.right:\n",
    "            self.right.PrintTree()\n",
    "\n",
    "# Inorder traversal\n",
    "# Left -> Root -> Right\n",
    "    def inorderTraversal(self, root):\n",
    "        res = []\n",
    "        if root:\n",
    "            res = self.inorderTraversal(root.left)\n",
    "            res.append(root.data)\n",
    "            res = res + self.inorderTraversal(root.right)\n",
    "        return res\n",
    "\n",
    "root = Node(27)\n",
    "root.insert(14)\n",
    "root.insert(35)\n",
    "root.insert(10)\n",
    "root.insert(19)\n",
    "root.insert(31)\n",
    "root.insert(42)\n",
    "print(root.inorderTraversal(root))\n"
   ]
  },
  {
   "cell_type": "code",
   "execution_count": null,
   "id": "26d1e4da",
   "metadata": {},
   "outputs": [],
   "source": [
    "size=int(input(\"Enter the number of elements= \"))\n",
    "s1=[]\n",
    "s2=[]\n",
    "x=0\n",
    "a=0\n",
    "while x<size:\n",
    "    item=int(input(\"Enter element to be pushed: \"))\n",
    "    s1.append(item)\n",
    "    x=x+1\n",
    "\n",
    "while a<1:\n",
    "    choice=int(input(\"1)Enqueue\\n2)Dequeue\\n3)Print\\n4)Exit\"))\n",
    "    if choice==1:\n",
    "        c=int(input(\"Enter item to be pushed= \"))\n",
    "        s1.append(c)\n",
    "        size=size+1\n",
    "    if choice==2:\n",
    "        if len(s2)==0:\n",
    "            if len(s1)==0:\n",
    "                print(\"Empty\")\n",
    "        for i in range(0,size):\n",
    "            s2.append(s1.pop())\n",
    "        print(\"Dequeue element is= \")\n",
    "        print(s2.pop())\n",
    "        size=size-1\n",
    "        for i in range(0,size):\n",
    "            s1.append(s2.pop())\n",
    "    if choice==3:\n",
    "        for i in range(0,size):\n",
    "            print(s1.pop())\n",
    "    if choice==4:\n",
    "        break\n",
    "        "
   ]
  },
  {
   "cell_type": "code",
   "execution_count": 13,
   "id": "e90d308b",
   "metadata": {
    "scrolled": true
   },
   "outputs": [
    {
     "name": "stdout",
     "output_type": "stream",
     "text": [
      "11.40175425099138\n",
      "3.0\n",
      "5.830951894845301\n",
      "[11.40175425099138, 3.0, 5.830951894845301]\n",
      "[3.0, 5.830951894845301, 11.40175425099138]\n"
     ]
    }
   ],
   "source": [
    "X=[[9,8],[3,4],[5,6]]\n",
    "Y=[[0,1],[6,4],[0,3]]\n",
    "D=[]\n",
    "def dist(x1,y1,x2,y2):\n",
    "    y=(y1-y2)**2\n",
    "    x=(x1-x2)**2\n",
    "    z=(x+y)**0.5\n",
    "    return z\n",
    "d1=dist(X[0][0],X[0][1],Y[0][0],Y[0][1])\n",
    "print(d1)\n",
    "D.append(d1)\n",
    "d2=dist(X[1][0],X[1][1],Y[1][0],Y[1][1])\n",
    "print(d2)\n",
    "D.append(d2)\n",
    "d3=dist(X[2][0],X[2][1],Y[2][0],Y[2][1])\n",
    "print(d3)\n",
    "D.append(d3)\n",
    "print(D)\n",
    "def bubblesort(list1):\n",
    "    for i in range(0,len(list1)-1):\n",
    "        for j in range(len(list1)-1):\n",
    "            if list1[j]>list1[j+1]:\n",
    "                temp=list1[j]\n",
    "                list1[j]=list1[j+1]\n",
    "                list1[j+1]=temp\n",
    "    return list1\n",
    "print(bubblesort(D))"
   ]
  },
  {
   "cell_type": "code",
   "execution_count": null,
   "id": "ccfcaf3d",
   "metadata": {},
   "outputs": [],
   "source": [
    " "
   ]
  },
  {
   "cell_type": "code",
   "execution_count": null,
   "id": "4f867697",
   "metadata": {},
   "outputs": [],
   "source": []
  }
 ],
 "metadata": {
  "kernelspec": {
   "display_name": "Python 3 (ipykernel)",
   "language": "python",
   "name": "python3"
  },
  "language_info": {
   "codemirror_mode": {
    "name": "ipython",
    "version": 3
   },
   "file_extension": ".py",
   "mimetype": "text/x-python",
   "name": "python",
   "nbconvert_exporter": "python",
   "pygments_lexer": "ipython3",
   "version": "3.9.12"
  }
 },
 "nbformat": 4,
 "nbformat_minor": 5
}
