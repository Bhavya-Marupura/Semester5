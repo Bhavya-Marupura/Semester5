{
 "cells": [
  {
   "cell_type": "code",
   "execution_count": 11,
   "id": "0b5bbbd6",
   "metadata": {},
   "outputs": [
    {
     "name": "stdout",
     "output_type": "stream",
     "text": [
      "Current Value:  9.5\n",
      "Current Point:  9.5\n"
     ]
    }
   ],
   "source": [
    "import random\n",
    "def objective_function(x):\n",
    "    if x<=10 and x>=-10:\n",
    "        return x\n",
    "    else:\n",
    "        return -100\n",
    "def Hill_Climbing_Search(starting_point,step_size,max_iteration):\n",
    "    current_point = starting_point\n",
    "    current_value = objective_function(current_point)\n",
    "    for i in range(max_iteration):\n",
    "        neighbour = current_point + step_size*(random.randint(-10,10))\n",
    "        neighbour_value = objective_function(neighbour)\n",
    "        if(neighbour_value > current_value) and neighbour_value!=-100:\n",
    "            current_point = neighbour\n",
    "            current_value = neighbour_value\n",
    "    return [current_point,current_value]\n",
    "result = Hill_Climbing_Search(8,-0.5,50)\n",
    "print(\"Current Value: \", result[0])\n",
    "print(\"Current Point: \", result[1])"
   ]
  },
  {
   "cell_type": "code",
   "execution_count": 12,
   "id": "1e044e96",
   "metadata": {},
   "outputs": [
    {
     "name": "stdout",
     "output_type": "stream",
     "text": [
      "Current Value:  -10.0\n",
      "Current Point:  -10.0\n"
     ]
    }
   ],
   "source": [
    "import random\n",
    "def objective_function(x):\n",
    "    if x<=10 and x>=-10:\n",
    "        return x\n",
    "    else:\n",
    "        return -100\n",
    "def Hill_Climbing_Search(starting_point,step_size,max_iteration):\n",
    "    current_point = starting_point\n",
    "    current_value = objective_function(current_point)\n",
    "    for i in range(max_iteration):\n",
    "        neighbour = current_point + step_size*(random.randint(-10,10))\n",
    "        neighbour_value = objective_function(neighbour)\n",
    "        if(neighbour_value < current_value) and neighbour_value!=-100:\n",
    "            current_point = neighbour\n",
    "            current_value = neighbour_value\n",
    "    return [current_point,current_value]\n",
    "result = Hill_Climbing_Search(8,-0.5,50)\n",
    "print(\"Current Value: \", result[0])\n",
    "print(\"Current Point: \", result[1])"
   ]
  },
  {
   "cell_type": "code",
   "execution_count": null,
   "id": "c7c35973",
   "metadata": {},
   "outputs": [],
   "source": []
  }
 ],
 "metadata": {
  "kernelspec": {
   "display_name": "Python 3 (ipykernel)",
   "language": "python",
   "name": "python3"
  },
  "language_info": {
   "codemirror_mode": {
    "name": "ipython",
    "version": 3
   },
   "file_extension": ".py",
   "mimetype": "text/x-python",
   "name": "python",
   "nbconvert_exporter": "python",
   "pygments_lexer": "ipython3",
   "version": "3.9.12"
  }
 },
 "nbformat": 4,
 "nbformat_minor": 5
}
