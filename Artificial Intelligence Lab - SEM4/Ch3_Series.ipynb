{
 "cells": [
  {
   "cell_type": "code",
   "execution_count": null,
   "id": "61f9b568",
   "metadata": {},
   "outputs": [],
   "source": [
    "Creating a Series with index"
   ]
  },
  {
   "cell_type": "code",
   "execution_count": 5,
   "id": "d34db6fe",
   "metadata": {},
   "outputs": [
    {
     "name": "stdout",
     "output_type": "stream",
     "text": [
      "Series([], dtype: float64)\n",
      "a    1\n",
      "b    2\n",
      "c    3\n",
      "d    4\n",
      "dtype: int64\n"
     ]
    },
    {
     "name": "stderr",
     "output_type": "stream",
     "text": [
      "C:\\Users\\Mahe\\AppData\\Local\\Temp\\ipykernel_15724\\51444648.py:5: FutureWarning: The default dtype for empty Series will be 'object' instead of 'float64' in a future version. Specify a dtype explicitly to silence this warning.\n",
      "  s=pd.Series()\n"
     ]
    }
   ],
   "source": [
    "#Creating a Series of Ndarray Data with Labels\n",
    "import numpy as np\n",
    "import pandas as pd\n",
    "#Empty Series\n",
    "s=pd.Series()\n",
    "print(s)\n",
    "\n",
    "s1 = pd.Series([1,2,3,4], index=['a','b', 'c', 'd'])\n",
    "print(s1)"
   ]
  },
  {
   "cell_type": "code",
   "execution_count": 9,
   "id": "bd31c8d1",
   "metadata": {},
   "outputs": [
    {
     "name": "stdout",
     "output_type": "stream",
     "text": [
      "A    90\n",
      "B    75\n",
      "C    50\n",
      "D    66\n",
      "dtype: int32\n"
     ]
    }
   ],
   "source": [
    "#Create series from array using pandas and numpy\n",
    "import pandas as pd\n",
    "import numpy as np\n",
    "data = np.array([90,75,50,66])\n",
    "s = pd.Series(data,index=['A','B','C','D'])\n",
    "print (s)"
   ]
  },
  {
   "cell_type": "code",
   "execution_count": 13,
   "id": "a5d65db5",
   "metadata": {},
   "outputs": [
    {
     "name": "stdout",
     "output_type": "stream",
     "text": [
      "Ali      55\n",
      "Ahmed    92\n",
      "Omar     83\n",
      "dtype: int64\n"
     ]
    }
   ],
   "source": [
    "#Create series from dictionary using pandas\n",
    "import pandas as pd\n",
    "import numpy as np\n",
    "data = {'Ahmed' : 92, 'Ali' : 55, 'Omar' : 83}\n",
    "s = pd.Series(data, index=['Ali','Ahmed','Omar'])\n",
    "print (s)"
   ]
  },
  {
   "cell_type": "code",
   "execution_count": 4,
   "id": "d8606bbf",
   "metadata": {},
   "outputs": [
    {
     "name": "stdout",
     "output_type": "stream",
     "text": [
      "a    1.003549\n",
      "b   -0.716537\n",
      "c   -0.122248\n",
      "d    0.528802\n",
      "dtype: float64\n",
      "Index(['a', 'b', 'c', 'd'], dtype='object')\n"
     ]
    }
   ],
   "source": [
    "#numpy.random.randn(d0, d1, ..., dn)\n",
    "import pandas as pd\n",
    "import numpy as np\n",
    "Series1 = pd.Series(np.random.randn(4), index=['a','b', 'c', 'd'])\n",
    "print(Series1)\n",
    "print(Series1.index)"
   ]
  },
  {
   "cell_type": "code",
   "execution_count": 11,
   "id": "e2768759",
   "metadata": {},
   "outputs": [
    {
     "name": "stdout",
     "output_type": "stream",
     "text": [
      "0   -0.028844\n",
      "1    1.312110\n",
      "2   -0.829523\n",
      "3    0.543879\n",
      "dtype: float64\n",
      "RangeIndex(start=0, stop=4, step=1)\n"
     ]
    }
   ],
   "source": [
    "#Creating a Series of Ndarray Data without Labels\n",
    "import numpy as np\n",
    "import pandas as pd\n",
    "Series2 = pd.Series(np.random.randn(4))\n",
    "print(Series2)\n",
    "print(Series2.index)"
   ]
  },
  {
   "cell_type": "code",
   "execution_count": 13,
   "id": "fa0cf441",
   "metadata": {},
   "outputs": [
    {
     "name": "stdout",
     "output_type": "stream",
     "text": [
      " \n",
      " Series slicing \n",
      "a   -1.813085\n",
      "b   -1.813085\n",
      "c   -1.813085\n",
      "dtype: float64\n",
      "\n",
      "Index accessing\n",
      "d   -1.813085\n",
      "b   -1.813085\n",
      "a   -1.813085\n",
      "dtype: float64\n",
      "\n",
      "Single index\n",
      "-1.8130850203144702\n"
     ]
    }
   ],
   "source": [
    "#Slicing data from a series\n",
    "print (\" \\n Series slicing \")\n",
    "print (Series1[:3])\n",
    "print (\"\\nIndex accessing\")\n",
    "print (Series1[[3,1,0]])\n",
    "print (\"\\nSingle index\")\n",
    "x = Series1[0]\n",
    "print (x)"
   ]
  },
  {
   "cell_type": "code",
   "execution_count": 21,
   "id": "68cd99dc",
   "metadata": {},
   "outputs": [
    {
     "name": "stdout",
     "output_type": "stream",
     "text": [
      "\n",
      "Series Sample operations\n",
      "\n",
      " Series values greater than the mean: 0.0037\n",
      "a    0.035903\n",
      "c    0.286906\n",
      "d    0.227792\n",
      "dtype: float64\n",
      "\n",
      " Series values greater than the Meadian:0.1318\n",
      "c    0.286906\n",
      "d    0.227792\n",
      "dtype: float64\n",
      "\n",
      "Exponential value \n",
      "a    1.036555\n",
      "b    0.585283\n",
      "c    1.332299\n",
      "d    1.255823\n",
      "dtype: float64\n"
     ]
    }
   ],
   "source": [
    "#Series Sample Operations \n",
    "print (\"\\nSeries Sample operations\")\n",
    "print (\"\\n Series values greater than the mean: %.4f\"% Series1.mean())\n",
    "print (Series1 [Series1> Series1.mean()])\n",
    "print (\"\\n Series values greater than the Meadian:%.4f\" % Series1.median())\n",
    "print (Series1 [Series1> Series1.median()])\n",
    "print (\"\\nExponential value \")\n",
    "Series1Exp = np.exp(Series1)\n",
    "print (Series1Exp)"
   ]
  },
  {
   "cell_type": "markdown",
   "id": "f6527e0d",
   "metadata": {},
   "source": [
    "Creating a Series from Dictionary"
   ]
  },
  {
   "cell_type": "code",
   "execution_count": 9,
   "id": "d04c9f29",
   "metadata": {},
   "outputs": [
    {
     "name": "stdout",
     "output_type": "stream",
     "text": [
      "\n",
      "Series of non declared index\n",
      "m         2\n",
      "y      2018\n",
      "d    Sunday\n",
      "dtype: object\n",
      "\n",
      "Series of declared index\n",
      "y      2018\n",
      "m         2\n",
      "d    Sunday\n",
      "s       NaN\n",
      "dtype: object\n"
     ]
    }
   ],
   "source": [
    "dict = {'m' : 2, 'y' : 2018, 'd' : 'Sunday'}\n",
    "print (\"\\nSeries of non declared index\")\n",
    "SeriesDict1 = pd.Series(dict)\n",
    "print(SeriesDict1)\n",
    "print (\"\\nSeries of declared index\")\n",
    "SeriesDict2 = pd.Series(dict, index=['y', 'm', 'd','s']) \n",
    "print(SeriesDict2)"
   ]
  },
  {
   "cell_type": "code",
   "execution_count": 11,
   "id": "10f83f06",
   "metadata": {},
   "outputs": [
    {
     "name": "stdout",
     "output_type": "stream",
     "text": [
      "\n",
      "Use the get and set methods to accessa series values by index label\n",
      "\n",
      "2018\n",
      "y      1999\n",
      "m         2\n",
      "d    Sunday\n",
      "s       NaN\n",
      "dtype: object\n",
      "1999\n"
     ]
    }
   ],
   "source": [
    "#Altering a Series and using Get() method\n",
    "dict = {'m' : 2, 'y' : 2018, 'd' : 'Sunday'}\n",
    "print (\"\\nUse the get and set methods to access\" \"a series values by index label\\n\")\n",
    "SeriesDict2 = pd.Series(dict, index=['y', 'm', 'd','s']) \n",
    "print (SeriesDict2['y']) # Display the year\n",
    "SeriesDict2['y']=1999 # change the year value\n",
    "print (SeriesDict2) # Display all dictionary values \n",
    "print (SeriesDict2.get('y')) # get specific value by its key\n",
    " "
   ]
  },
  {
   "cell_type": "code",
   "execution_count": null,
   "id": "f0c6b511",
   "metadata": {},
   "outputs": [],
   "source": [
    "Creating a Series from a sclar value"
   ]
  },
  {
   "cell_type": "code",
   "execution_count": 12,
   "id": "e96f2fed",
   "metadata": {},
   "outputs": [
    {
     "name": "stdout",
     "output_type": "stream",
     "text": [
      "\n",
      " CREATE SERIES FORM SCALAR VALUE \n",
      "a    8.0\n",
      "b    8.0\n",
      "c    8.0\n",
      "d    8.0\n",
      "dtype: float64\n"
     ]
    }
   ],
   "source": [
    "print (\"\\n CREATE SERIES FORM SCALAR VALUE \")\n",
    "Scl = pd.Series(8., index=['a', 'b', 'c', 'd'])\n",
    "print (Scl)"
   ]
  },
  {
   "cell_type": "markdown",
   "id": "497bf007",
   "metadata": {},
   "source": [
    "Vectorised Operations and Label Alignment in Series"
   ]
  },
  {
   "cell_type": "code",
   "execution_count": 14,
   "id": "6528bfab",
   "metadata": {},
   "outputs": [
    {
     "name": "stdout",
     "output_type": "stream",
     "text": [
      "Addition\n",
      "a    2\n",
      "b    4\n",
      "c    6\n",
      "d    8\n",
      "dtype: int64\n",
      "Addition with non-matched labels\n",
      "a    NaN\n",
      "b    4.0\n",
      "c    6.0\n",
      "d    NaN\n",
      "dtype: float64\n"
     ]
    }
   ],
   "source": [
    "SerX = pd.Series([1,2,3,4], index=['a', 'b', 'c', 'd'])\n",
    "print (\"Addition\");\n",
    "print( SerX + SerX)\n",
    "print (\"Addition with non-matched labels\");\n",
    "print (SerX[1:] + SerX[:-1])\n"
   ]
  },
  {
   "cell_type": "code",
   "execution_count": 15,
   "id": "86b730e9",
   "metadata": {},
   "outputs": [
    {
     "name": "stdout",
     "output_type": "stream",
     "text": [
      "Multiplication\n",
      "a     1\n",
      "b     4\n",
      "c     9\n",
      "d    16\n",
      "dtype: int64\n",
      "Exponential\n",
      "a     2.718282\n",
      "b     7.389056\n",
      "c    20.085537\n",
      "d    54.598150\n",
      "dtype: float64\n"
     ]
    }
   ],
   "source": [
    "print (\"Multiplication\");\n",
    "print (SerX * SerX)\n",
    "print (\"Exponential\");\n",
    "print (np.exp(SerX))"
   ]
  },
  {
   "cell_type": "code",
   "execution_count": 14,
   "id": "ad1dec3a",
   "metadata": {},
   "outputs": [
    {
     "name": "stdout",
     "output_type": "stream",
     "text": [
      "StudentsMarks\n",
      "Marks\n"
     ]
    }
   ],
   "source": [
    "#Name Attribute\n",
    "std = pd.Series([77,89,65,90], name='StudentsMarks')\n",
    "print (std.name)\n",
    "std = std.rename(\"Marks\")\n",
    "print (std.name)"
   ]
  },
  {
   "cell_type": "code",
   "execution_count": null,
   "id": "51732da3",
   "metadata": {},
   "outputs": [],
   "source": []
  }
 ],
 "metadata": {
  "kernelspec": {
   "display_name": "Python 3 (ipykernel)",
   "language": "python",
   "name": "python3"
  },
  "language_info": {
   "codemirror_mode": {
    "name": "ipython",
    "version": 3
   },
   "file_extension": ".py",
   "mimetype": "text/x-python",
   "name": "python",
   "nbconvert_exporter": "python",
   "pygments_lexer": "ipython3",
   "version": "3.9.12"
  }
 },
 "nbformat": 4,
 "nbformat_minor": 5
}
