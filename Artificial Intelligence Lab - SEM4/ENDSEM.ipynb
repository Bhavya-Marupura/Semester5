{
 "cells": [
  {
   "cell_type": "code",
   "execution_count": 8,
   "id": "64477dab",
   "metadata": {},
   "outputs": [],
   "source": [
    "#crypt arithmetic - constraint satisfaction probelm\n"
   ]
  },
  {
   "cell_type": "code",
   "execution_count": 1,
   "id": "8f166d96",
   "metadata": {},
   "outputs": [
    {
     "name": "stdout",
     "output_type": "stream",
     "text": [
      "NOPE\n"
     ]
    }
   ],
   "source": [
    "from itertools import permutations\n",
    "\n",
    "def solvepuzzle():\n",
    "    letters=set('MITANPLHE')\n",
    "    digits=set(range(10))\n",
    "    for perm in permutations(digits,len(letters)):\n",
    "        mapping=dict(zip(letters,perm))\n",
    "        m=mapping['M']\n",
    "        i=mapping['I']\n",
    "        t=mapping['T']\n",
    "        a=mapping['A']\n",
    "        n=mapping['N']\n",
    "        p=mapping['P']\n",
    "        l=mapping['L']\n",
    "        h=mapping['H']\n",
    "        e=mapping['E']\n",
    "    if m*100 + i*10 + t + m*1000000 + a*100000 + n*10000+ i*1000 + p*100 + a*10 + l == m*1000000 + i*100000 + t*10000 + m*1000+ a*100 + h*10+ e:\n",
    "        print(f\"{m}{i}{t}+{m}{a}{n}{i}{p}{a}{l}={m}{i}{t}{m}{a}{h}{e}\")\n",
    "    else:\n",
    "        print(\"NOPE\")\n",
    "solvepuzzle()"
   ]
  },
  {
   "cell_type": "code",
   "execution_count": 10,
   "id": "45672d30",
   "metadata": {},
   "outputs": [
    {
     "name": "stdout",
     "output_type": "stream",
     "text": [
      "526485 + 197485 = 723970\n"
     ]
    }
   ],
   "source": [
    "from itertools import permutations\n",
    "\n",
    "def solvepuzzle():\n",
    "    letters=set('DONALGERBT')\n",
    "    digits=set(range(10))\n",
    "    for perm in permutations(digits,len(letters)):\n",
    "        mapping=dict(zip(letters,perm))\n",
    "        d=mapping['D']\n",
    "        o=mapping['O']\n",
    "        n=mapping['N']\n",
    "        a=mapping['A']\n",
    "        l=mapping['L']\n",
    "        g=mapping['G']\n",
    "        e=mapping['E']\n",
    "        r=mapping['R']\n",
    "        b=mapping['B']\n",
    "        t=mapping['T']\n",
    "        if d*100000 + o*10000 + n*1000 + a*100 + l*10 + d + g*100000 + e*10000 + r*1000 + a*100 + l*10 + d == r*100000+ o*10000 + b*1000 + e*100 + r*10 + t:\n",
    "            print(f'{d}{o}{n}{a}{l}{d} + {g}{e}{r}{a}{l}{d} = {r}{o}{b}{e}{r}{t}')    \n",
    "solvepuzzle()"
   ]
  },
  {
   "cell_type": "code",
   "execution_count": null,
   "id": "dc53cbe4",
   "metadata": {},
   "outputs": [],
   "source": [
    "#8 Queens problem - Backtracking"
   ]
  },
  {
   "cell_type": "code",
   "execution_count": 22,
   "id": "6b8e3210",
   "metadata": {
    "scrolled": true
   },
   "outputs": [
    {
     "name": "stdout",
     "output_type": "stream",
     "text": [
      "Enter the number of queens= \n",
      "4\n",
      "[0, 1, 0, 0]\n",
      "[0, 0, 0, 1]\n",
      "[1, 0, 0, 0]\n",
      "[0, 0, 1, 0]\n"
     ]
    }
   ],
   "source": [
    "print(\"Enter the number of queens= \")\n",
    "N= int(input())\n",
    "\n",
    "board = [[0]*N for _ in range(0,N)]\n",
    "\n",
    "def attack(i,j):\n",
    "    for k in range(0,N):\n",
    "        if board[i][k]==1 or board[k][j]==1:\n",
    "            return True\n",
    "    for k in range(0,N):\n",
    "        for l in range(0,N):\n",
    "            if (k+l==i+j) or (k-l==i-j):\n",
    "                if board[k][l]==1:\n",
    "                    return True\n",
    "    return False\n",
    "\n",
    "def solve(n):\n",
    "    if n==0:\n",
    "        return True\n",
    "    for i in range(0,N):\n",
    "        for j in range(0,N):\n",
    "            if(not(attack(i,j)))and (board[i][j]!=1):\n",
    "                board[i][j]=1\n",
    "                if solve(n-1)==True:\n",
    "                    return True\n",
    "                board[i][j]=0\n",
    "    return False\n",
    "\n",
    "solve(N)\n",
    "\n",
    "for i in board:\n",
    "    print(i)\n",
    "                "
   ]
  },
  {
   "cell_type": "code",
   "execution_count": null,
   "id": "8164fb23",
   "metadata": {},
   "outputs": [],
   "source": [
    "#solutions using bfs for n queens"
   ]
  },
  {
   "cell_type": "code",
   "execution_count": 7,
   "id": "8291db74",
   "metadata": {},
   "outputs": [
    {
     "name": "stdout",
     "output_type": "stream",
     "text": [
      "TOT SOLS:92\n",
      "0->[0, 4, 7, 5, 2, 6, 1, 3]\n",
      "1->[0, 5, 7, 2, 6, 3, 1, 4]\n",
      "2->[0, 6, 3, 5, 7, 1, 4, 2]\n",
      "3->[0, 6, 4, 7, 1, 3, 5, 2]\n",
      "4->[1, 3, 5, 7, 2, 0, 6, 4]\n",
      "5->[1, 4, 6, 0, 2, 7, 5, 3]\n",
      "6->[1, 4, 6, 3, 0, 7, 5, 2]\n",
      "7->[1, 5, 0, 6, 3, 7, 2, 4]\n",
      "8->[1, 5, 7, 2, 0, 3, 6, 4]\n",
      "9->[1, 6, 2, 5, 7, 4, 0, 3]\n",
      "10->[1, 6, 4, 7, 0, 3, 5, 2]\n",
      "11->[1, 7, 5, 0, 2, 4, 6, 3]\n",
      "12->[2, 0, 6, 4, 7, 1, 3, 5]\n",
      "13->[2, 4, 1, 7, 0, 6, 3, 5]\n",
      "14->[2, 4, 1, 7, 5, 3, 6, 0]\n",
      "15->[2, 4, 6, 0, 3, 1, 7, 5]\n",
      "16->[2, 4, 7, 3, 0, 6, 1, 5]\n",
      "17->[2, 5, 1, 4, 7, 0, 6, 3]\n",
      "18->[2, 5, 1, 6, 0, 3, 7, 4]\n",
      "19->[2, 5, 1, 6, 4, 0, 7, 3]\n",
      "20->[2, 5, 3, 0, 7, 4, 6, 1]\n",
      "21->[2, 5, 3, 1, 7, 4, 6, 0]\n",
      "22->[2, 5, 7, 0, 3, 6, 4, 1]\n",
      "23->[2, 5, 7, 0, 4, 6, 1, 3]\n",
      "24->[2, 5, 7, 1, 3, 0, 6, 4]\n",
      "25->[2, 6, 1, 7, 4, 0, 3, 5]\n",
      "26->[2, 6, 1, 7, 5, 3, 0, 4]\n",
      "27->[2, 7, 3, 6, 0, 5, 1, 4]\n",
      "28->[3, 0, 4, 7, 1, 6, 2, 5]\n",
      "29->[3, 0, 4, 7, 5, 2, 6, 1]\n",
      "30->[3, 1, 4, 7, 5, 0, 2, 6]\n",
      "31->[3, 1, 6, 2, 5, 7, 0, 4]\n",
      "32->[3, 1, 6, 2, 5, 7, 4, 0]\n",
      "33->[3, 1, 6, 4, 0, 7, 5, 2]\n",
      "34->[3, 1, 7, 4, 6, 0, 2, 5]\n",
      "35->[3, 1, 7, 5, 0, 2, 4, 6]\n",
      "36->[3, 5, 0, 4, 1, 7, 2, 6]\n",
      "37->[3, 5, 7, 1, 6, 0, 2, 4]\n",
      "38->[3, 5, 7, 2, 0, 6, 4, 1]\n",
      "39->[3, 6, 0, 7, 4, 1, 5, 2]\n",
      "40->[3, 6, 2, 7, 1, 4, 0, 5]\n",
      "41->[3, 6, 4, 1, 5, 0, 2, 7]\n",
      "42->[3, 6, 4, 2, 0, 5, 7, 1]\n",
      "43->[3, 7, 0, 2, 5, 1, 6, 4]\n",
      "44->[3, 7, 0, 4, 6, 1, 5, 2]\n",
      "45->[3, 7, 4, 2, 0, 6, 1, 5]\n",
      "46->[4, 0, 3, 5, 7, 1, 6, 2]\n",
      "47->[4, 0, 7, 3, 1, 6, 2, 5]\n",
      "48->[4, 0, 7, 5, 2, 6, 1, 3]\n",
      "49->[4, 1, 3, 5, 7, 2, 0, 6]\n",
      "50->[4, 1, 3, 6, 2, 7, 5, 0]\n",
      "51->[4, 1, 5, 0, 6, 3, 7, 2]\n",
      "52->[4, 1, 7, 0, 3, 6, 2, 5]\n",
      "53->[4, 2, 0, 5, 7, 1, 3, 6]\n",
      "54->[4, 2, 0, 6, 1, 7, 5, 3]\n",
      "55->[4, 2, 7, 3, 6, 0, 5, 1]\n",
      "56->[4, 6, 0, 2, 7, 5, 3, 1]\n",
      "57->[4, 6, 0, 3, 1, 7, 5, 2]\n",
      "58->[4, 6, 1, 3, 7, 0, 2, 5]\n",
      "59->[4, 6, 1, 5, 2, 0, 3, 7]\n",
      "60->[4, 6, 1, 5, 2, 0, 7, 3]\n",
      "61->[4, 6, 3, 0, 2, 7, 5, 1]\n",
      "62->[4, 7, 3, 0, 2, 5, 1, 6]\n",
      "63->[4, 7, 3, 0, 6, 1, 5, 2]\n",
      "64->[5, 0, 4, 1, 7, 2, 6, 3]\n",
      "65->[5, 1, 6, 0, 2, 4, 7, 3]\n",
      "66->[5, 1, 6, 0, 3, 7, 4, 2]\n",
      "67->[5, 2, 0, 6, 4, 7, 1, 3]\n",
      "68->[5, 2, 0, 7, 3, 1, 6, 4]\n",
      "69->[5, 2, 0, 7, 4, 1, 3, 6]\n",
      "70->[5, 2, 4, 6, 0, 3, 1, 7]\n",
      "71->[5, 2, 4, 7, 0, 3, 1, 6]\n",
      "72->[5, 2, 6, 1, 3, 7, 0, 4]\n",
      "73->[5, 2, 6, 1, 7, 4, 0, 3]\n",
      "74->[5, 2, 6, 3, 0, 7, 1, 4]\n",
      "75->[5, 3, 0, 4, 7, 1, 6, 2]\n",
      "76->[5, 3, 1, 7, 4, 6, 0, 2]\n",
      "77->[5, 3, 6, 0, 2, 4, 1, 7]\n",
      "78->[5, 3, 6, 0, 7, 1, 4, 2]\n",
      "79->[5, 7, 1, 3, 0, 6, 4, 2]\n",
      "80->[6, 0, 2, 7, 5, 3, 1, 4]\n",
      "81->[6, 1, 3, 0, 7, 4, 2, 5]\n",
      "82->[6, 1, 5, 2, 0, 3, 7, 4]\n",
      "83->[6, 2, 0, 5, 7, 4, 1, 3]\n",
      "84->[6, 2, 7, 1, 4, 0, 5, 3]\n",
      "85->[6, 3, 1, 4, 7, 0, 2, 5]\n",
      "86->[6, 3, 1, 7, 5, 0, 2, 4]\n",
      "87->[6, 4, 2, 0, 5, 7, 1, 3]\n",
      "88->[7, 1, 3, 0, 6, 4, 2, 5]\n",
      "89->[7, 1, 4, 2, 0, 6, 3, 5]\n",
      "90->[7, 2, 0, 5, 1, 4, 6, 3]\n",
      "91->[7, 3, 0, 2, 5, 1, 6, 4]\n"
     ]
    }
   ],
   "source": [
    "def is_valid(board,row,col):\n",
    "    for i in range(row):\n",
    "        if board[i]==col or board[i]-i==col-row or board[i]+i==col+row:\n",
    "            return False\n",
    "    return True\n",
    "\n",
    "def solve():\n",
    "    queue=[]\n",
    "    queue.append((0,[]))\n",
    "    solutions=[]\n",
    "    while queue:\n",
    "        row,board=queue.pop(0)\n",
    "        if row==8:\n",
    "            solutions.append(board)\n",
    "        else:\n",
    "            for col in range(8):\n",
    "                if is_valid(board,row,col):\n",
    "                    new_board=board+[col]\n",
    "                    queue.append((row+1,new_board))\n",
    "    return solutions\n",
    "solutions=solve()\n",
    "print(f\"TOT SOLS:{len(solutions)}\")\n",
    "for i,solution in enumerate(solutions):\n",
    "    print(f\"{i}->{solution}\")"
   ]
  },
  {
   "cell_type": "code",
   "execution_count": 27,
   "id": "73275db8",
   "metadata": {},
   "outputs": [],
   "source": [
    "#8 queens using hill climbing"
   ]
  },
  {
   "cell_type": "code",
   "execution_count": null,
   "id": "f99ad313",
   "metadata": {},
   "outputs": [],
   "source": []
  },
  {
   "cell_type": "code",
   "execution_count": null,
   "id": "81524f24",
   "metadata": {},
   "outputs": [],
   "source": []
  },
  {
   "cell_type": "code",
   "execution_count": null,
   "id": "760179be",
   "metadata": {},
   "outputs": [],
   "source": [
    "#adjacency list"
   ]
  },
  {
   "cell_type": "code",
   "execution_count": 53,
   "id": "8edc0eb5",
   "metadata": {},
   "outputs": [
    {
     "name": "stdout",
     "output_type": "stream",
     "text": [
      "A->  B-> F-> \n",
      "B->  A-> D-> C-> \n",
      "C->  B-> D-> E-> \n",
      "D->  B-> C-> E-> \n",
      "E->  I-> J-> C-> D-> \n",
      "F->  H-> G-> A-> \n",
      "G->  F-> I-> \n",
      "H->  F-> I-> \n",
      "I->  J-> G-> H-> E-> \n",
      "J->  E-> I-> \n"
     ]
    }
   ],
   "source": [
    "graph = {\n",
    "    'A': {'B': 6, 'F': 3},\n",
    "    'B': {'A': 6, 'D': 2, 'C': 3},\n",
    "    'C': {'B': 3, 'D': 1, 'E': 5},\n",
    "    'D': {'B': 2, 'C': 1, 'E': 8},\n",
    "    'E': {'I': 5, 'J': 5, 'C': 5, 'D': 8},\n",
    "    'F': {'H': 7, 'G': 1, 'A': 3},\n",
    "    'G': {'F': 1, 'I': 3},\n",
    "    'H': {'F': 7, 'I': 2},\n",
    "    'I': {'J': 3, 'G': 3, 'H': 2, 'E': 5},\n",
    "    'J': {'E': 5, 'I': 3}\n",
    "}\n",
    "\n",
    "for vertex in graph:\n",
    "    print(f\"{vertex}-> \",end=\" \")\n",
    "    for side in graph[vertex]:\n",
    "        print(f\"{side}->\",end=\" \")\n",
    "    print()"
   ]
  },
  {
   "cell_type": "code",
   "execution_count": null,
   "id": "4ec138b6",
   "metadata": {},
   "outputs": [],
   "source": [
    "#A*"
   ]
  },
  {
   "cell_type": "code",
   "execution_count": 42,
   "id": "b9d17f93",
   "metadata": {},
   "outputs": [
    {
     "name": "stdout",
     "output_type": "stream",
     "text": [
      "['A', 'F', 'G', 'I', 'J']\n"
     ]
    }
   ],
   "source": [
    "from queue import PriorityQueue\n",
    "graph = {\n",
    "    'A': {'B': 6, 'F': 3},\n",
    "    'B': {'A': 6, 'D': 2, 'C': 3},\n",
    "    'C': {'B': 3, 'D': 1, 'E': 5},\n",
    "    'D': {'B': 2, 'C': 1, 'E': 8},\n",
    "    'E': {'I': 5, 'J': 5, 'C': 5, 'D': 8},\n",
    "    'F': {'H': 7, 'G': 1, 'A': 3},\n",
    "    'G': {'F': 1, 'I': 3},\n",
    "    'H': {'F': 7, 'I': 2},\n",
    "    'I': {'J': 3, 'G': 3, 'H': 2, 'E': 5},\n",
    "    'J': {'E': 5, 'I': 3}\n",
    "}# Define the heuristic function\n",
    "heuristic = {\n",
    "    'A': 10,\n",
    "    'B': 8,\n",
    "    'C': 5,\n",
    "    'D': 7,\n",
    "    'E': 3,\n",
    "    'F': 6,\n",
    "    'G': 5,\n",
    "    'H': 3,\n",
    "    'I': 1,\n",
    "    'J': 0\n",
    "}\n",
    "\n",
    "def astar(graph,start,goal,heuristic):\n",
    "    frontier=PriorityQueue()\n",
    "    frontier.put(start,0)\n",
    "    came_from={}\n",
    "    cost_so_far={}\n",
    "    came_from[start]=None\n",
    "    cost_so_far[start]=0\n",
    "    while not frontier.empty():\n",
    "        current=frontier.get()\n",
    "        if current==goal:\n",
    "            break\n",
    "        for neighbor in graph[current[0]]:\n",
    "            new_cost=cost_so_far[current[0]]+graph[current[0]][neighbor]\n",
    "            if neighbor not in cost_so_far or new_cost < cost_so_far[neighbor]:\n",
    "                cost_so_far[neighbor]=new_cost\n",
    "                priority=new_cost+heuristic[neighbor]\n",
    "                frontier.put((neighbor,priority))\n",
    "                came_from[neighbor]=current[0]\n",
    "        path=[]\n",
    "    current=goal\n",
    "    while current!=start:\n",
    "        path.append(current)\n",
    "        current=came_from[current]\n",
    "    path.append(start)\n",
    "    path.reverse()\n",
    "    return path\n",
    "\n",
    "shortest_path=astar(graph,'A','J',heuristic)\n",
    "print(shortest_path)"
   ]
  },
  {
   "cell_type": "code",
   "execution_count": 18,
   "id": "526e55d1",
   "metadata": {},
   "outputs": [
    {
     "name": "stdout",
     "output_type": "stream",
     "text": [
      "['A', 'F', 'G', 'I', 'J']\n",
      "10\n"
     ]
    }
   ],
   "source": [
    "from queue import PriorityQueue\n",
    "graph = {\n",
    "    'A': {'B': 6, 'F': 3},\n",
    "    'B': {'A': 6, 'D': 2, 'C': 3},\n",
    "    'C': {'B': 3, 'D': 1, 'E': 5},\n",
    "    'D': {'B': 2, 'C': 1, 'E': 8},\n",
    "    'E': {'I': 5, 'J': 5, 'C': 5, 'D': 8},\n",
    "    'F': {'H': 7, 'G': 1, 'A': 3},\n",
    "    'G': {'F': 1, 'I': 3},\n",
    "    'H': {'F': 7, 'I': 2},\n",
    "    'I': {'J': 3, 'G': 3, 'H': 2, 'E': 5},\n",
    "    'J': {'E': 5, 'I': 3}\n",
    "}# Define the heuristic function\n",
    "heuristic = {\n",
    "    'A': 10,\n",
    "    'B': 8,\n",
    "    'C': 5,\n",
    "    'D': 7,\n",
    "    'E': 3,\n",
    "    'F': 6,\n",
    "    'G': 5,\n",
    "    'H': 3,\n",
    "    'I': 1,\n",
    "    'J': 0\n",
    "}\n",
    "\n",
    "def astar(graph,start,goal,heuristic):\n",
    "    frontier=PriorityQueue()\n",
    "    frontier.put(start,0)\n",
    "    came_from={}\n",
    "    cost_so_far={}\n",
    "    came_from[start]=None\n",
    "    cost_so_far[start]=0\n",
    "    while not frontier.empty():\n",
    "        current=frontier.get()\n",
    "        if current == goal:\n",
    "            break\n",
    "        for neighbor in graph[current]:\n",
    "            new_cost=cost_so_far[current]+graph[current][neighbor]\n",
    "            if neighbor not in cost_so_far or new_cost<cost_so_far[neighbor]:\n",
    "                cost_so_far[neighbor]=new_cost\n",
    "                priority=new_cost+heuristic[neighbor]\n",
    "                frontier.put(neighbor,priority)\n",
    "                came_from[neighbor]=current\n",
    "    path=[]\n",
    "    current=goal\n",
    "    while current!=start:\n",
    "        path.append(current)\n",
    "        current=came_from[current]\n",
    "    path.append(start)\n",
    "    path.reverse()\n",
    "    return path\n",
    "\n",
    "shortest_path=astar(graph,'A','J',heuristic)\n",
    "print(shortest_path)\n",
    "sum=0\n",
    "for i in range(len(shortest_path)-1):\n",
    "    sum=sum+graph[shortest_path[i]][shortest_path[i+1]]\n",
    "print(sum)\n"
   ]
  },
  {
   "cell_type": "code",
   "execution_count": 30,
   "id": "f3b17dec",
   "metadata": {},
   "outputs": [
    {
     "name": "stdout",
     "output_type": "stream",
     "text": [
      "['A', 'F', 'G', 'I', 'J']\n",
      "10\n"
     ]
    }
   ],
   "source": [
    "from queue import PriorityQueue\n",
    "graph = {\n",
    "    'A': {'B': 6, 'F': 3},\n",
    "    'B': {'A': 6, 'D': 2, 'C': 3},\n",
    "    'C': {'B': 3, 'D': 1, 'E': 5},\n",
    "    'D': {'B': 2, 'C': 1, 'E': 8},\n",
    "    'E': {'I': 5, 'J': 5, 'C': 5, 'D': 8},\n",
    "    'F': {'H': 7, 'G': 1, 'A': 3},\n",
    "    'G': {'F': 1, 'I': 3},\n",
    "    'H': {'F': 7, 'I': 2},\n",
    "    'I': {'J': 3, 'G': 3, 'H': 2, 'E': 5},\n",
    "    'J': {'E': 5, 'I': 3}\n",
    "}# Define the heuristic function\n",
    "heuristic = {\n",
    "    'A': 10,\n",
    "    'B': 8,\n",
    "    'C': 5,\n",
    "    'D': 7,\n",
    "    'E': 3,\n",
    "    'F': 6,\n",
    "    'G': 5,\n",
    "    'H': 3,\n",
    "    'I': 1,\n",
    "    'J': 0\n",
    "}\n",
    "\n",
    "def astar(graph,start,goal,heuristic):\n",
    "    frontier=PriorityQueue()\n",
    "    frontier.put(start,0)\n",
    "    came_from={}\n",
    "    cost_so_far={}\n",
    "    came_from[start]=None\n",
    "    cost_so_far[start]=0\n",
    "    while not frontier.empty():\n",
    "        current=frontier.get()\n",
    "        if current==goal:\n",
    "            break\n",
    "        for neighbor in graph[current[0]]:\n",
    "            new_cost=cost_so_far[current[0]]+graph[current[0]][neighbor]\n",
    "            if neighbor not in cost_so_far or new_cost<cost_so_far[neighbor]:\n",
    "                cost_so_far[neighbor]=new_cost\n",
    "                priority=new_cost+heuristic[neighbor]\n",
    "                frontier.put((neighbor,priority))\n",
    "                came_from[neighbor]=current[0]\n",
    "    path=[]\n",
    "    current=goal\n",
    "    while current!=start:\n",
    "        path.append(current)\n",
    "        current=came_from[current]\n",
    "    path.append(start)\n",
    "    path.reverse()\n",
    "    return path\n",
    "\n",
    "path=astar(graph,'A','J',heuristic)\n",
    "print(path)\n",
    "sum=0\n",
    "for i in range(len(path)-1):\n",
    "    sum=sum+graph[path[i]][path[i+1]]\n",
    "print(sum)"
   ]
  },
  {
   "cell_type": "code",
   "execution_count": 25,
   "id": "a282b84e",
   "metadata": {},
   "outputs": [],
   "source": [
    "# 8 Puzzle problem"
   ]
  },
  {
   "cell_type": "code",
   "execution_count": 26,
   "id": "d26fb165",
   "metadata": {},
   "outputs": [
    {
     "name": "stdout",
     "output_type": "stream",
     "text": [
      "2 8 3 \n",
      "1 6 4 \n",
      "7 0 5 \n",
      "5\n",
      "\n",
      "2 8 3 \n",
      "1 0 4 \n",
      "7 6 5 \n",
      "3\n",
      "\n",
      "2 0 3 \n",
      "1 8 4 \n",
      "7 6 5 \n",
      "4\n",
      "\n",
      "0 2 3 \n",
      "1 8 4 \n",
      "7 6 5 \n",
      "3\n",
      "\n",
      "1 2 3 \n",
      "0 8 4 \n",
      "7 6 5 \n",
      "2\n",
      "\n",
      "1 2 3 \n",
      "8 0 4 \n",
      "7 6 5 \n",
      "0\n",
      "\n"
     ]
    }
   ],
   "source": [
    "from queue import PriorityQueue\n",
    "import copy\n",
    "initial_state = [[2,8,3], [1,6,4], [7,0,5]]\n",
    "goal_state = [[1, 2, 3], [8,0,4], [7,6,5]]\n",
    "\n",
    "def heuristic(state):\n",
    "    count=0\n",
    "    for i in range(3):\n",
    "        for j in range(3):\n",
    "            if state[i][j]!=goal_state[i][j]:\n",
    "                count=count+1\n",
    "    return count\n",
    "\n",
    "def astar(initial_state,goal_state,heuristic):\n",
    "    frontier=PriorityQueue()\n",
    "    frontier.put((heuristic(initial_state),initial_state))\n",
    "    came_from={}\n",
    "    came_from[str(initial_state)]=None\n",
    "    cost_so_far={}\n",
    "    cost_so_far[str(initial_state)]=0\n",
    "    while not frontier.empty():\n",
    "        current=frontier.get()[1]\n",
    "        if current==goal_state:\n",
    "            break\n",
    "        for i in range(3):\n",
    "            for j in range(3):\n",
    "                if current[i][j]==0:\n",
    "                    x,y=i,j\n",
    "                    break\n",
    "        for dx,dy in [(0,1),(1,0),(0,-1),(-1,0)]:\n",
    "            nx,ny=x+dx,y+dy\n",
    "            if 0<= nx <3 and 0<= ny <3:\n",
    "                new_state=copy.deepcopy(current)\n",
    "                new_state[x][y],new_state[nx][ny]=new_state[nx][ny],new_state[x][y]\n",
    "                if str(new_state) not in cost_so_far or cost_so_far[str(new_state)]>cost_so_far[str(current)]+1:\n",
    "                    cost_so_far[str(new_state)]=cost_so_far[str(current)]+1\n",
    "                    priority=cost_so_far[str(new_state)]+heuristic(new_state)\n",
    "                    frontier.put((priority,new_state))\n",
    "                    came_from[str(new_state)]=current\n",
    "    path=[]\n",
    "    current=goal_state\n",
    "    while str(current) != str(initial_state):\n",
    "        path.append(current)\n",
    "        current=came_from[str(current)]\n",
    "    path.append(initial_state)\n",
    "    path.reverse()\n",
    "    return path\n",
    "    \n",
    "\n",
    "shortest_path = astar(initial_state, goal_state, heuristic)\n",
    "    \n",
    "for state in shortest_path:\n",
    "    for i in range(3):\n",
    "        for j in range(3):\n",
    "            print(state[i][j], end=\" \")\n",
    "        print()\n",
    "    print(heuristic(state))\n",
    "    print()\n",
    "               \n"
   ]
  },
  {
   "cell_type": "code",
   "execution_count": null,
   "id": "8f712a25",
   "metadata": {},
   "outputs": [],
   "source": [
    "#UCS"
   ]
  },
  {
   "cell_type": "code",
   "execution_count": 43,
   "id": "e1f74527",
   "metadata": {},
   "outputs": [
    {
     "name": "stdout",
     "output_type": "stream",
     "text": [
      "['s', '1', 'g']\n",
      "3\n"
     ]
    }
   ],
   "source": [
    "graph = {\n",
    "    's': {'1': 2,'3': 5},\n",
    "    '1': {'g': 1},\n",
    "    '3': {'g': 6,'1':5,'4':2},\n",
    "    '2': {'1': 4},\n",
    "    '4': {'2': 4,'5':3},\n",
    "    '5': {'2': 6,'g':3},\n",
    "    'g':{'4':7}\n",
    "}\n",
    "\n",
    "start = 's'\n",
    "goal = 'g'\n",
    "\n",
    "def uniform_search(graph,start,goal):\n",
    "    queue=[]\n",
    "    queue.append((0,start,[]))\n",
    "    visited=set()\n",
    "    while queue:\n",
    "        queue.sort()\n",
    "        (cost,node,path)=queue.pop(0)\n",
    "        if node not in visited:\n",
    "            visited.add(node)\n",
    "            path=path+[node]\n",
    "            if node==goal:\n",
    "                return path\n",
    "            for neighbor,neighbor_cost in graph[node].items():\n",
    "                queue.append((cost+neighbor_cost,neighbor,path))\n",
    "    return None\n",
    "\n",
    "path=uniform_search(graph,start,goal)\n",
    "print(path)\n",
    "sum=0\n",
    "for i in range(0,len(path)-1):\n",
    "    sum=sum+graph[path[i]][path[i+1]]\n",
    "print(sum)"
   ]
  },
  {
   "cell_type": "code",
   "execution_count": null,
   "id": "915e7a8a",
   "metadata": {},
   "outputs": [],
   "source": [
    "#HCS"
   ]
  },
  {
   "cell_type": "code",
   "execution_count": 124,
   "id": "3a125ad7",
   "metadata": {},
   "outputs": [
    {
     "name": "stdout",
     "output_type": "stream",
     "text": [
      "-9.786504645780408\n",
      "-9.786504645780408\n"
     ]
    }
   ],
   "source": [
    "import random\n",
    "\n",
    "def f(x):\n",
    "    if x>-10 and x<10:\n",
    "        return x\n",
    "    return -1\n",
    "def hcs(starting_point,step_size,max_iter):\n",
    "    current_point=starting_point\n",
    "    current_value=f(current_point)\n",
    "    for i in range(max_iter):\n",
    "        neighbor=current_point + step_size*random.uniform(-10,10)\n",
    "        neighbor_value=f(neighbor)\n",
    "        if (neighbor_value<current_value) and neighbor_value!=-1:\n",
    "            current_point=neighbor\n",
    "            current_value=neighbor_value\n",
    "    return [current_point,current_value]\n",
    "result=hcs(8,-0.5,50)\n",
    "print(result[0])\n",
    "print(result[1])"
   ]
  },
  {
   "cell_type": "code",
   "execution_count": null,
   "id": "324c23cf",
   "metadata": {},
   "outputs": [],
   "source": [
    "#BFS check cycle"
   ]
  },
  {
   "cell_type": "code",
   "execution_count": 136,
   "id": "1cee0428",
   "metadata": {},
   "outputs": [
    {
     "data": {
      "text/plain": [
       "True"
      ]
     },
     "execution_count": 136,
     "metadata": {},
     "output_type": "execute_result"
    }
   ],
   "source": [
    "from collections import deque\n",
    "\n",
    "graph = {\n",
    "    0: [1,2],\n",
    "    1: [2],\n",
    "    2: [1,3],\n",
    "    3: [3]\n",
    "}\n",
    "\n",
    "def cycle(graph):\n",
    "    visited=set()\n",
    "    queue=deque()\n",
    "    for node in graph.keys():\n",
    "        if node not in visited:\n",
    "            queue.append(node)\n",
    "            visited.add(node)\n",
    "            parent = {node:None}\n",
    "            while queue:\n",
    "                current_node=queue.popleft()\n",
    "                for neighbor in graph[current_node]:\n",
    "                    if neighbor not in visited:\n",
    "                        queue.append(neighbor)\n",
    "                        visited.add(neighbor)\n",
    "                        parent[neighbor]=current_node\n",
    "                    elif neighbor not in parent or parent[current_node]!=neighbor:\n",
    "                        return True\n",
    "    return False\n",
    "\n",
    "cycle(graph)\n",
    "    "
   ]
  },
  {
   "cell_type": "code",
   "execution_count": null,
   "id": "d82a00ec",
   "metadata": {},
   "outputs": [],
   "source": [
    "#water jug problem"
   ]
  },
  {
   "cell_type": "code",
   "execution_count": 48,
   "id": "c28a5765",
   "metadata": {},
   "outputs": [
    {
     "name": "stdout",
     "output_type": "stream",
     "text": [
      "(0, 0)Fill jug 1Pour jug 1 into jug 2Pour jug1 into jug2Fill jug 1Pour jug 1 into jug 2Empty jug 2\n"
     ]
    }
   ],
   "source": [
    "from collections import deque\n",
    "\n",
    "def bfs(start,end,jug1,jug2):\n",
    "    visited=set()\n",
    "    queue=deque([(0,0,start)])\n",
    "    while queue:\n",
    "        x,y,path=queue.popleft()\n",
    "        if (x,y) == end:\n",
    "            return path\n",
    "        visited.add((x,y))\n",
    "        \n",
    "        if (jug1,y) not in visited:\n",
    "            queue.append((jug1,y,str(path)+\"Fill jug 1\"))\n",
    "        if (x,jug2) not in visited:\n",
    "            queue.append((x,jug2,str(path)+\"Fill jug 2\"))\n",
    "        if (0,y) not in visited:\n",
    "            queue.append((0,y,str(path)+\"Empty jug 1\"))\n",
    "        if (x,0) not in visited:\n",
    "            queue.append((x,0,str(path)+\"Empty jug 2\"))\n",
    "        if (x+y>=jug2) and (x-(jug2-y),jug2) not in visited:\n",
    "            queue.append((x-(jug2-y),y,str(path)+\"Pour jug 1 into jug 2\"))\n",
    "        elif (x+y<jug2) and (0,x+y) not in visited:\n",
    "            queue.append((0,x+y,str(path)+\"Pour jug1 into jug2\"))\n",
    "        \n",
    "        if (x+y>=jug1) and (jug1,y-(jug1-x)) not in visited:\n",
    "            queue.append((jug1,y-(jug1-x),str(path)+\"Pour jug 2 to jug1\"))\n",
    "        elif (x+y<jug1) and (x+y,0) not in visited:\n",
    "            queue.append((x+y,0,str(path)+\"Pour jug 2 to jug 1\"))\n",
    "    return \"No solution found\"\n",
    "start=(0,0)\n",
    "end=(4,0)\n",
    "jug1=5\n",
    "jug2=3\n",
    "solution=bfs(start,end,jug1,jug2)\n",
    "print(solution)"
   ]
  },
  {
   "cell_type": "code",
   "execution_count": null,
   "id": "2cf9d93b",
   "metadata": {},
   "outputs": [],
   "source": [
    "#dfs"
   ]
  },
  {
   "cell_type": "code",
   "execution_count": 2,
   "id": "aafd824d",
   "metadata": {},
   "outputs": [],
   "source": [
    "#8 queens using hill climbing search "
   ]
  },
  {
   "cell_type": "code",
   "execution_count": null,
   "id": "d24fc217",
   "metadata": {},
   "outputs": [],
   "source": []
  }
 ],
 "metadata": {
  "kernelspec": {
   "display_name": "Python 3 (ipykernel)",
   "language": "python",
   "name": "python3"
  },
  "language_info": {
   "codemirror_mode": {
    "name": "ipython",
    "version": 3
   },
   "file_extension": ".py",
   "mimetype": "text/x-python",
   "name": "python",
   "nbconvert_exporter": "python",
   "pygments_lexer": "ipython3",
   "version": "3.9.12"
  }
 },
 "nbformat": 4,
 "nbformat_minor": 5
}
