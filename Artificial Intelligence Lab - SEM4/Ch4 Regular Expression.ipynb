{
 "cells": [
  {
   "cell_type": "code",
   "execution_count": null,
   "metadata": {},
   "outputs": [],
   "source": [
    "A regular expression is a special sequence of characters that helps find\n",
    "other strings or sets of strings matching specific patterns"
   ]
  },
  {
   "cell_type": "code",
   "execution_count": 2,
   "metadata": {},
   "outputs": [
    {
     "name": "stdout",
     "output_type": "stream",
     "text": [
      "\n",
      "Using in to select lines // only print lines which has specific string \n",
      "From: david.horwitz@uct.ac.za\n",
      "From: david.horwitz@uct.ac.za\n",
      "From: david.horwitz@uct.ac.za\n",
      "From: david.horwitz@uct.ac.za\n",
      "From: stephen.marquard@uct.ac.za\n"
     ]
    }
   ],
   "source": [
    "print (\"\\nUsing in to select lines // only print lines which has specific string \")\n",
    "fhand = open(\"myFile1.txt\", 'r')\n",
    "for line in fhand:\n",
    "    line = line.rstrip()\n",
    "    if not '@uct.ac.za' in line :\n",
    "         continue\n",
    "    print (line)"
   ]
  },
  {
   "cell_type": "code",
   "execution_count": 2,
   "metadata": {
    "scrolled": true
   },
   "outputs": [
    {
     "name": "stdout",
     "output_type": "stream",
     "text": [
      "\n",
      "Searching Through a File\n",
      "\n",
      "From: zqian@umich.edu\n",
      "From: rjlowe@iupui.edu\n",
      "From: cwen@iupui.edu\n",
      "From: cwen@iupui.edu\n",
      "From: gsilver@umich.edu\n",
      "From: gsilver@umich.edu\n",
      "From: zqian@umich.edu\n",
      "From: gsilver@umich.edu\n",
      "From: wagnermr@iupui.edu\n",
      "From: zqian@umich.edu\n",
      "From: antranig@caret.cam.ac.uk\n",
      "From: gopal.ramasammycook@gmail.com\n",
      "From: david.horwitz@uct.ac.za\n",
      "From: david.horwitz@uct.ac.za\n",
      "From: david.horwitz@uct.ac.za\n",
      "From: david.horwitz@uct.ac.za\n",
      "From: stephen.marquard@uct.ac.za\n",
      "From: louis@media.berkeley.edu\n",
      "From: louis@media.berkeley.edu\n",
      "From: ray@media.berkeley.edu\n",
      "From: cwen@iupui.edu\n",
      "From: cwen@iupui.edu\n",
      "From: cwen@iupui.edu\n"
     ]
    }
   ],
   "source": [
    "#Extracting Lines Starting with a Specific Pattern\n",
    "print(\"\\nSearching Through a File\\n\")\n",
    "fhand = open('test1.txt')\n",
    "for line in fhand:\n",
    "    line = line.rstrip()\n",
    "    if line.startswith('From:') :\n",
    "        print (line)"
   ]
  },
  {
   "cell_type": "code",
   "execution_count": null,
   "metadata": {},
   "outputs": [],
   "source": [
    "The regular expression in Listing 4-9\n",
    "finds all the text starting with a capital X followed by any character\n",
    "repeated zero or more times and ending with a colon (:)."
   ]
  },
  {
   "cell_type": "code",
   "execution_count": 5,
   "metadata": {},
   "outputs": [
    {
     "name": "stdout",
     "output_type": "stream",
     "text": [
      "\n",
      "Regular Expressions\n",
      "'^X.*:' \n",
      "\n",
      "['From:']\n",
      "['From:']\n",
      "['From:']\n",
      "['From:']\n",
      "['From:']\n",
      "['From:']\n",
      "['From:']\n",
      "['From:']\n",
      "['From:']\n",
      "['From:']\n",
      "['From:']\n",
      "['From:']\n",
      "['From:']\n",
      "['From:']\n",
      "['From:']\n",
      "['From:']\n",
      "['From:']\n",
      "['From:']\n",
      "['From:']\n",
      "['From:']\n",
      "['From:']\n",
      "['From:']\n",
      "['From:']\n"
     ]
    }
   ],
   "source": [
    "import re\n",
    "print (\"\\nRegular Expressions\\n'^F.*:' \\n\") \n",
    "hand = open('test1.txt')\n",
    "for line in hand:\n",
    "    line = line.rstrip()\n",
    "    y = re.findall('^F.*:',line)\n",
    "    print (y)"
   ]
  },
  {
   "cell_type": "code",
   "execution_count": 24,
   "metadata": {},
   "outputs": [
    {
     "name": "stdout",
     "output_type": "stream",
     "text": [
      "\n",
      " Matching and Extracting Data \n",
      "\n",
      "['2', '19', '42']\n"
     ]
    }
   ],
   "source": [
    "#Extracting Numerical Values and Specific Characters\n",
    "print (\"\\n Matching and Extracting Data \\n\")\n",
    "x = 'My 2 favorite numbers are 19 and 42'\n",
    "y = re.findall('[0-9]+',x)\n",
    "print (y)"
   ]
  },
  {
   "cell_type": "code",
   "execution_count": 25,
   "metadata": {},
   "outputs": [
    {
     "name": "stdout",
     "output_type": "stream",
     "text": [
      "['n', 's', 'n']\n"
     ]
    }
   ],
   "source": [
    "# find any of these 'AEsOUn' characters in string\n",
    "x = 'My 2 favorite numbers are 19 and 42'\n",
    "y = re.findall('[AEsOUn]+',x)\n",
    "print(y)"
   ]
  },
  {
   "cell_type": "code",
   "execution_count": null,
   "metadata": {},
   "outputs": [],
   "source": [
    "# Get only digits, only words and complete sentence from x\n",
    "x = 'My 2 favorite numbers are 19 and 42'"
   ]
  },
  {
   "cell_type": "code",
   "execution_count": 26,
   "metadata": {},
   "outputs": [
    {
     "name": "stdout",
     "output_type": "stream",
     "text": [
      "\n",
      "Greedy Matching \n",
      "\n",
      "['From: Using the :']\n"
     ]
    }
   ],
   "source": [
    "#Greedy and Nongreedy Matching\n",
    "print (\"\\nGreedy Matching \\n\")\n",
    "x = 'From: Using the : character'\n",
    "y = re.findall('^F.+:', x)\n",
    "print (y)"
   ]
  },
  {
   "cell_type": "code",
   "execution_count": 28,
   "metadata": {},
   "outputs": [
    {
     "name": "stdout",
     "output_type": "stream",
     "text": [
      "\n",
      "Non-Greedy Matching \n",
      "\n",
      "['From:']\n"
     ]
    }
   ],
   "source": [
    "#re.findall('^F.+?:', x) asks Python to retrieve\n",
    "#characters starting with an F and ending with the first occurrence of a delimiter,\n",
    "print (\"\\nNon-Greedy Matching \\n\")\n",
    "x = 'From: Using the : character'\n",
    "y = re.findall('^F.+?:', x)\n",
    "print (y)"
   ]
  },
  {
   "cell_type": "code",
   "execution_count": 3,
   "metadata": {},
   "outputs": [
    {
     "name": "stdout",
     "output_type": "stream",
     "text": [
      "\n",
      "Fine-Tuning String Extraction \n",
      "\n",
      "['ossama.embarak@hct.ac.ae']\n",
      "['ossama.embarak@hct.ac.ae']\n",
      "ossama.embarak@hct.ac.ae\n"
     ]
    }
   ],
   "source": [
    "#The Use of Methods vs. Regular Expressions\n",
    "import re\n",
    "print (\"\\nFine-Tuning String Extraction \\n\")\n",
    "mystr=\"From ossama.embarak@hct.ac.ae Sat Jun 5 08:14:16 2018\" \n",
    "Extract = re.findall('\\S+@\\S+',mystr)\n",
    "print (Extract)\n",
    "E_xtracted = re.findall('^From.*? (\\S+@\\S+)',mystr) \n",
    "#non greedy white space\n",
    "print (E_xtracted)\n",
    "print (E_xtracted[0])"
   ]
  },
  {
   "cell_type": "code",
   "execution_count": 31,
   "metadata": {},
   "outputs": [
    {
     "name": "stdout",
     "output_type": "stream",
     "text": [
      "hct.ac.ae\n",
      "ossama.embarak\n"
     ]
    }
   ],
   "source": [
    "mystr=\"From ossama.embarak@hct.ac.ae Sat Jun 5 08:14:16 2018\"\n",
    "#string.find(substr, start, end)\n",
    "atpos = mystr.find('@')\n",
    "sppos = mystr.find(' ',atpos)\n",
    "# find white space starting from atpos\n",
    "host = mystr[atpos+1 : sppos]\n",
    "print (host)\n",
    "usernamepos = mystr.find(' ')\n",
    "username = mystr[usernamepos+1 : atpos]\n",
    "print (username)"
   ]
  },
  {
   "cell_type": "code",
   "execution_count": null,
   "metadata": {},
   "outputs": [],
   "source": [
    "re.findall('@([^ ]*)',mystr) retrieves a substring in the mystr\n",
    "string, which starts after @and continues until finding the whitespace.\n",
    "Similarly, re.findall('^From .*@([^ ]*)', mystr) retrieves a\n",
    "substring in the mystr string, which starts after From and finds zero or\n",
    "more characters and then the @ character and then anything other than\n",
    "whitespace characters."
   ]
  },
  {
   "cell_type": "code",
   "execution_count": 33,
   "metadata": {},
   "outputs": [
    {
     "name": "stdout",
     "output_type": "stream",
     "text": [
      "\n",
      " The Regex Version\n",
      "\n",
      "['hct.ac.ae']\n",
      "['hct.ac.ae']\n"
     ]
    }
   ],
   "source": [
    "#Using the Regular Expression findall() Method\n",
    "print (\"\\n The Regex Version\\n\")\n",
    "import re\n",
    "mystr=\"From ossama.embarak@hct.ac.ae Sat Jun 5 08:14:16 2018\"\n",
    "Extract = re.findall('@([^ ]*)',mystr)\n",
    "print (Extract)\n",
    "Extract = re.findall('^From .*@([^ ]*)',mystr)\n",
    "print (Extract)"
   ]
  },
  {
   "cell_type": "code",
   "execution_count": 9,
   "metadata": {},
   "outputs": [
    {
     "name": "stdout",
     "output_type": "stream",
     "text": [
      "[]\n"
     ]
    }
   ],
   "source": [
    "import re\n",
    "Aadhar='1234-5678-3456'\n",
    "print(re.findall(' ',Aadhar))"
   ]
  },
  {
   "cell_type": "code",
   "execution_count": null,
   "metadata": {},
   "outputs": [],
   "source": []
  }
 ],
 "metadata": {
  "kernelspec": {
   "display_name": "Python 3 (ipykernel)",
   "language": "python",
   "name": "python3"
  },
  "language_info": {
   "codemirror_mode": {
    "name": "ipython",
    "version": 3
   },
   "file_extension": ".py",
   "mimetype": "text/x-python",
   "name": "python",
   "nbconvert_exporter": "python",
   "pygments_lexer": "ipython3",
   "version": "3.9.12"
  }
 },
 "nbformat": 4,
 "nbformat_minor": 2
}
