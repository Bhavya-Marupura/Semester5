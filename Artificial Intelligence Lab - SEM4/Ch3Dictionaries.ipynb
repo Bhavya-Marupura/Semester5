{
 "cells": [
  {
   "cell_type": "markdown",
   "id": "10f9de4c",
   "metadata": {},
   "source": [
    "Creating Dictionaries"
   ]
  },
  {
   "cell_type": "code",
   "execution_count": 1,
   "id": "604f3f0c",
   "metadata": {},
   "outputs": [
    {
     "name": "stdout",
     "output_type": "stream",
     "text": [
      "{'Honda': 40000, 'Suzuki': 50000, 'Mercedes': 85000, 'Nissan': 35000, 'Mitsubishi': 43000}\n",
      "{'Omar Ahmed': 30000, 'Ali Ziad': 24000, 'Ossama Hashim': 25000, 'Majid Hatem': 10000}\n"
     ]
    }
   ],
   "source": [
    "Prices = {\"Honda\":40000, \"Suzuki\":50000, \"Mercedes\":85000, \"Nissan\":35000, \"Mitsubishi\": 43000}\n",
    "print (Prices)\n",
    " \n",
    "Staff_Salary = { 'Omar Ahmed' : 30000 , 'Ali Ziad' :24000,'Ossama Hashim': 25000,\n",
    "'Majid Hatem':10000}\n",
    "print(Staff_Salary)\n",
    "\n"
   ]
  },
  {
   "cell_type": "code",
   "execution_count": 1,
   "id": "8753234d",
   "metadata": {},
   "outputs": [
    {
     "name": "stdout",
     "output_type": "stream",
     "text": [
      "{'Salwa Ahmed': 50, 'Abdullah Mohamed': 80, 'Sultan Ghanim': 90}\n",
      "{}\n",
      "{'Salwa Ahmed': 50, 'Abdullah Mohamed': 80, 'Sultan Ghanim': 90}\n"
     ]
    }
   ],
   "source": [
    "STDMarks={\"Salwa Ahmed\":50, \"Abdullah Mohamed\":80,\"Sultan Ghanim\":90}\n",
    "print(STDMarks)\n",
    "STDMarks = dict()\n",
    "print(STDMarks)\n",
    "STDMarks['Salwa Ahmed']=50\n",
    "STDMarks['Abdullah Mohamed']=80\n",
    "STDMarks['Sultan Ghanim']=90\n",
    "print (STDMarks)"
   ]
  },
  {
   "cell_type": "markdown",
   "id": "f25266a5",
   "metadata": {},
   "source": [
    "Updating and accessing values in Dictionaries"
   ]
  },
  {
   "cell_type": "code",
   "execution_count": 3,
   "id": "bbd01c41",
   "metadata": {},
   "outputs": [
    {
     "name": "stdout",
     "output_type": "stream",
     "text": [
      "{'Salwa Ahmed': 85, 'Abdullah Mohamed': 80, 'Sultan Ghanim': 90, 'Omar Majid': 74}\n"
     ]
    }
   ],
   "source": [
    "STDMarks={ \"Salwa Ahmed\":50, \"Abdullah Mohamed\":80, \"Sultan Ghanim\":90}\n",
    "STDMarks['Salwa Ahmed'] = 85 # update current value of the key 'Salwa Ahmed'\n",
    "\n",
    "STDMarks['Omar Majid'] = 74 # Add a new item to the dictionary\n",
    "print (STDMarks)"
   ]
  },
  {
   "cell_type": "code",
   "execution_count": 4,
   "id": "47681b6d",
   "metadata": {},
   "outputs": [
    {
     "name": "stdout",
     "output_type": "stream",
     "text": [
      "Salary package for Ossama Hashim is 25000\n"
     ]
    }
   ],
   "source": [
    "#Accessing Dictionary Elements\n",
    "Staff_Salary = { 'Omar Ahmed': 30000 , 'Ali Ziad':24000, 'Ossama Hashim': 25000, 'Majid Hatem':10000}\n",
    "print('Salary package for Ossama Hashim is ', end=\"\")\n",
    "\n",
    "# access specific dictionary element\n",
    "print(Staff_Salary['Ossama Hashim'])\n"
   ]
  },
  {
   "cell_type": "code",
   "execution_count": 5,
   "id": "64a45680",
   "metadata": {},
   "outputs": [
    {
     "name": "stdout",
     "output_type": "stream",
     "text": [
      "Name \t \t Net Salary\n",
      "Omar Ahmed \t 28500.0\n",
      "Ali Ziad \t 22800.0\n",
      "Ossama Hashim \t 23750.0\n",
      "Majid Hatem \t 9500.0\n"
     ]
    }
   ],
   "source": [
    "# Define a function to return salary after discount tax 5% \n",
    "def Netsalary (salary):\n",
    "    return salary - (salary * 0.05) # also, could be return salary *0.95\n",
    "#Iterate all elements in a dictionary\n",
    "print (\"Name\" , '\\t', '\\t',\"Net Salary\" )\n",
    "for key, value in Staff_Salary.items():\n",
    "    print (key , '\\t', Netsalary(value))"
   ]
  },
  {
   "cell_type": "markdown",
   "id": "92d67575",
   "metadata": {},
   "source": [
    "Deletig Dictionary Elements"
   ]
  },
  {
   "cell_type": "code",
   "execution_count": 10,
   "id": "231b91d9",
   "metadata": {},
   "outputs": [
    {
     "name": "stdout",
     "output_type": "stream",
     "text": [
      "{'Salwa Ahmed': 50, 'Abdullah Mohamed': 80, 'Sultan Ghanim': 90}\n",
      "{'Salwa Ahmed': 50, 'Sultan Ghanim': 90}\n",
      "{}\n"
     ]
    }
   ],
   "source": [
    "STDMarks={\"Salwa Ahmed\":50, \"Abdullah Mohamed\":80,\"Sultan Ghanim\":90}\n",
    "print (STDMarks)\n",
    "del STDMarks['Abdullah Mohamed'] # remove entry with key 'Abdullah Mohamed'\n",
    "print (STDMarks)\n",
    "STDMarks.clear() # remove all entries in STDMarksdictionary\n",
    "print (STDMarks)\n",
    "del STDMarks # delete entire dictionary"
   ]
  },
  {
   "cell_type": "markdown",
   "id": "ed0d3b05",
   "metadata": {},
   "source": [
    "Dictionary Functions"
   ]
  },
  {
   "cell_type": "code",
   "execution_count": 1,
   "id": "727066d9",
   "metadata": {},
   "outputs": [],
   "source": [
    "#Implementing Dictionary Functions\n",
    "Staff_Salary = { 'Omar Ahmed' : 30000 , 'Ali Ziad' : 24000, 'Ossama Hashim': 25000, 'Majid Hatem':10000}\n",
    "STDMarks={\"Salwa Ahmed\":50, \"Abdullah Mohamed\":80, \"Sultan Ghanim\":90}\n",
    " "
   ]
  },
  {
   "cell_type": "code",
   "execution_count": null,
   "id": "23f528bb",
   "metadata": {},
   "outputs": [],
   "source": [
    "def cmp(a, b):\n",
    " for key, value in a.items():\n",
    "     for key1, value1 in b.items():\n",
    "         return (key >key1) - (key < key1)"
   ]
  },
  {
   "cell_type": "code",
   "execution_count": 2,
   "id": "c2e948ff",
   "metadata": {},
   "outputs": [
    {
     "data": {
      "text/plain": [
       "-1"
      ]
     },
     "execution_count": 2,
     "metadata": {},
     "output_type": "execute_result"
    }
   ],
   "source": [
    "False - True"
   ]
  },
  {
   "cell_type": "code",
   "execution_count": 18,
   "id": "50de2b1e",
   "metadata": {},
   "outputs": [
    {
     "name": "stdout",
     "output_type": "stream",
     "text": [
      "-1\n",
      "0\n",
      "3\n",
      "{'Salwa Ahmed': 50, 'Abdullah Mohamed': 80, 'Sultan Ghanim': 90}\n",
      "<class 'dict'>\n"
     ]
    }
   ],
   "source": [
    "print (cmp(Staff_Salary,STDMarks) )\n",
    "print (cmp(STDMarks,STDMarks) )\n",
    "print (len(STDMarks) )\n",
    "print (str(STDMarks) )\n",
    "print (type(STDMarks) )"
   ]
  },
  {
   "cell_type": "code",
   "execution_count": 3,
   "id": "f75c8145",
   "metadata": {},
   "outputs": [
    {
     "name": "stdout",
     "output_type": "stream",
     "text": [
      "24000\n",
      "dict_items([('Salwa Ahmed', 50), ('Abdullah Mohamed', 80), ('Sultan Ghanim', 90)])\n",
      "dict_keys(['Omar Ahmed', 'Ali Ziad', 'Ossama Hashim', 'Majid Hatem'])\n",
      "dict_values([30000, 24000, 25000, 10000])\n",
      "\n"
     ]
    }
   ],
   "source": [
    "#Dictionary Methods\n",
    "Staff_Salary = { 'Omar Ahmed' : 30000 , 'Ali Ziad' :24000,'Ossama Hashim': 25000, 'Majid Hatem':10000}\n",
    "STDMarks={ \"Salwa Ahmed\":50, \"Abdullah Mohamed\":80, \"Sultan Ghanim\":90}\n",
    "print (Staff_Salary.get('Ali Ziad') )\n",
    "print (STDMarks.items())\n",
    "print (Staff_Salary.keys())\n",
    "print (Staff_Salary.values())\n",
    "print()\n"
   ]
  },
  {
   "cell_type": "code",
   "execution_count": 4,
   "id": "09a7f29d",
   "metadata": {},
   "outputs": [
    {
     "name": "stdout",
     "output_type": "stream",
     "text": [
      "{'Salwa Ahmed': 50, 'Abdullah Mohamed': 80, 'Sultan Ghanim': 90, 'Ali Ziad': None}\n",
      "None\n",
      "{'Salwa Ahmed': 50, 'Abdullah Mohamed': 80, 'Sultan Ghanim': 90, 'Ali Ziad': 24000, 'Omar Ahmed': 30000, 'Ossama Hashim': 25000, 'Majid Hatem': 10000}\n"
     ]
    }
   ],
   "source": [
    "Staff_Salary = { 'Omar Ahmed' : 30000 , 'Ali Ziad' :24000,'Ossama Hashim': 25000, 'Majid Hatem':10000}\n",
    "STDMarks={ \"Salwa Ahmed\":50, \"Abdullah Mohamed\":80, \"Sultan Ghanim\":90}\n",
    "STDMarks.setdefault('Ali Ziad')\n",
    "print (STDMarks)\n",
    "print (STDMarks.update(Staff_Salary))\n",
    "print (STDMarks)\n"
   ]
  },
  {
   "cell_type": "markdown",
   "id": "7e34cc3f",
   "metadata": {},
   "source": [
    "Sorting a Dictionary"
   ]
  },
  {
   "cell_type": "code",
   "execution_count": 3,
   "id": "735f5906",
   "metadata": {},
   "outputs": [
    {
     "name": "stdout",
     "output_type": "stream",
     "text": [
      "\n",
      "Sorted by key\n",
      "Ali Ziad 24000\n",
      "Majid Hatem 10000\n",
      "Omar Ahmed 30000\n",
      "Ossama Hashim 25000\n"
     ]
    }
   ],
   "source": [
    "Staff_Salary = { 'Omar Ahmed' : 30000 , 'Ali Ziad' :24000, 'Ossama Hashim': 25000, 'Majid Hatem':10000}\n",
    "print (\"\\nSorted by key\")\n",
    "for k in sorted(Staff_Salary):\n",
    "    print (k, Staff_Salary[k]  )"
   ]
  },
  {
   "cell_type": "code",
   "execution_count": 1,
   "id": "823cd2c1",
   "metadata": {},
   "outputs": [
    {
     "name": "stdout",
     "output_type": "stream",
     "text": [
      "\n",
      "Sorted by value\n",
      "Ossama Hashim 25000\n",
      "Omar Ahmed 30000\n",
      "Majid Hatem 10000\n",
      "Ali Ziad 24000\n"
     ]
    }
   ],
   "source": [
    "Staff_Salary = { 'Omar Ahmed' : 30000 , 'Ali Ziad' :24000, 'Ossama Hashim': 25000, 'Majid Hatem':10000}\n",
    "print (\"\\nSorted by value\")\n",
    "for w in sorted(Staff_Salary,  reverse=True):\n",
    "    print (w, Staff_Salary[w])"
   ]
  }
 ],
 "metadata": {
  "kernelspec": {
   "display_name": "Python 3 (ipykernel)",
   "language": "python",
   "name": "python3"
  },
  "language_info": {
   "codemirror_mode": {
    "name": "ipython",
    "version": 3
   },
   "file_extension": ".py",
   "mimetype": "text/x-python",
   "name": "python",
   "nbconvert_exporter": "python",
   "pygments_lexer": "ipython3",
   "version": "3.9.12"
  }
 },
 "nbformat": 4,
 "nbformat_minor": 5
}
