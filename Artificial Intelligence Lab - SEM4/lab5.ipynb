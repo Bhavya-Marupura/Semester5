{
 "cells": [
  {
   "cell_type": "code",
   "execution_count": 39,
   "id": "05e3a5b7",
   "metadata": {},
   "outputs": [
    {
     "name": "stdout",
     "output_type": "stream",
     "text": [
      "Best path from s to g : ['s', '1', 'g']\n",
      "Minimum cost= \n",
      "3\n"
     ]
    }
   ],
   "source": [
    "def uniform_cost_search(graph, start, goal):\n",
    "    queue = [(0, start, [])]\n",
    "    visited = set()\n",
    "\n",
    "    while queue:\n",
    "        queue.sort()\n",
    "        (cost, node, path) = queue.pop(0)\n",
    "        if node not in visited:\n",
    "            visited.add(node)\n",
    "            path = path + [node]\n",
    "            if node == goal:\n",
    "                return path\n",
    "            for neighbor, neighbor_cost in graph[node].items():\n",
    "                if neighbor not in visited:\n",
    "                    queue.append((cost + neighbor_cost, neighbor, path))\n",
    "    \n",
    "    return None\n",
    "def min_cost(path):\n",
    "    sum=0\n",
    "    for i in range(0,len(path)-1):\n",
    "        sum=sum+graph[path[i]][path[i+1]]\n",
    "    print(\"Minimum cost= \")      \n",
    "    print(sum)\n",
    "\n",
    "graph = {\n",
    "    's': {'1': 2,'3': 5},\n",
    "    '1': {'g': 1},\n",
    "    '3': {'g': 6,'1':5,'4':2},\n",
    "    '2': {'1': 4},\n",
    "    '4': {'2': 4,'5':3},\n",
    "    '5': {'2': 6,'g':3},\n",
    "    'g':{'4':7}\n",
    "}\n",
    "\n",
    "start = 's'\n",
    "goal = 'g'\n",
    "\n",
    "path = uniform_cost_search(graph, start, goal)\n",
    "\n",
    "if path:\n",
    "    print(\"Best path from\", start, \"to\", goal, \":\", path)\n",
    "else:\n",
    "    print(\"No path found from\", start, \"to\", goal)\n",
    "\n",
    "min_cost(path)\n"
   ]
  },
  {
   "cell_type": "code",
   "execution_count": 40,
   "id": "604514cb",
   "metadata": {},
   "outputs": [
    {
     "name": "stdout",
     "output_type": "stream",
     "text": [
      "Best path from a to d : ['a', 'b', 'd']\n",
      "Minimum cost= \n",
      "8\n"
     ]
    }
   ],
   "source": [
    "def uniform_cost_search(graph, start, goal):\n",
    "    queue = [(0, start, [])]\n",
    "    visited = set()\n",
    "\n",
    "    while queue:\n",
    "        queue.sort()\n",
    "        (cost, node, path) = queue.pop(0)\n",
    "        if node not in visited:\n",
    "            visited.add(node)\n",
    "            path = path + [node]\n",
    "            if node == goal:\n",
    "                return path\n",
    "            for neighbor, neighbor_cost in graph[node].items():\n",
    "                if neighbor not in visited:\n",
    "                    queue.append((cost + neighbor_cost, neighbor, path))\n",
    "    \n",
    "    return None\n",
    "\n",
    "def min_cost(path):\n",
    "    sum=0\n",
    "    for i in range(0,len(path)-1):\n",
    "        sum=sum+graph[path[i]][path[i+1]]\n",
    "    print(\"Minimum cost= \")      \n",
    "    print(sum)\n",
    "\n",
    "graph = {\n",
    "    'a':{'b':6,'c':3},\n",
    "    'b':{'d':2,'c':1},\n",
    "    'c':{'b':4,'e':2,'d':8},\n",
    "    'd':{'e':9,},\n",
    "    'e':{'d':7}\n",
    "}\n",
    "\n",
    "start = 'a'\n",
    "goal = 'd'\n",
    "\n",
    "path = uniform_cost_search(graph, start, goal)\n",
    "\n",
    "if path:\n",
    "    print(\"Best path from\", start, \"to\", goal, \":\", path)\n",
    "else:\n",
    "    print(\"No path found from\", start, \"to\", goal)\n",
    "\n",
    "min_cost(path)"
   ]
  },
  {
   "cell_type": "code",
   "execution_count": null,
   "id": "c0840d27",
   "metadata": {},
   "outputs": [],
   "source": []
  }
 ],
 "metadata": {
  "kernelspec": {
   "display_name": "Python 3 (ipykernel)",
   "language": "python",
   "name": "python3"
  },
  "language_info": {
   "codemirror_mode": {
    "name": "ipython",
    "version": 3
   },
   "file_extension": ".py",
   "mimetype": "text/x-python",
   "name": "python",
   "nbconvert_exporter": "python",
   "pygments_lexer": "ipython3",
   "version": "3.9.12"
  }
 },
 "nbformat": 4,
 "nbformat_minor": 5
}
