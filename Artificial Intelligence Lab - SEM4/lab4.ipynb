{
 "cells": [
  {
   "cell_type": "code",
   "execution_count": null,
   "id": "2e2510a9",
   "metadata": {},
   "outputs": [],
   "source": []
  },
  {
   "cell_type": "code",
   "execution_count": 8,
   "id": "939cfc63",
   "metadata": {},
   "outputs": [
    {
     "name": "stdout",
     "output_type": "stream",
     "text": [
      "[0, 1, 2, 3, 4, 5]\n"
     ]
    }
   ],
   "source": [
    "def topological_sort_bfs(graph):\n",
    "\n",
    "    in_degrees = {}\n",
    "    for vertex in graph:\n",
    "        in_degrees[vertex] = 0\n",
    "    topo_order = []\n",
    "    for vertex in graph:\n",
    "        for neighbor in graph[vertex]:\n",
    "            in_degrees[neighbor] += 1\n",
    "    q = []\n",
    "    for vertex in graph:\n",
    "        if in_degrees[vertex] == 0:\n",
    "            q.append(vertex)\n",
    "    while q:\n",
    "        curr_vertex = q.pop(0)\n",
    "        topo_order.append(curr_vertex)\n",
    "        for neighbor in graph[curr_vertex]:\n",
    "            in_degrees[neighbor] -= 1\n",
    "            if in_degrees[neighbor] == 0:\n",
    "                q.append(neighbor)\n",
    "    if len(topo_order) != len(graph):\n",
    "        return []\n",
    "    return topo_order\n",
    "\n",
    "\n",
    "graph = {\n",
    "    0: [1, 2],\n",
    "    1: [3],\n",
    "    2: [3],\n",
    "    3: [4, 5],\n",
    "    4: [],\n",
    "    5: []\n",
    "}\n",
    "\n",
    "print(topological_sort_bfs(graph))"
   ]
  },
  {
   "cell_type": "code",
   "execution_count": 3,
   "id": "eb7e1176",
   "metadata": {},
   "outputs": [
    {
     "data": {
      "text/plain": [
       "True"
      ]
     },
     "execution_count": 3,
     "metadata": {},
     "output_type": "execute_result"
    }
   ],
   "source": [
    "from collections import deque\n",
    "\n",
    "def cycle_bfs(graph):\n",
    "    visited = set()\n",
    "    queue = deque()\n",
    "    for start_node in graph.keys():\n",
    "        if start_node not in visited:\n",
    "            queue.append(start_node)\n",
    "            visited.add(start_node)\n",
    "            parent = {start_node: None}\n",
    "            while queue:\n",
    "                current_node = queue.popleft()\n",
    "                for neighbor in graph[current_node]:\n",
    "                    if neighbor not in visited:\n",
    "                        visited.add(neighbor)\n",
    "                        queue.append(neighbor)\n",
    "                        parent[neighbor] = current_node\n",
    "                    elif neighbor in parent and parent[current_node] != neighbor:\n",
    "                        return True\n",
    "    return False\n",
    "\n",
    "graph = {\n",
    "    0: [1,2],\n",
    "    1: [2],\n",
    "    2: [1,3],\n",
    "    3: [3]\n",
    "}\n",
    "cycle_bfs(graph)"
   ]
  },
  {
   "cell_type": "code",
   "execution_count": null,
   "id": "227556ba",
   "metadata": {},
   "outputs": [],
   "source": []
  }
 ],
 "metadata": {
  "kernelspec": {
   "display_name": "Python 3 (ipykernel)",
   "language": "python",
   "name": "python3"
  },
  "language_info": {
   "codemirror_mode": {
    "name": "ipython",
    "version": 3
   },
   "file_extension": ".py",
   "mimetype": "text/x-python",
   "name": "python",
   "nbconvert_exporter": "python",
   "pygments_lexer": "ipython3",
   "version": "3.9.12"
  }
 },
 "nbformat": 4,
 "nbformat_minor": 5
}
