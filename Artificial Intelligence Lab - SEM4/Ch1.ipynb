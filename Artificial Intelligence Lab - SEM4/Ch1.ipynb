{
 "cells": [
  {
   "cell_type": "markdown",
   "metadata": {
    "id": "zr1kcvCHymxE"
   },
   "source": [
    " Starting Python Interpreter\n"
   ]
  },
  {
   "cell_type": "code",
   "execution_count": 1,
   "metadata": {
    "id": "gxY7E1hEROuw",
    "scrolled": true
   },
   "outputs": [
    {
     "data": {
      "text/plain": [
       "45"
      ]
     },
     "execution_count": 1,
     "metadata": {},
     "output_type": "execute_result"
    }
   ],
   "source": [
    "45  "
   ]
  },
  {
   "cell_type": "code",
   "execution_count": 1,
   "metadata": {
    "id": "Oz48f03kRRFu"
   },
   "outputs": [
    {
     "data": {
      "text/plain": [
       "7"
      ]
     },
     "execution_count": 1,
     "metadata": {},
     "output_type": "execute_result"
    }
   ],
   "source": [
    "3+4"
   ]
  },
  {
   "cell_type": "markdown",
   "metadata": {
    "id": "eH3IiWcJQL-9"
   },
   "source": [
    "Data Types and Assign Operator"
   ]
  },
  {
   "cell_type": "code",
   "execution_count": 3,
   "metadata": {
    "id": "41dAwQ8Iyi2m"
   },
   "outputs": [],
   "source": [
    "age = 11\n",
    "name =\"XYZ\"\n",
    "tall=100.50"
   ]
  },
  {
   "cell_type": "code",
   "execution_count": 7,
   "metadata": {
    "id": "m9wq1WoDRYyE"
   },
   "outputs": [
    {
     "data": {
      "text/plain": [
       "float"
      ]
     },
     "execution_count": 7,
     "metadata": {},
     "output_type": "execute_result"
    }
   ],
   "source": [
    "type(age)\n",
    "type(name)\n",
    "type(tall)\n",
    " "
   ]
  },
  {
   "cell_type": "code",
   "execution_count": 8,
   "metadata": {
    "id": "DCoTtZVXyb4A"
   },
   "outputs": [
    {
     "name": "stdout",
     "output_type": "stream",
     "text": [
      "11\n",
      "XYZ\n",
      "100.5\n"
     ]
    }
   ],
   "source": [
    "print (age)\n",
    "print (name)\n",
    "print (tall)"
   ]
  },
  {
   "cell_type": "code",
   "execution_count": 9,
   "metadata": {
    "id": "9pBWDlUmyQ5d"
   },
   "outputs": [
    {
     "name": "stdout",
     "output_type": "stream",
     "text": [
      "15\n"
     ]
    }
   ],
   "source": [
    "x=5\n",
    "y=10\n",
    "total = x+y\n",
    "print(total)"
   ]
  },
  {
   "cell_type": "markdown",
   "metadata": {
    "id": "A0eXLpdfyzOm"
   },
   "source": [
    "Multiple Assignments"
   ]
  },
  {
   "cell_type": "code",
   "execution_count": 10,
   "metadata": {
    "id": "JrbE5JNZy1vG"
   },
   "outputs": [
    {
     "name": "stdout",
     "output_type": "stream",
     "text": [
      "25\n",
      "25\n",
      "25\n"
     ]
    }
   ],
   "source": [
    "age= mark = code =25\n",
    "print (age)\n",
    "print (mark)\n",
    "print (code)"
   ]
  },
  {
   "cell_type": "code",
   "execution_count": 11,
   "metadata": {
    "id": "8QztQk5gy7KP"
   },
   "outputs": [
    {
     "name": "stdout",
     "output_type": "stream",
     "text": [
      "10\n",
      "75\n",
      "CIS2403\n"
     ]
    }
   ],
   "source": [
    "age, mark, code=10,75,\"CIS2403\"\n",
    "print (age)\n",
    "print (mark)\n",
    "print (code)"
   ]
  },
  {
   "cell_type": "code",
   "execution_count": 12,
   "metadata": {},
   "outputs": [
    {
     "ename": "IndentationError",
     "evalue": "unexpected indent (1067698335.py, line 3)",
     "output_type": "error",
     "traceback": [
      "\u001b[1;36m  Input \u001b[1;32mIn [12]\u001b[1;36m\u001b[0m\n\u001b[1;33m    print(y)\u001b[0m\n\u001b[1;37m    ^\u001b[0m\n\u001b[1;31mIndentationError\u001b[0m\u001b[1;31m:\u001b[0m unexpected indent\n"
     ]
    }
   ],
   "source": [
    "#Indentation\n",
    "print(x)\n",
    "    print(y)"
   ]
  },
  {
   "cell_type": "code",
   "execution_count": 16,
   "metadata": {},
   "outputs": [
    {
     "name": "stdout",
     "output_type": "stream",
     "text": [
      "15\n",
      "-5\n",
      "2.0\n",
      "9765625\n",
      "6\n"
     ]
    }
   ],
   "source": [
    "#Arithmetic Operators\n",
    "x=5\n",
    "y=10\n",
    "print(x+y)\n",
    "print(x-y)\n",
    "print(y/x)\n",
    "print(x**y)\n",
    "z=20\n",
    "print(z//)"
   ]
  },
  {
   "cell_type": "code",
   "execution_count": 15,
   "metadata": {},
   "outputs": [
    {
     "name": "stdout",
     "output_type": "stream",
     "text": [
      "2\n",
      "0\n"
     ]
    }
   ],
   "source": [
    "print(y//x)\n",
    "print(y%x)"
   ]
  },
  {
   "cell_type": "code",
   "execution_count": 5,
   "metadata": {},
   "outputs": [
    {
     "name": "stdout",
     "output_type": "stream",
     "text": [
      "1.0\n"
     ]
    }
   ],
   "source": [
    "#Shorthand Assignment\n",
    "x=5\n",
    "x/=5\n",
    "print(x)"
   ]
  },
  {
   "cell_type": "code",
   "execution_count": 6,
   "metadata": {},
   "outputs": [
    {
     "data": {
      "text/plain": [
       "False"
      ]
     },
     "execution_count": 6,
     "metadata": {},
     "output_type": "execute_result"
    }
   ],
   "source": [
    "#Relational Operators\n",
    "4>=5"
   ]
  },
  {
   "cell_type": "code",
   "execution_count": 7,
   "metadata": {},
   "outputs": [
    {
     "name": "stdout",
     "output_type": "stream",
     "text": [
      "False\n"
     ]
    }
   ],
   "source": [
    "#Logical Operators\n",
    "print( not 1<4)"
   ]
  },
  {
   "cell_type": "markdown",
   "metadata": {
    "id": "n9_YLQDsLM-b"
   },
   "source": [
    "Selection Statements"
   ]
  },
  {
   "cell_type": "code",
   "execution_count": null,
   "metadata": {},
   "outputs": [],
   "source": []
  },
  {
   "cell_type": "code",
   "execution_count": null,
   "metadata": {
    "id": "HYHNtR825oUF"
   },
   "outputs": [],
   "source": [
    "x=5\n",
    "if x==5:\n",
    "  print('Equal 5')\n",
    "elif x>5:\n",
    "  print('Greater than 5')\n",
    "elif x<5:\n",
    "  print('Less than 5')"
   ]
  },
  {
   "cell_type": "code",
   "execution_count": 17,
   "metadata": {
    "id": "C6qDWbkU6IUE"
   },
   "outputs": [
    {
     "name": "stdout",
     "output_type": "stream",
     "text": [
      "Year( 2000 )is Leap\n"
     ]
    }
   ],
   "source": [
    "year=2000\n",
    "if year%4==0:\n",
    "  print(\"Year(\", year ,\")is Leap\")\n",
    "else:\n",
    "  print (year , \"Year is not Leap\" )"
   ]
  },
  {
   "cell_type": "markdown",
   "metadata": {
    "id": "EvWMf9UL6aQs"
   },
   "source": [
    "Indentation"
   ]
  },
  {
   "cell_type": "code",
   "execution_count": 18,
   "metadata": {
    "id": "W0ehlXT86VOS"
   },
   "outputs": [
    {
     "name": "stdout",
     "output_type": "stream",
     "text": [
      "Now we are out of if block\n",
      "\n"
     ]
    }
   ],
   "source": [
    "x=2\n",
    "if x>2:\n",
    "  print (\"Bigger than 2\")\n",
    "  print (\" X Value bigger than 2\")\n",
    "print (\"Now we are out of if block\\n\")"
   ]
  },
  {
   "cell_type": "markdown",
   "metadata": {
    "id": "payj0guK5j4k"
   },
   "source": [
    "Read Data from Users"
   ]
  },
  {
   "cell_type": "code",
   "execution_count": 19,
   "metadata": {
    "id": "8hHI7UpG5i7d"
   },
   "outputs": [
    {
     "name": "stdout",
     "output_type": "stream",
     "text": [
      "Enter your name Bhavya\n",
      "Enter your age 18\n",
      "\n",
      "Name = Bhavya\n",
      "\n",
      "Age = 18\n"
     ]
    }
   ],
   "source": [
    "name = input(\"Enter your name \")\n",
    "age = int (input(\"Enter your age \"))\n",
    "print (\"\\nName =\", name); print (\"\\nAge =\", age)"
   ]
  },
  {
   "cell_type": "markdown",
   "metadata": {
    "id": "u7Jw4WSg7GuM"
   },
   "source": [
    "Nested Selection Statements"
   ]
  },
  {
   "cell_type": "code",
   "execution_count": 20,
   "metadata": {
    "id": "pYi4tpio7MAC"
   },
   "outputs": [
    {
     "name": "stdout",
     "output_type": "stream",
     "text": [
      "All Conditions are false\n"
     ]
    }
   ],
   "source": [
    "a=10\n",
    "if a>=20:\n",
    "  print (\"Condition is True\" )\n",
    "else:\n",
    "  if a>=15:\n",
    "    print (\"Checking second value\" )\n",
    "  else:\n",
    "    print (\"All Conditions are false\" )"
   ]
  },
  {
   "cell_type": "markdown",
   "metadata": {
    "id": "OimkknUhoXso"
   },
   "source": [
    "Iteration Statements"
   ]
  },
  {
   "cell_type": "code",
   "execution_count": 1,
   "metadata": {
    "id": "LBzFYXquoZ3G"
   },
   "outputs": [
    {
     "name": "stdout",
     "output_type": "stream",
     "text": [
      "1\n",
      "2\n",
      "3\n"
     ]
    }
   ],
   "source": [
    "# use the range statement\n",
    "for a in range (1,4):\n",
    "  print ( a )"
   ]
  },
  {
   "cell_type": "code",
   "execution_count": 2,
   "metadata": {
    "id": "MWiex1nE3o-z"
   },
   "outputs": [
    {
     "data": {
      "text/plain": [
       "range(0, 5)"
      ]
     },
     "execution_count": 2,
     "metadata": {},
     "output_type": "execute_result"
    }
   ],
   "source": [
    "range(5)"
   ]
  },
  {
   "cell_type": "code",
   "execution_count": 3,
   "metadata": {
    "id": "KZ3-eHK7o3ey"
   },
   "outputs": [
    {
     "name": "stdout",
     "output_type": "stream",
     "text": [
      "0\n",
      "1\n",
      "2\n",
      "3\n"
     ]
    }
   ],
   "source": [
    "for a in range (4):\n",
    "  print ( a )"
   ]
  },
  {
   "cell_type": "code",
   "execution_count": 21,
   "metadata": {
    "id": "IYzeCmrXq_dr"
   },
   "outputs": [
    {
     "name": "stdout",
     "output_type": "stream",
     "text": [
      "Before: None\n",
      "Loop 30 30\n",
      "Loop 45 45\n",
      "Loop 12 45\n",
      "Loop 90 90\n",
      "Loop 74 90\n",
      "Loop 15 90\n",
      "Largest 90\n"
     ]
    }
   ],
   "source": [
    "# A Selection Statement Inside a Loop Statement\n",
    "largest = None\n",
    "print ('Before:', largest)\n",
    "for val in [30, 45, 12, 90, 74, 15]:\n",
    "  if largest is None or val>largest:\n",
    "    largest = val\n",
    "  print (\"Loop\", val, largest)\n",
    "print (\"Largest\", largest)"
   ]
  },
  {
   "cell_type": "markdown",
   "metadata": {
    "id": "EJ13o420ryFG"
   },
   "source": [
    "Break, Continue, and Pass Statements"
   ]
  },
  {
   "cell_type": "code",
   "execution_count": 6,
   "metadata": {
    "id": "FTpPgFlcrueP"
   },
   "outputs": [
    {
     "name": "stdout",
     "output_type": "stream",
     "text": [
      "P\n",
      "y\n",
      "t\n",
      "h\n"
     ]
    }
   ],
   "source": [
    "for letter in 'Python3':\n",
    "  if letter == 'o':\n",
    "    break\n",
    "  print (letter)"
   ]
  },
  {
   "cell_type": "code",
   "execution_count": 7,
   "metadata": {
    "id": "sWqy2fXusEFS"
   },
   "outputs": [
    {
     "name": "stdout",
     "output_type": "stream",
     "text": [
      "1\n",
      "3\n",
      "5\n",
      "End of Loop\n"
     ]
    }
   ],
   "source": [
    "a=0\n",
    "while a<=5:\n",
    "  a=a+1\n",
    "  if a%2==0:\n",
    "      continue\n",
    "  print (a)\n",
    "print (\"End of Loop\" )"
   ]
  },
  {
   "cell_type": "code",
   "execution_count": 22,
   "metadata": {
    "id": "PQR5rzVTsqJf",
    "scrolled": true
   },
   "outputs": [
    {
     "name": "stdout",
     "output_type": "stream",
     "text": [
      "1\n",
      "2\n",
      "Pass when value is 3\n",
      "3\n",
      "4\n",
      "5\n"
     ]
    }
   ],
   "source": [
    "for i in [1,2,3,4,5]:\n",
    "  if i==3:\n",
    "    pass\n",
    "    print (\"Pass when value is\", i )\n",
    "  print (i)"
   ]
  },
  {
   "cell_type": "markdown",
   "metadata": {
    "id": "aIDgOo0GtlZf"
   },
   "source": [
    "try and except"
   ]
  },
  {
   "cell_type": "code",
   "execution_count": 10,
   "metadata": {
    "scrolled": true
   },
   "outputs": [
    {
     "ename": "ValueError",
     "evalue": "invalid literal for int() with base 10: 'Hello world'",
     "output_type": "error",
     "traceback": [
      "\u001b[1;31m---------------------------------------------------------------------------\u001b[0m",
      "\u001b[1;31mValueError\u001b[0m                                Traceback (most recent call last)",
      "Input \u001b[1;32mIn [10]\u001b[0m, in \u001b[0;36m<cell line: 2>\u001b[1;34m()\u001b[0m\n\u001b[0;32m      1\u001b[0m astr\u001b[38;5;241m=\u001b[39m\u001b[38;5;124m'\u001b[39m\u001b[38;5;124mHello world\u001b[39m\u001b[38;5;124m'\u001b[39m \n\u001b[1;32m----> 2\u001b[0m istr\u001b[38;5;241m=\u001b[39m\u001b[38;5;28;43mint\u001b[39;49m\u001b[43m(\u001b[49m\u001b[43mastr\u001b[49m\u001b[43m)\u001b[49m\n",
      "\u001b[1;31mValueError\u001b[0m: invalid literal for int() with base 10: 'Hello world'"
     ]
    }
   ],
   "source": [
    "astr='Hello world' \n",
    "istr=int(astr) # error\n",
    " "
   ]
  },
  {
   "cell_type": "code",
   "execution_count": 23,
   "metadata": {
    "id": "xUyjs6U9tqan"
   },
   "outputs": [
    {
     "name": "stdout",
     "output_type": "stream",
     "text": [
      "First Try: -1 \n",
      "Incorrect entry\n"
     ]
    }
   ],
   "source": [
    "astr='Hello world'\n",
    "erormsg=''\n",
    "try:\n",
    "  istr=int(astr) # error\n",
    "except:\n",
    "  istr=-1 \n",
    "  errormsg=\"\\nIncorrect entry\"\n",
    "print (\"First Try:\", istr , errormsg)"
   ]
  },
  {
   "cell_type": "code",
   "execution_count": 24,
   "metadata": {},
   "outputs": [
    {
     "name": "stdout",
     "output_type": "stream",
     "text": [
      "First Try: 12 \n",
      "Incorrect entry\n"
     ]
    }
   ],
   "source": [
    "astr='12'\n",
    "erormsg=''\n",
    "try:\n",
    "  istr=int(astr) # error\n",
    "except:\n",
    "  istr=-1 \n",
    "  errormsg=\"\\nIncorrect entry\"\n",
    "print (\"First Try:\", istr , errormsg)"
   ]
  },
  {
   "cell_type": "code",
   "execution_count": 29,
   "metadata": {},
   "outputs": [
    {
     "name": "stdout",
     "output_type": "stream",
     "text": [
      "enter y: 0\n",
      "Zero Devision Error\n",
      "0.4166666666666667\n"
     ]
    }
   ],
   "source": [
    "y=int(input(\"enter y: \"))\n",
    "try:\n",
    "    x=5/y\n",
    "except ZeroDivisionError:\n",
    "    print(\"Zero Devision Error\")\n",
    "except:\n",
    "    print(\"Undefined Error\")\n",
    "print(x)\n",
    "    "
   ]
  },
  {
   "cell_type": "markdown",
   "metadata": {
    "id": "tgrG7hFl7kkj"
   },
   "source": [
    "Formatting Strings"
   ]
  },
  {
   "cell_type": "code",
   "execution_count": 1,
   "metadata": {
    "id": "sbKbART_7pQ9"
   },
   "outputs": [
    {
     "name": "stdout",
     "output_type": "stream",
     "text": [
      "pi=3.14159\n"
     ]
    }
   ],
   "source": [
    "print (\"pi=%s\"%\"3.14159\")"
   ]
  },
  {
   "cell_type": "code",
   "execution_count": 32,
   "metadata": {
    "id": "YYL3iJWW8vRO"
   },
   "outputs": [
    {
     "name": "stdout",
     "output_type": "stream",
     "text": [
      "pi=3.14159\n"
     ]
    }
   ],
   "source": [
    "print (\"pi=%s\"%3.14159)"
   ]
  },
  {
   "cell_type": "code",
   "execution_count": 35,
   "metadata": {
    "id": "7D0bdg9A8QM8",
    "scrolled": true
   },
   "outputs": [
    {
     "name": "stdout",
     "output_type": "stream",
     "text": [
      "The value of pi is = 3.141596\n"
     ]
    }
   ],
   "source": [
    "print(\"The value of %s is = %f\" % ('pi', 3.141596))"
   ]
  },
  {
   "cell_type": "code",
   "execution_count": 6,
   "metadata": {
    "id": "6y5axJLj84vt",
    "scrolled": true
   },
   "outputs": [
    {
     "name": "stdout",
     "output_type": "stream",
     "text": [
      "Your name is Ossama, and your height is 172.16 while your weight is 75\n"
     ]
    }
   ],
   "source": [
    "print(\"Your name is %s, and your height is %.2f while your weight is %d\" % ('Ossama',172.156783, 75.56647))"
   ]
  },
  {
   "cell_type": "code",
   "execution_count": 9,
   "metadata": {
    "id": "y8NjpKXNiJBl",
    "scrolled": true
   },
   "outputs": [
    {
     "name": "stdout",
     "output_type": "stream",
     "text": [
      "Hi Ossama, your height is 172.16\n"
     ]
    }
   ],
   "source": [
    "print (\"Hi %(Name)s, your height is %(height).2f\" %{'Name':\"Ossama\", 'height': 172.156783})"
   ]
  },
  {
   "cell_type": "markdown",
   "metadata": {
    "id": "ZFkCrz6ThyCN"
   },
   "source": [
    "Replacement Field {}"
   ]
  },
  {
   "cell_type": "code",
   "execution_count": 5,
   "metadata": {
    "colab": {
     "base_uri": "https://localhost:8080/"
    },
    "id": "JHSzWIZ3h3nV",
    "outputId": "8d558d29-8931-47ef-aa68-d70a122c9f1f"
   },
   "outputs": [
    {
     "name": "stdout",
     "output_type": "stream",
     "text": [
      "The price is 1920.345\n"
     ]
    }
   ],
   "source": [
    "x = \"price is\"\n",
    "print (\"{1} {0} {2}\".format(x, \"The\", 1920.345))"
   ]
  },
  {
   "cell_type": "code",
   "execution_count": 10,
   "metadata": {
    "colab": {
     "base_uri": "https://localhost:8080/"
    },
    "id": "road6CGEg6Kw",
    "outputId": "ea21746b-06dd-46fe-9c59-4e0abedd5896"
   },
   "outputs": [
    {
     "name": "stdout",
     "output_type": "stream",
     "text": [
      "or This is another 9\n"
     ]
    }
   ],
   "source": [
    "w=9\n",
    "print (\"{1[1]} {0} {1[2]} {2[test]} {3}\".format(\"This\", [\"a\", \"or\", \"is\"], {\"test\": \"another\"},w))"
   ]
  },
  {
   "cell_type": "markdown",
   "metadata": {
    "id": "vQpq2R8rQDPO"
   },
   "source": [
    "String Slicing and Concatenation"
   ]
  },
  {
   "cell_type": "code",
   "execution_count": 3,
   "metadata": {
    "colab": {
     "base_uri": "https://localhost:8080/"
    },
    "id": "yFSXVvUTQHjO",
    "outputId": "61885e92-23e2-4e19-9e0a-a7208cc883b7"
   },
   "outputs": [
    {
     "name": "stdout",
     "output_type": "stream",
     "text": [
      "var1[0]: W\n",
      "var2[1:5]: ytho\n",
      "var2[:5]: Pytho\n"
     ]
    }
   ],
   "source": [
    "var1 = 'Welcome to India'\n",
    "var2 = \"Python Programming\"\n",
    "print (\"var1[0]:\", var1[0])\n",
    "print (\"var2[1:5]:\", var2[1:5])\n",
    "print(\"var2[:5]:\", var2[:5])"
   ]
  },
  {
   "cell_type": "code",
   "execution_count": 1,
   "metadata": {
    "id": "KYh3ZrkyQ5cO"
   },
   "outputs": [
    {
     "name": "stdout",
     "output_type": "stream",
     "text": [
      "Hello World\n"
     ]
    }
   ],
   "source": [
    "st1=\"Hello\"\n",
    "st2=' World'\n",
    "fullst=st1 + st2\n",
    "print (fullst)"
   ]
  },
  {
   "cell_type": "code",
   "execution_count": 11,
   "metadata": {
    "id": "c66ZMXueRHLG"
   },
   "outputs": [
    {
     "name": "stdout",
     "output_type": "stream",
     "text": [
      "a\n",
      "n\n",
      "6\n"
     ]
    }
   ],
   "source": [
    "fruit = 'banana'\n",
    "letter= fruit[1]\n",
    "print (letter)\n",
    "index=3\n",
    "w = fruit[index-1]\n",
    "print (w)\n",
    "print (len(fruit))"
   ]
  },
  {
   "cell_type": "markdown",
   "metadata": {
    "id": "icevxx7dSMyM"
   },
   "source": [
    "String Convertions and Formatting Strings"
   ]
  },
  {
   "cell_type": "code",
   "execution_count": 12,
   "metadata": {
    "id": "VZCfUHTxSUcm"
   },
   "outputs": [
    {
     "name": "stdout",
     "output_type": "stream",
     "text": [
      "124\n"
     ]
    }
   ],
   "source": [
    "#Convert string to int\n",
    "str3 = '123'\n",
    "str3= int (str3)+1\n",
    "print(str3)"
   ]
  },
  {
   "cell_type": "code",
   "execution_count": 2,
   "metadata": {},
   "outputs": [
    {
     "name": "stdout",
     "output_type": "stream",
     "text": [
      "Enter your name: Suresh\n",
      "Enter your age: 34\n",
      "Name: Suresh \t Age:35\n"
     ]
    }
   ],
   "source": [
    "#Read and convert data\n",
    "name=input('Enter your name: ')\n",
    "age=input('Enter your age: ')\n",
    "age= int(age) + 1\n",
    "print (\"Name: %s\"% name ,\"\\t Age:%d\"% age)"
   ]
  },
  {
   "cell_type": "markdown",
   "metadata": {
    "id": "-A5Cz2n5TCjZ"
   },
   "source": [
    "Loop through Strings"
   ]
  },
  {
   "cell_type": "code",
   "execution_count": 2,
   "metadata": {
    "id": "8fJlWYYQTs-H"
   },
   "outputs": [
    {
     "name": "stdout",
     "output_type": "stream",
     "text": [
      "0 b\n",
      "1 a\n",
      "2 n\n",
      "3 a\n",
      "4 n\n",
      "5 a\n"
     ]
    }
   ],
   "source": [
    "#Looking through string\n",
    "fruit ='banana'\n",
    "index=0\n",
    "while index< len(fruit):\n",
    "  letter = fruit [index]\n",
    "  print(index, letter)\n",
    "  index = index+1"
   ]
  },
  {
   "cell_type": "code",
   "execution_count": 5,
   "metadata": {
    "id": "6iGfDk-w3fHC"
   },
   "outputs": [
    {
     "name": "stdout",
     "output_type": "stream",
     "text": [
      "\n",
      "Printing in reverse order\n",
      "5 a\n",
      "4 n\n",
      "3 a\n",
      "2 n\n",
      "1 a\n",
      "0 b\n"
     ]
    }
   ],
   "source": [
    "fruit ='banana'\n",
    "print (\"\\nPrinting in reverse order\")\n",
    "index=len(fruit)-1\n",
    "while index>=0 :\n",
    "  letter = fruit [index]\n",
    "  print (index, letter )\n",
    "  index=index-1"
   ]
  },
  {
   "cell_type": "code",
   "execution_count": 4,
   "metadata": {},
   "outputs": [
    {
     "name": "stdout",
     "output_type": "stream",
     "text": [
      "\n",
      "Printing in reverse order\n",
      "-1 a\n",
      "-2 n\n",
      "-3 a\n",
      "-4 n\n",
      "-5 a\n",
      "-6 b\n"
     ]
    }
   ],
   "source": [
    "fruit ='banana'\n",
    "print (\"\\nPrinting in reverse order\")\n",
    "start=-len(fruit)\n",
    "index = -1\n",
    "while index>=start :\n",
    "  letter = fruit [index]\n",
    "  print (index, letter )\n",
    "  index=index+-1"
   ]
  },
  {
   "cell_type": "code",
   "execution_count": 5,
   "metadata": {
    "id": "QAI8rbmM3-35"
   },
   "outputs": [
    {
     "name": "stdout",
     "output_type": "stream",
     "text": [
      "U\n",
      "S\n",
      "A\n"
     ]
    }
   ],
   "source": [
    "Country='USA'\n",
    "for letter in Country:\n",
    "  print (letter)"
   ]
  },
  {
   "cell_type": "code",
   "execution_count": 5,
   "metadata": {
    "id": "LcQmmYh14HUP"
   },
   "outputs": [
    {
     "name": "stdout",
     "output_type": "stream",
     "text": [
      "Number of a in  banana is : 3\n"
     ]
    }
   ],
   "source": [
    "# Looking and counting\n",
    "word='banana'\n",
    "count=0\n",
    "for letter in word:\n",
    "  if letter =='a':\n",
    "    count +=1\n",
    "print (\"Number of a in \", word, \"is :\", count )"
   ]
  },
  {
   "cell_type": "code",
   "execution_count": 6,
   "metadata": {
    "id": "Onh_wh4y4bXt"
   },
   "outputs": [
    {
     "name": "stdout",
     "output_type": "stream",
     "text": [
      "Welc\n",
      "e\n",
      "e to Manipal I\n",
      "Welcome to M\n",
      "lcome to Manipal Institute of Technology\n",
      "Welcome to Manipal Institute of Technology\n",
      "Welcome to Manipal Institute of Technology\n"
     ]
    }
   ],
   "source": [
    "# String Slicing\n",
    "s=\"Welcome to Manipal Institute of Technology\"\n",
    "print (s[0:4])\n",
    "print (s[6:7])\n",
    "print (s[6:20])\n",
    "print (s[:12])\n",
    "print (s[2:])\n",
    "print (s [:])\n",
    "print (s)"
   ]
  },
  {
   "cell_type": "markdown",
   "metadata": {
    "id": "1ki9iYnm42vT"
   },
   "source": [
    "String Functions and Methods"
   ]
  },
  {
   "cell_type": "code",
   "execution_count": 2,
   "metadata": {
    "id": "gw1yNmzQ5ABS"
   },
   "outputs": [
    {
     "name": "stdout",
     "output_type": "stream",
     "text": [
      " HIGHER COLLEGES OF TECHNOLOGY \n",
      " higher colleges of technology \n",
      "welcome to\n",
      "31\n",
      "3\n",
      "1\n"
     ]
    }
   ],
   "source": [
    "var1 =' Higher Colleges of Technology '\n",
    "var2='College'\n",
    "var3='g'\n",
    "print (var1.upper())\n",
    "print (var1.lower())\n",
    "print ('WELCOME TO'.lower())\n",
    "print (len(var1))\n",
    "print (var1.count(var3, 2, 29) ) # find how many g letters in var1\n",
    "print ( var2.count(var3) )"
   ]
  },
  {
   "cell_type": "code",
   "execution_count": 40,
   "metadata": {
    "id": "blMcm7uP6x2B"
   },
   "outputs": [
    {
     "name": "stdout",
     "output_type": "stream",
     "text": [
      "False\n",
      "21\n",
      "Higher Colleges of Technology \n",
      " Higher Colleges of Technology\n",
      "Higher Colleges of Technology\n",
      "\n",
      "\n",
      " Higher University of Technology \n"
     ]
    }
   ],
   "source": [
    "var1 =' Higher Colleges of Technology '\n",
    "print (var1.startswith('O'))\n",
    "print (var1.find('ec'))\n",
    "print (var1.lstrip()) # It removes all leading whitespace of a string in var1\n",
    "print (var1.rstrip()) # It removes all trailing whitespace of a string in var1\n",
    "print (var1.strip()) # It removes all leading and trailing whitespace\n",
    "print ('\\n')\n",
    "print (var1.replace('Colleges', 'University'))"
   ]
  },
  {
   "cell_type": "code",
   "execution_count": 10,
   "metadata": {
    "id": "kHA2XV897G60"
   },
   "outputs": [
    {
     "name": "stdout",
     "output_type": "stream",
     "text": [
      "True\n",
      "False\n"
     ]
    }
   ],
   "source": [
    "var1 =' Higher Colleges of Technology '\n",
    "var2='College'\n",
    "var3='g'\n",
    "print ( var2 in var1)\n",
    "print ( var2 not in var1)"
   ]
  },
  {
   "cell_type": "code",
   "execution_count": 41,
   "metadata": {
    "id": "J-LSVgN47hpL"
   },
   "outputs": [
    {
     "name": "stdout",
     "output_type": "stream",
     "text": [
      "\n",
      "<<<<<<<<<<<<<<>>>>>>>>>>>>>\n",
      "19\n",
      "From ossama.embarak\n",
      "6\n",
      "['From', 'ossama.embarak']\n",
      "OSSAMA EMBARAK\n",
      "\n",
      "<<<<<<<<<<<<<<>>>>>>>>>>>>>\n"
     ]
    }
   ],
   "source": [
    "#Parsing and Extracting strings\n",
    "Maindata = 'From ossama.embarak@hct.ac.ae Sunday Jan 4 09:30:50 2017' \n",
    "atpost = Maindata.find('@')\n",
    "print (\"\\n<<<<<<<<<<<<<<>>>>>>>>>>>>>\")\n",
    "print (atpost)\n",
    "print (Maindata[ :atpost])\n",
    "data = Maindata[ :atpost]\n",
    "p= Maindata.count(\" \")\n",
    "print(p)\n",
    "name=data.split(' ')\n",
    "print (name)\n",
    "print (name[1].replace('.', ' ').upper())\n",
    "print (\"\\n<<<<<<<<<<<<<<>>>>>>>>>>>>>\")"
   ]
  },
  {
   "cell_type": "code",
   "execution_count": 5,
   "metadata": {
    "id": "9k-fJ2iu7zp7"
   },
   "outputs": [
    {
     "name": "stdout",
     "output_type": "stream",
     "text": [
      "OSSAMA EMBARAK\n",
      "\n",
      "<<<<<<<<<<<<<<>>>>>>>>>>>>>\n",
      "29\n",
      "From ossama.embarak@hct.ac.ae\n",
      "hct.ac.ae\n",
      "\n",
      "<<<<<<<<<<<<<<>>>>>>>>>>>>>\n"
     ]
    }
   ],
   "source": [
    "Maindata = 'From ossama.embarak@hct.ac.ae Sunday Jan 4 09:30:50 2017'\n",
    "name= Maindata[ :atpost].replace('From','').upper()\n",
    "print (name.replace('.',' ').upper().lstrip())\n",
    "print (\"\\n<<<<<<<<<<<<<<>>>>>>>>>>>>>\")\n",
    "sppos=Maindata.find(' ', atpost)\n",
    "print (sppos)\n",
    "print (Maindata[ :sppos])\n",
    "host = Maindata [atpost + 1 : sppos ]\n",
    "print (host)\n",
    "print (\"\\n<<<<<<<<<<<<<<>>>>>>>>>>>>>\")"
   ]
  },
  {
   "cell_type": "markdown",
   "metadata": {},
   "source": [
    "Functions"
   ]
  },
  {
   "cell_type": "markdown",
   "metadata": {},
   "source": [
    "Built-in Functions"
   ]
  },
  {
   "cell_type": "code",
   "execution_count": 1,
   "metadata": {
    "scrolled": true
   },
   "outputs": [
    {
     "name": "stdout",
     "output_type": "stream",
     "text": [
      "hello\n",
      "hello 1 2 3\n"
     ]
    }
   ],
   "source": [
    "print('hello')\n",
    "print('hello', 1, 2, 3)"
   ]
  },
  {
   "cell_type": "code",
   "execution_count": 42,
   "metadata": {},
   "outputs": [
    {
     "data": {
      "text/plain": [
       "3"
      ]
     },
     "execution_count": 42,
     "metadata": {},
     "output_type": "execute_result"
    }
   ],
   "source": [
    "len(\"hello\")\n",
    "len(['a', 'b', 'c'])"
   ]
  },
  {
   "cell_type": "code",
   "execution_count": 43,
   "metadata": {},
   "outputs": [
    {
     "data": {
      "text/plain": [
       "'5'"
      ]
     },
     "execution_count": 43,
     "metadata": {},
     "output_type": "execute_result"
    }
   ],
   "source": [
    "int(\"5\")\n",
    "str(5)"
   ]
  },
  {
   "cell_type": "code",
   "execution_count": 51,
   "metadata": {},
   "outputs": [
    {
     "data": {
      "text/plain": [
       "302"
      ]
     },
     "execution_count": 51,
     "metadata": {},
     "output_type": "execute_result"
    }
   ],
   "source": [
    "#Counting the digits in a number\n",
    "len(str(12345))\n",
    "len(str(2 ** 100))\n",
    "len(str(2 ** 1000))"
   ]
  },
  {
   "cell_type": "markdown",
   "metadata": {},
   "source": [
    "User Defined / Custom Functions"
   ]
  },
  {
   "cell_type": "code",
   "execution_count": 52,
   "metadata": {},
   "outputs": [
    {
     "data": {
      "text/plain": [
       "25"
      ]
     },
     "execution_count": 52,
     "metadata": {},
     "output_type": "execute_result"
    }
   ],
   "source": [
    "def square(x):\n",
    "   return x * x\n",
    "\n",
    "square(5)\n"
   ]
  },
  {
   "cell_type": "code",
   "execution_count": 53,
   "metadata": {},
   "outputs": [
    {
     "data": {
      "text/plain": [
       "13"
      ]
     },
     "execution_count": 53,
     "metadata": {},
     "output_type": "execute_result"
    }
   ],
   "source": [
    "def sum_of_squares(x, y):\n",
    "   return square(x) + square(y)\n",
    "\n",
    "sum_of_squares(2, 3)"
   ]
  },
  {
   "cell_type": "code",
   "execution_count": 54,
   "metadata": {},
   "outputs": [
    {
     "data": {
      "text/plain": [
       "16"
      ]
     },
     "execution_count": 54,
     "metadata": {},
     "output_type": "execute_result"
    }
   ],
   "source": [
    "#Functions are just like other values, they can assigned, passed as arguments to other functions etc.\n",
    "f = square\n",
    "f(4)"
   ]
  },
  {
   "cell_type": "code",
   "execution_count": 4,
   "metadata": {},
   "outputs": [
    {
     "data": {
      "text/plain": [
       "13"
      ]
     },
     "execution_count": 4,
     "metadata": {},
     "output_type": "execute_result"
    }
   ],
   "source": [
    "def fxy(f, x, y):\n",
    "    return f(x) + f(y)\n",
    "\n",
    "fxy(square, 2, 3)"
   ]
  },
  {
   "cell_type": "code",
   "execution_count": 55,
   "metadata": {},
   "outputs": [
    {
     "name": "stdout",
     "output_type": "stream",
     "text": [
      "0 0 6\n"
     ]
    }
   ],
   "source": [
    "#Scope of variables used in functions\n",
    "x = 0\n",
    "y = 0\n",
    "def incr(x):\n",
    "    y = x + 1\n",
    "    return y\n",
    "z=incr(5)\n",
    "print(x, y,z)"
   ]
  },
  {
   "cell_type": "code",
   "execution_count": 57,
   "metadata": {},
   "outputs": [],
   "source": [
    "#Global variables\n",
    "pi = 3.14\n",
    "def area(r):\n",
    "    return pi * r * r"
   ]
  },
  {
   "cell_type": "code",
   "execution_count": 59,
   "metadata": {},
   "outputs": [
    {
     "name": "stdout",
     "output_type": "stream",
     "text": [
      "16\n",
      "1\n"
     ]
    }
   ],
   "source": [
    "#However, you have to explicitly declare a variable as global to modify it.\n",
    "numcalls = 0\n",
    "def square(x):\n",
    "    global numcalls\n",
    "    numcalls = numcalls + 1\n",
    "    return x * x\n",
    "print(square(4))\n",
    "print(numcalls)"
   ]
  },
  {
   "cell_type": "markdown",
   "metadata": {},
   "source": [
    "Anonymous Functions"
   ]
  },
  {
   "cell_type": "markdown",
   "metadata": {},
   "source": [
    "Notice that unlike function defination, lambda doesn’t need a return. The body of the lambda is a single expression.\n",
    "\n",
    "The lambda operator becomes handy when writing small functions to be passed as arguments etc.  "
   ]
  },
  {
   "cell_type": "code",
   "execution_count": 5,
   "metadata": {},
   "outputs": [
    {
     "name": "stdout",
     "output_type": "stream",
     "text": [
      "The summation of 7 + 10 =  17\n"
     ]
    }
   ],
   "source": [
    "summation=lambda val1, val2: val1 + val2   #Call summation as a function\n",
    "print (\"The summation of 7 + 10 = \", summation(7,10) )"
   ]
  },
  {
   "cell_type": "code",
   "execution_count": 16,
   "metadata": {},
   "outputs": [
    {
     "data": {
      "text/plain": [
       "10"
      ]
     },
     "execution_count": 16,
     "metadata": {},
     "output_type": "execute_result"
    }
   ],
   "source": [
    "result = lambda x, y : x * y\n",
    "result(2,5)"
   ]
  },
  {
   "cell_type": "code",
   "execution_count": 6,
   "metadata": {},
   "outputs": [
    {
     "name": "stdout",
     "output_type": "stream",
     "text": [
      "[60.44, 77.0, 86.9, 77.0]\n",
      "[15.799999999999999, 25.0, 30.500000000000004, 25.0]\n"
     ]
    }
   ],
   "source": [
    "#map() function apply a specific fn on a sequence\n",
    "#r = map(func, seq)\n",
    "def fahrenheit(T):\n",
    "    return ((float(9)/5)*T + 32)\n",
    "def celsius(T):\n",
    "    return (float(5)/9)*(T-32)\n",
    "Temp = (15.8, 25, 30.5,25)\n",
    "F = list ( map(fahrenheit, Temp))\n",
    "C = list ( map(celsius, F))\n",
    "#F = list ( map(lambda T: (float(9)/5)*T + 32, Temp))\n",
    "#C = list ( map(lambda T: (float(5)/9)*(T-32), F))\n",
    "print (F)\n",
    "print (C)\n"
   ]
  },
  {
   "cell_type": "code",
   "execution_count": 6,
   "metadata": {},
   "outputs": [
    {
     "name": "stdout",
     "output_type": "stream",
     "text": [
      "<filter object at 0x000001CDEB566160>\n",
      "0\n",
      "2\n",
      "8\n",
      "34\n"
     ]
    }
   ],
   "source": [
    "#filter function,filters out all elements of the list\n",
    "#for which the applied function returns true\n",
    "fib = [0,1,1,2,3,5,8,13,21,34,55]\n",
    "result = filter(lambda x: x % 2==0, fib)\n",
    "for x in result:\n",
    "    print(x)"
   ]
  },
  {
   "cell_type": "code",
   "execution_count": 8,
   "metadata": {},
   "outputs": [
    {
     "data": {
      "text/plain": [
       "102"
      ]
     },
     "execution_count": 8,
     "metadata": {},
     "output_type": "execute_result"
    }
   ],
   "source": [
    "#reduce() cotinutuosly applies the function on a sequence and returns a value\n",
    "from functools import reduce\n",
    "f = lambda a,b: a if (a > b) else b\n",
    "reduce(f, [47,11,42,102,13])"
   ]
  },
  {
   "cell_type": "code",
   "execution_count": 9,
   "metadata": {},
   "outputs": [
    {
     "data": {
      "text/plain": [
       "113"
      ]
     },
     "execution_count": 9,
     "metadata": {},
     "output_type": "execute_result"
    }
   ],
   "source": [
    "reduce(lambda x,y: x+y, [47,11,42,13])"
   ]
  },
  {
   "cell_type": "code",
   "execution_count": 24,
   "metadata": {},
   "outputs": [
    {
     "name": "stdout",
     "output_type": "stream",
     "text": [
      "Original List:  [11, 22, 33, 44, 55, 66, 77, 111, 222]\n",
      "Filtered list:  [11, 22, 33, 44, 55, 66, 77]\n",
      "mapped list:  [1, 2, 3, 4, 5, 6, 7]\n",
      "reduced value:  28\n"
     ]
    }
   ],
   "source": [
    "#For a given sequence of numbers, apply filter, map and reduce\n",
    "from functools import reduce\n",
    "l = [11, 22, 33, 44, 55, 66, 77, 111, 222]\n",
    "print(\"Original List: \",l)\n",
    "\n",
    "lf= list(filter(lambda x:x<100, l))\n",
    "print(\"Filtered list: \",lf)\n",
    "\n",
    "lm= list(map(lambda x: x//10, lf))\n",
    "print(\"mapped list: \",lm)\n",
    "\n",
    "lr= reduce(lambda x,y: x+y, lm)\n",
    "print(\"reduced value: \",lr)"
   ]
  },
  {
   "cell_type": "markdown",
   "metadata": {},
   "source": [
    "Exercise Problems"
   ]
  },
  {
   "cell_type": "code",
   "execution_count": null,
   "metadata": {},
   "outputs": [],
   "source": [
    "#Exercise 1: Arithmetic Operation\n",
    "\n",
    "n1=int(input('First No: '))\n",
    "n2=int(input('Second No:'))\n",
    "print('n1+n2: ',n1+n2)\n",
    " \n",
    "print('n1-n2: ',n1-n2)\n",
    " \n",
    "print('n1*n2: ',n1*n2)\n",
    " \n",
    "print('n1/n2:',n1/n2)"
   ]
  },
  {
   "cell_type": "code",
   "execution_count": null,
   "metadata": {
    "id": "_6bIco_b7KbN"
   },
   "outputs": [],
   "source": [
    "x=input(\"Enter First No.\")\n",
    "y=input(\"Enter Second No\")\n",
    "a=int(x)+int(y)\n",
    "b=int(x)-int(y)\n",
    "c=int(x)*int(y)\n",
    "d=int(x)/int(y)\n",
    "print(\"x+y: \",a)\n",
    "print(\"x-y: \",b)\n",
    "print(\"x*y: \",c)\n",
    "print(\"x/y: \",d)"
   ]
  },
  {
   "cell_type": "code",
   "execution_count": 1,
   "metadata": {
    "id": "vCtf0hJOu5TL"
   },
   "outputs": [
    {
     "name": "stdout",
     "output_type": "stream",
     "text": [
      "Enter Side A3\n",
      "Enter Side B5\n",
      "Enter Side C4\n",
      "Area:  18.0\n"
     ]
    }
   ],
   "source": [
    "#Exercise 2: Area of a triangle\n",
    "A=input(\"Enter Side A\")\n",
    "B=input(\"Enter Side B\")\n",
    "C=input(\"Enter Side C\")\n",
    "A=int(A);B=int(B); C=int(C)\n",
    "s=(A+B+C)/2\n",
    "Area=(s*(s-A)*(s-B)*(s-C))**1/2\n",
    "print(\"Area: \",Area)\n"
   ]
  },
  {
   "cell_type": "code",
   "execution_count": null,
   "metadata": {
    "id": "_IjQykXyzsit"
   },
   "outputs": [],
   "source": [
    "#Exercise 3:Calculate Gross Pay\n",
    "wH=input(\"Working Hours: \")\n",
    "r=input(\"Enter rate per hour: \")\n",
    "wH=int(wH)\n",
    "r=float(r)\n",
    "sal=((wH*r)+((wH-30)*r*0.5))\n",
    "print(\"salary: \",sal)"
   ]
  },
  {
   "cell_type": "markdown",
   "metadata": {
    "id": "vc95d3KFkUD4"
   },
   "source": [
    "With try and except"
   ]
  },
  {
   "cell_type": "code",
   "execution_count": null,
   "metadata": {
    "id": "RExddD3Ii3bG"
   },
   "outputs": [],
   "source": [
    "HFlag = True\n",
    "rFlag = True\n",
    "while HFlag=Ture and rFlag = Ture:\n",
    "  try:\n",
    "    wH=int(input(\"Working Hours: \"))\n",
    "    HFlag=False\n",
    "  except:\n",
    "    print(Wrong Hour Value!)\n",
    "  try:\n",
    "    r=float(input(\"Enter rate per hour: \"))\n",
    "    rFlag = False\n",
    "  except:\n",
    "    print(Wrong rate value)\n",
    " \n",
    "sal=((wH*r)+((wH-30)*r*0.5))\n",
    "print(\"salary: \",sal)"
   ]
  },
  {
   "cell_type": "code",
   "execution_count": null,
   "metadata": {
    "id": "zGFo476121yu"
   },
   "outputs": [],
   "source": [
    "#Exercise 4: Based upon the age display a message\n",
    "age=input(\"Age: \")\n",
    "age=int(age)\n",
    "if age<13:\n",
    "  print(\"Child\")\n",
    "elif age<19:\n",
    "  print(\"Teenager\")\n",
    "elif age<60:\n",
    "  print(\"Adult\")\n",
    "else:\n",
    " print(\"Senior Citizen\")"
   ]
  },
  {
   "cell_type": "code",
   "execution_count": null,
   "metadata": {},
   "outputs": [],
   "source": [
    "#Additional Exercise A: Factorial of n\n",
    "n=int(input(\"Enter  n: \"))\n",
    "nfact = 1\n",
    "while (n>0):\n",
    "    nfact *= n\n",
    "    n=n-1\n",
    "print('nfact: ',nfact)"
   ]
  },
  {
   "cell_type": "code",
   "execution_count": 60,
   "metadata": {},
   "outputs": [
    {
     "name": "stdout",
     "output_type": "stream",
     "text": [
      "143\n"
     ]
    }
   ],
   "source": [
    "from functools import reduce\n",
    "l=[1,5,2,8,33,91,3]\n",
    "print(reduce(lambda x,y:x+y,l ))"
   ]
  },
  {
   "cell_type": "code",
   "execution_count": null,
   "metadata": {},
   "outputs": [],
   "source": [
    "## Additional Exercise B: Find largest and least in a list of numbers\n",
    "l=[1,5,2,8,33,91,3]\n",
    "largest = None\n",
    "least = None\n",
    "for n in l:\n",
    "    if largest == None or n > largest:\n",
    "        largest = n\n",
    "    if least == None or n < least:\n",
    "        least = n\n",
    "print('largest: ', largest)\n",
    "print('leasst: ', least)"
   ]
  },
  {
   "cell_type": "code",
   "execution_count": null,
   "metadata": {},
   "outputs": [],
   "source": [
    "#Additional Exercise C: Arithmetic operation\n",
    "n1=int(input('First No: '))\n",
    "n2=int(input('Second No:'))\n",
    "op=str(input('Arithmetic Operator (+ - * /): '))\n",
    "if op == '+':\n",
    "    print(n1+n2)\n",
    "elif op == '-':\n",
    "    print(n1-n2)\n",
    "elif op=='*':\n",
    "    print(n1*n2)\n",
    "else:\n",
    "    print(n1/n2)"
   ]
  }
 ],
 "metadata": {
  "colab": {
   "collapsed_sections": [],
   "name": "L1.ipynb",
   "provenance": []
  },
  "gpuClass": "standard",
  "kernelspec": {
   "display_name": "Python 3 (ipykernel)",
   "language": "python",
   "name": "python3"
  },
  "language_info": {
   "codemirror_mode": {
    "name": "ipython",
    "version": 3
   },
   "file_extension": ".py",
   "mimetype": "text/x-python",
   "name": "python",
   "nbconvert_exporter": "python",
   "pygments_lexer": "ipython3",
   "version": "3.9.12"
  }
 },
 "nbformat": 4,
 "nbformat_minor": 1
}
