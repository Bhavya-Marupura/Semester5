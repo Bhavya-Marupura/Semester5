{
 "cells": [
  {
   "cell_type": "code",
   "execution_count": 1,
   "id": "eebabffb",
   "metadata": {},
   "outputs": [
    {
     "name": "stdout",
     "output_type": "stream",
     "text": [
      "Shortest Path: ['A', 'F', 'G', 'I', 'J']\n",
      "minimum path=10\n"
     ]
    }
   ],
   "source": [
    "from queue import PriorityQueue\n",
    "graph = {\n",
    "    'A': {'B': 6, 'F': 3},\n",
    "    'B': {'A': 6, 'D': 2, 'C': 3},\n",
    "    'C': {'B': 3, 'D': 1, 'E': 5},\n",
    "    'D': {'B': 2, 'C': 1, 'E': 8},\n",
    "    'E': {'I': 5, 'J': 5, 'C': 5, 'D': 8},\n",
    "    'F': {'H': 7, 'G': 1, 'A': 3},\n",
    "    'G': {'F': 1, 'I': 3},\n",
    "    'H': {'F': 7, 'I': 2},\n",
    "    'I': {'J': 3, 'G': 3, 'H': 2, 'E': 5},\n",
    "    'J': {'E': 5, 'I': 3}\n",
    "}# Define the heuristic function\n",
    "heuristic = {\n",
    "    'A': 10,\n",
    "    'B': 8,\n",
    "    'C': 5,\n",
    "    'D': 7,\n",
    "    'E': 3,\n",
    "    'F': 6,\n",
    "    'G': 5,\n",
    "    'H': 3,\n",
    "    'I': 1,\n",
    "    'J': 0\n",
    "}\n",
    "def bfs(graph, start, goal, heuristic):\n",
    "    frontier = PriorityQueue()\n",
    "    frontier.put(start, 0)\n",
    "    came_from = {}\n",
    "    cost_so_far = {}\n",
    "    came_from[start] = None\n",
    "    cost_so_far[start] = 0\n",
    "    while not frontier.empty():\n",
    "        current = frontier.get()\n",
    "        if current == goal:\n",
    "            break\n",
    "        for neighbor in graph[current]:\n",
    "            new_cost = cost_so_far[current] + graph[current][neighbor]\n",
    "            if neighbor not in cost_so_far or new_cost < cost_so_far[neighbor]:\n",
    "                cost_so_far[neighbor] = new_cost\n",
    "                priority = new_cost + heuristic[neighbor]\n",
    "                frontier.put(neighbor, priority)\n",
    "                came_from[neighbor] = current\n",
    "    path = []\n",
    "    current = goal\n",
    "    while current != start:\n",
    "        path.append(current)\n",
    "        current = came_from[current]\n",
    "    path.append(start)\n",
    "    path.reverse()\n",
    "    return path\n",
    "shortest_path = bfs(graph, 'A', 'J', heuristic)\n",
    "print(\"Shortest Path:\", shortest_path)\n",
    "sum=0\n",
    "for i in range(len(shortest_path)-1):\n",
    "    sum=sum+graph[shortest_path[i]][shortest_path[i+1]]\n",
    "print(f\"minimum path={sum}\")"
   ]
  },
  {
   "cell_type": "code",
   "execution_count": null,
   "id": "e33d7fb2",
   "metadata": {},
   "outputs": [],
   "source": []
  }
 ],
 "metadata": {
  "kernelspec": {
   "display_name": "Python 3 (ipykernel)",
   "language": "python",
   "name": "python3"
  },
  "language_info": {
   "codemirror_mode": {
    "name": "ipython",
    "version": 3
   },
   "file_extension": ".py",
   "mimetype": "text/x-python",
   "name": "python",
   "nbconvert_exporter": "python",
   "pygments_lexer": "ipython3",
   "version": "3.10.6"
  }
 },
 "nbformat": 4,
 "nbformat_minor": 5
}
