{
 "cells": [
  {
   "cell_type": "code",
   "execution_count": 1,
   "id": "a0133e3b",
   "metadata": {},
   "outputs": [],
   "source": [
    "'''\n",
    "\"Interpolation\"-- are of 4 types- linear,area,cubic,nearest\n",
    "nearest taskes the value of the nearest neighbour\n",
    "contrast values in cubic are more than linear.\n",
    "\"Rotation\"\n",
    "\"Translation\"\n",
    "'''\n",
    "import cv2\n",
    "import numpy as np\n",
    "import matplotlib.pyplot as plt\n",
    "img=cv2.imread('Radhe-Krishna.jpg')\n",
    "#img = cv2.resize(img,(400,400), interpolation = cv2.INTER_AREA)\n",
    "cv2.imshow('Radha',img)\n",
    "cv2.waitKey(0)\n",
    "cv2.destroyAllWindows()"
   ]
  },
  {
   "cell_type": "code",
   "execution_count": 2,
   "id": "543c7f5d",
   "metadata": {},
   "outputs": [
    {
     "data": {
      "text/plain": [
       "\"cv2.imshow('Motion',output_motion)\\ncv2.imshow('Identity',output1)\\ncv2.imshow('3X3',output2)\\ncv2.imshow('11X11',output3)\\ncv2.waitKey(0)\\ncv2.destroyAllWindows()\""
      ]
     },
     "execution_count": 2,
     "metadata": {},
     "output_type": "execute_result"
    }
   ],
   "source": [
    "#convolution\n",
    "kernel_identity=np.array([[0,0,0],[0,1,0],[0,0,0]])\n",
    "kernel_5=np.ones((5,5),dtype=np.float32)/25.0\n",
    "kernel_11=np.ones((11,11),dtype=np.float32)/121.0\n",
    "output1=cv2.filter2D(img,-1,kernel_identity)\n",
    "output2=cv2.filter2D(img,-1,kernel_5)\n",
    "output3=cv2.filter2D(img,-1,kernel_11)\n",
    "#Motion Blurring\n",
    "size=15\n",
    "motion=np.zeros((size,size))\n",
    "motion[int((size-1)/2), : ]=np.ones(size)\n",
    "motion=motion/size;\n",
    "output_motion=cv2.filter2D(img,-1,motion)\n",
    "'''cv2.imshow('Motion',output_motion)\n",
    "cv2.imshow('Identity',output1)\n",
    "cv2.imshow('3X3',output2)\n",
    "cv2.imshow('11X11',output3)\n",
    "cv2.waitKey(0)\n",
    "cv2.destroyAllWindows()'''"
   ]
  },
  {
   "cell_type": "code",
   "execution_count": 3,
   "id": "429ab9f5",
   "metadata": {},
   "outputs": [],
   "source": [
    "#BLURRING\n",
    "#Kernel Blurring\n",
    "kernel_25=np.ones((25,25),dtype=np.float32)/625.0\n",
    "kernel25blur=cv2.filter2D(img,-1,kernel_25)\n",
    "\n",
    "#Box Filter and blur fxn\n",
    "output_blur=cv2.blur(img,(25,25))\n",
    "output_box=cv2.boxFilter(img,-1,(11,11),normalize=True)\n",
    "\n",
    "#Gaussian Blurring -- far better than averaging\n",
    "#Priority id given to nearby pixels while applying burring affect than compared to far away pixels\n",
    "output_gaus=cv2.GaussianBlur(img,(11,11),0)\n",
    "output_gaus1=cv2.GaussianBlur(img,(11,11),5)\n",
    "#Median Blur -- for removing noise\n",
    "output_med=cv2.medianBlur(img,11)\n",
    "\n",
    "#Bilateral Blur -- reduction of noise + preserving edges\n",
    "#more the sigmacolor the more it considers the nearby colors as a single color\n",
    "\n",
    "output_bil=cv2.bilateralFilter(img,5,6,6)\n",
    "\n",
    "'''cv2.imshow('Kernel blur',kernel25blur)\n",
    "cv2.imshow('Blur op',output_blur)\n",
    "cv2.imshow('Gaussian op',output_gaus)\n",
    "cv2.imshow('Median op',output_med)\n",
    "cv2.imshow('Box blur',output_box)\n",
    "cv2.imshow('Bilateral blur',output_bil)'''\n",
    "cv2.waitKey(0)\n",
    "cv2.destroyAllWindows()"
   ]
  },
  {
   "cell_type": "code",
   "execution_count": 4,
   "id": "3ffad667",
   "metadata": {},
   "outputs": [
    {
     "data": {
      "text/plain": [
       "'cv2.imshow(\"original\",img)\\ncv2.imshow(\"sharpened 1\",sharpened1)\\ncv2.imshow(\"sharpened 2\",sharp)\\ncv2.imshow(\"sharpened 3\",sharp_addsub)\\ncv2.waitKey(0)\\ncv2.destroyAllWindows()'"
      ]
     },
     "execution_count": 4,
     "metadata": {},
     "output_type": "execute_result"
    }
   ],
   "source": [
    "#SHARPENING\n",
    "gaus_blur=cv2.GaussianBlur(img,(11,11),0)\n",
    "\n",
    "#sharpening using addweighted\n",
    "sharpened1=cv2.addWeighted(img,5.5,gaus_blur,-4.5,0)\n",
    "#gamma for increasing intensity\n",
    "\n",
    "#unmasked sharping\n",
    "sharp=img+(img-gaus_blur)\n",
    "sub=cv2.subtract(img,gaus_blur)\n",
    "sharp_addsub=cv2.add(sub,img)\n",
    "'''cv2.imshow(\"original\",img)\n",
    "cv2.imshow(\"sharpened 1\",sharpened1)\n",
    "cv2.imshow(\"sharpened 2\",sharp)\n",
    "cv2.imshow(\"sharpened 3\",sharp_addsub)\n",
    "cv2.waitKey(0)\n",
    "cv2.destroyAllWindows()'''"
   ]
  },
  {
   "cell_type": "code",
   "execution_count": 5,
   "id": "f532820e",
   "metadata": {},
   "outputs": [],
   "source": [
    "'''\n",
    "First order derivative\n",
    "SOBEL-X =[[-1,0,1]\n",
    "          [-2,0,2]\n",
    "          [-1,0,1]]\n",
    "SOBEL-Y =[[-1,-2,-1]\n",
    "          [0,0,0]\n",
    "          [1,2,1]]\n",
    "Scharr filter - enriched output than sobel and first derivative\n",
    "Scharr-X =[[-3,0,3]\n",
    "          [-10,0,10]\n",
    "          [-3,0,3]]\n",
    "Scharr-Y =[[-3,-10,-3]\n",
    "          [0,0,0]\n",
    "          [3,10,3]]\n",
    "Second order derivative\n",
    "Laplace - double edged lines\n",
    "Canny - 5steps\n",
    "1) Noise Reduction\n",
    "2)Gradient Calculation -  gradient is always perpendicular to the edge\n",
    "3)Non Maximum Supression - removing edges present on surface\n",
    "thins out edges. goes through all the points and finds pixels with max value of gradiet in the edge directions\n",
    "4)Double Thresholding\n",
    "removes weak edges and brightens edges greater than max and those that lie between the two thresholds are solved by hysterisis\n",
    "5)Hysterisis - if they are connected to sure edges they are considered to be edges else discarded\n",
    "'''\n",
    "\n",
    "img=cv2.cvtColor(img,cv2.COLOR_BGR2GRAY)\n",
    "cv2.imshow('Original',img)\n",
    "gradient_sobelx=cv2.Sobel(img,-1,1,0)\n",
    "gradient_sobely=cv2.Sobel(img,-1,0,1)\n",
    "sobelxy=cv2.Sobel(img,-1,1,1)\n",
    "gradient_sobelxy=cv2.addWeighted(gradient_sobelx,0.5,gradient_sobely,0.5,0)\n",
    "gradient_laplacian=cv2.Laplacian(img,-1)\n",
    "canny_output=cv2.Canny(img,80,150)\n",
    "\n",
    "sqrt=np.sqrt(gradient_sobelx**2+gradient_sobely**2)\n",
    "sqrt=sqrt.astype(np.uint8)\n",
    "sqrrtt2=cv2.addWeighted(img,1,sqrt,1,0)\n",
    "\n",
    "sharpened = cv2.convertScaleAbs(gradient_laplacian)\n",
    "sharpening_factor = 0.8\n",
    "sharpened_image = cv2.addWeighted(img, 1 + sharpening_factor, sharpened, -sharpening_factor, 0)\n",
    "\n",
    "gradient_x = cv2.Sobel(img, cv2.CV_64F, 1, 0, ksize=3)\n",
    "gradient_y = cv2.Sobel(img, cv2.CV_64F, 0, 1, ksize=3)\n",
    "\n",
    "\n",
    "gradient_magnitude, gradient_angle = cv2.magnitude(gradient_x, gradient_y), cv2.phase(gradient_x, gradient_y, angleInDegrees=True)   #calculate the gradient magnitude\n",
    "'''cv2.imshow(\"Sobel x\",gradient_sobelx)\n",
    "cv2.imshow(\"Sobel y\",gradient_sobely)\n",
    "cv2.imshow(\"Sobel x+y\",gradient_sobelxy)\n",
    "cv2.imshow(\"Sobelxy\",sobelxy)\n",
    "cv2.imshow(\"Laplace sharp\",sharpened_image)\n",
    "cv2.imshow(\"gradient\",sqrrtt2)\n",
    "cv2.imshow(\"Laplacian\",gradient_laplacian)\n",
    "cv2.imshow(\"Canny\",canny_output)\n",
    "'''\n",
    "cv2.imshow('Gradient Magnitude', gradient_magnitude.astype(np.uint8))\n",
    "cv2.imshow('Gradient Angle', gradient_angle.astype(np.uint8))\n",
    "cv2.imshow(\"Sobelxy\",sobelxy)\n",
    "\n",
    "cv2.waitKey(0)\n",
    "cv2.destroyAllWindows()"
   ]
  },
  {
   "cell_type": "code",
   "execution_count": null,
   "id": "64d4642f",
   "metadata": {},
   "outputs": [],
   "source": []
  }
 ],
 "metadata": {
  "kernelspec": {
   "display_name": "Python 3 (ipykernel)",
   "language": "python",
   "name": "python3"
  },
  "language_info": {
   "codemirror_mode": {
    "name": "ipython",
    "version": 3
   },
   "file_extension": ".py",
   "mimetype": "text/x-python",
   "name": "python",
   "nbconvert_exporter": "python",
   "pygments_lexer": "ipython3",
   "version": "3.11.5"
  }
 },
 "nbformat": 4,
 "nbformat_minor": 5
}
